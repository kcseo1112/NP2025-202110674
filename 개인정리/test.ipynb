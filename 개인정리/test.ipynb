{
 "cells": [
  {
   "cell_type": "code",
   "execution_count": 2,
   "id": "6e676645",
   "metadata": {},
   "outputs": [
    {
     "name": "stdout",
     "output_type": "stream",
     "text": [
      "pythonpythonpythonpythonpythonpythonpythonpythonpythonpython\n",
      "6\n",
      "6\n",
      "pyt\n",
      "hon\n",
      "nohtyp\n"
     ]
    }
   ],
   "source": [
    "word=\"python\"\n",
    "print(word*10)\n",
    "print(len(\"python\"))\n",
    "print(len(word))\n",
    "print(word[:3])\n",
    "print(word[-3:])\n",
    "print(word[::-1])   # nohtyP\n"
   ]
  }
 ],
 "metadata": {
  "kernelspec": {
   "display_name": "Python 3",
   "language": "python",
   "name": "python3"
  },
  "language_info": {
   "codemirror_mode": {
    "name": "ipython",
    "version": 3
   },
   "file_extension": ".py",
   "mimetype": "text/x-python",
   "name": "python",
   "nbconvert_exporter": "python",
   "pygments_lexer": "ipython3",
   "version": "3.12.0"
  }
 },
 "nbformat": 4,
 "nbformat_minor": 5
}
