{
 "cells": [
  {
   "cell_type": "markdown",
   "id": "1f92468c",
   "metadata": {},
   "source": [
    "### for 변수 in 자료구조\n",
    "list\n",
    "\n",
    "set(집합)\n",
    "\n",
    "tuple(튜플)\n",
    "\n",
    "dict(딕셔너리): {중괄호} key:value\n",
    "\n",
    "이 네가지 자료구조는 중요하다.\n",
    "\n",
    "shodow copy와  deep copy의 내용\n",
    "그리고 list = [1,2] 를 list2=list를 했을때 list2에는 포인터(주소)만 복사했을 뿐이고 새로운 리스트를 복사해서 생성한것이 아니다"
   ]
  },
  {
   "cell_type": "markdown",
   "id": "b27efc5e",
   "metadata": {},
   "source": [
    "### for 변수 in range 반복문 "
   ]
  },
  {
   "cell_type": "code",
   "execution_count": 1,
   "id": "f7c23130",
   "metadata": {},
   "outputs": [
    {
     "data": {
      "text/plain": [
       "[1, 4, 7]"
      ]
     },
     "execution_count": 1,
     "metadata": {},
     "output_type": "execute_result"
    }
   ],
   "source": [
    "list(range(1,10,3))"
   ]
  },
  {
   "cell_type": "markdown",
   "id": "281939b2",
   "metadata": {},
   "source": [
    "### lamda의 별칭 사용"
   ]
  },
  {
   "cell_type": "code",
   "execution_count": 2,
   "id": "f63386d2",
   "metadata": {},
   "outputs": [
    {
     "data": {
      "text/plain": [
       "3"
      ]
     },
     "execution_count": 2,
     "metadata": {},
     "output_type": "execute_result"
    }
   ],
   "source": [
    "sum = lambda x,y : x+y\n",
    "sum2=sum\n",
    "sum2(1,2)"
   ]
  }
 ],
 "metadata": {
  "kernelspec": {
   "display_name": "Python 3",
   "language": "python",
   "name": "python3"
  },
  "language_info": {
   "codemirror_mode": {
    "name": "ipython",
    "version": 3
   },
   "file_extension": ".py",
   "mimetype": "text/x-python",
   "name": "python",
   "nbconvert_exporter": "python",
   "pygments_lexer": "ipython3",
   "version": "3.12.0"
  }
 },
 "nbformat": 4,
 "nbformat_minor": 5
}
