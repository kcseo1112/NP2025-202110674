{
 "cells": [
  {
   "cell_type": "markdown",
   "id": "1f92468c",
   "metadata": {},
   "source": [
    "### for 변수 in 자료구조\n",
    "list\n",
    "\n",
    "set(집합)\n",
    "\n",
    "tuple(튜플)\n",
    "\n",
    "dict(딕셔너리): {중괄호} key:value\n",
    "\n",
    "이 네가지 자료구조는 중요하다.\n",
    "\n",
    "shodow copy와  deep copy의 내용\n",
    "그리고 list = [1,2] 를 list2=list를 했을때 list2에는 포인터(주소)만 복사했을 뿐이고 새로운 리스트를 복사해서 생성한것이 아니다"
   ]
  },
  {
   "cell_type": "markdown",
   "id": "b27efc5e",
   "metadata": {},
   "source": [
    "---\n",
    "### for 변수 in range 반복문 "
   ]
  },
  {
   "cell_type": "code",
   "execution_count": 1,
   "id": "f7c23130",
   "metadata": {},
   "outputs": [
    {
     "data": {
      "text/plain": [
       "[1, 4, 7]"
      ]
     },
     "execution_count": 1,
     "metadata": {},
     "output_type": "execute_result"
    }
   ],
   "source": [
    "list(range(1,10,3))"
   ]
  },
  {
   "cell_type": "markdown",
   "id": "281939b2",
   "metadata": {},
   "source": [
    "---\n",
    "### lamda의 별칭 사용"
   ]
  },
  {
   "cell_type": "code",
   "execution_count": 2,
   "id": "f63386d2",
   "metadata": {},
   "outputs": [
    {
     "data": {
      "text/plain": [
       "3"
      ]
     },
     "execution_count": 2,
     "metadata": {},
     "output_type": "execute_result"
    }
   ],
   "source": [
    "sum = lambda x,y : x+y\n",
    "sum2=sum\n",
    "sum2(1,2)"
   ]
  },
  {
   "cell_type": "markdown",
   "id": "6198f413",
   "metadata": {},
   "source": [
    "---\n",
    "### 프로그램 제어문\n",
    "1.조건문\n",
    "2.반복문\n",
    "3.기타 제어문"
   ]
  },
  {
   "cell_type": "markdown",
   "id": "50cc4d71",
   "metadata": {},
   "source": [
    "---\n",
    "### if 제어문\n",
    "1. if 문\n",
    "2. if-else 문\n",
    "3. if-elif-else 문"
   ]
  },
  {
   "cell_type": "code",
   "execution_count": 3,
   "id": "2e900036",
   "metadata": {},
   "outputs": [],
   "source": [
    "#if문\n",
    "score = int(input(\"정수 입력:\"))\n",
    "if score >= 90:\n",
    "    print(\"성적 : A\")\n",
    "    print(\"장학금 수여\")\n",
    "\n",
    "age1=22\n",
    "age2=18\n",
    "age =int(input(\"너의 나이는?\"))\n",
    "if age<age1 and age>age2:\n",
    "    print(\"당신의 나이는 18~22세 사이입니다.\")    "
   ]
  },
  {
   "cell_type": "code",
   "execution_count": null,
   "id": "ecf5572a",
   "metadata": {},
   "outputs": [
    {
     "name": "stdout",
     "output_type": "stream",
     "text": [
      "fail\n"
     ]
    }
   ],
   "source": [
    "#if-else 문\n",
    "if score >= 90:\n",
    "    print(\"pass\")\n",
    "else:\n",
    "    print(\"fail\")\n",
    "    \n",
    "#한줄 표현\n",
    "res = 'pass' if score >= 90 else 'fail'\n",
    "print(res)"
   ]
  },
  {
   "cell_type": "markdown",
   "id": "2d2151b2",
   "metadata": {},
   "source": [
    "---\n",
    "### 조건문 예제\n",
    "평년과 윤년 구분하는 프로그램\n",
    "조건: 년도가 4로 나뉘어지고 100으로 나누어지지 않거나 400으로 나뉘어지면 유년이다."
   ]
  },
  {
   "cell_type": "code",
   "execution_count": null,
   "id": "1392a11b",
   "metadata": {},
   "outputs": [
    {
     "name": "stdout",
     "output_type": "stream",
     "text": [
      "윤년이 아니다\n"
     ]
    }
   ],
   "source": [
    "#직접 해결해보기\n",
    "years = int(input(\"년도를 입력하세요\"))\n",
    "if ((years %4==0)and (years % 100 != 0))or(years %400 == 0):\n",
    "    print(years,\"윤년이다\")\n",
    "else:\n",
    "    print('윤년이 아니다')"
   ]
  },
  {
   "cell_type": "markdown",
   "id": "b5493a63",
   "metadata": {},
   "source": [
    "---\n",
    "### 중첩 if문"
   ]
  },
  {
   "cell_type": "code",
   "execution_count": null,
   "id": "5d9d614a",
   "metadata": {},
   "outputs": [],
   "source": [
    "n = int(input(\"type int number : \"))\n",
    "if n > 0 :\n",
    "    print(\"positive\")\n",
    "else:\n",
    "    if n < 0 :\n",
    "        print(\"negative\")\n",
    "    else:\n",
    "        print(\"0\")\n",
    "\n",
    "\n",
    "if n >= 0:\n",
    "    if n == 0:\n",
    "        print(\"0\")\n",
    "    else:\n",
    "        print(\"positive\")\n",
    "else:\n",
    "    print(\"negative\")\n"
   ]
  },
  {
   "cell_type": "markdown",
   "id": "74339193",
   "metadata": {},
   "source": [
    "---\n",
    "### if-elif-else 문"
   ]
  },
  {
   "cell_type": "code",
   "execution_count": null,
   "id": "7eb1e296",
   "metadata": {},
   "outputs": [],
   "source": [
    "n = int(input(\"type int number : \"))\n",
    "if n > 0 :\n",
    "    print(\"positive\")\n",
    "elif n < 0 :\n",
    "    print(\"negative\")\n",
    "else :\n",
    "    print(\"0\")"
   ]
  },
  {
   "cell_type": "code",
   "execution_count": 6,
   "id": "751f04f5",
   "metadata": {},
   "outputs": [
    {
     "name": "stdout",
     "output_type": "stream",
     "text": [
      "Your admission cost is $5.\n"
     ]
    }
   ],
   "source": [
    "age = 12\n",
    "if age < 4:\n",
    "    price = 0\n",
    "elif age < 18:\n",
    "    price = 5\n",
    "elif age < 65:\n",
    "    price = 10\n",
    "else:\n",
    "    price = 5\n",
    "\n",
    "print(\"Your admission cost is $\" + str(price) + \".\")"
   ]
  },
  {
   "cell_type": "markdown",
   "id": "bd28e741",
   "metadata": {},
   "source": [
    "---\n",
    "### while 반복문\n"
   ]
  },
  {
   "cell_type": "code",
   "execution_count": null,
   "id": "d3ff88de",
   "metadata": {},
   "outputs": [],
   "source": [
    "i = 1 #초기화\n",
    "sum = 0\n",
    "while i <= 100 : #조건 판단. 끝에 :를 붙인다\n",
    "    sum = sum + I #블록\n",
    "    i = i + 1 #조건 변경\n",
    "    \n",
    "print(\"sum=\", sum) #블록이 끝나면 다시 들여쓰기를 원래 위치로"
   ]
  },
  {
   "cell_type": "markdown",
   "id": "d71506ae",
   "metadata": {},
   "source": [
    "---\n",
    "### while문 예제\n",
    "10진수를 입력 받아 2진수로 변환하여 출력하는 프로그램\n"
   ]
  },
  {
   "cell_type": "code",
   "execution_count": null,
   "id": "34aa5870",
   "metadata": {},
   "outputs": [
    {
     "name": "stdout",
     "output_type": "stream",
     "text": [
      "1 0 1 0\n",
      "1010\n",
      "1-0-1-0\n"
     ]
    }
   ],
   "source": [
    "#직접 해결해보기\n",
    "n= int(input(\"10진수를 입력하세요\"))\n",
    "list1=[]\n",
    "while(True):\n",
    "    m=n%2\n",
    "    n=n//2\n",
    "    list1.insert(0,m)\n",
    "    if n==0:\n",
    "        break\n",
    "print(*list1) #*을 사용\n",
    "print(*list1, sep=\"\") #sep매개변수를 활용하여 공백제거\n",
    "print(*list1, sep=\"-\") #sep매개변수를 활용하여 -추가\n",
    "\n",
    "\n",
    "\n"
   ]
  },
  {
   "cell_type": "markdown",
   "id": "ae42cf59",
   "metadata": {},
   "source": [
    "list앞에 *을 붙이면 리스트의 요소가 하나씩 풀려서 전달된다. <br>\n",
    "이때 (띄어쓰기)로 구분되는데 ,이때 sep 인자로 구분자를 직접 지정할 수 있다 ***sep***는 ***매개변수***이다"
   ]
  },
  {
   "cell_type": "code",
   "execution_count": 9,
   "id": "6debcda0",
   "metadata": {},
   "outputs": [
    {
     "name": "stdout",
     "output_type": "stream",
     "text": [
      "2진수 = 1010\n"
     ]
    }
   ],
   "source": [
    "n = int(input('Number: '))\n",
    "result = '' #변환 결과 저장\n",
    "#10진수를 2로 나누어 몫이 0이 될 때까지 반복해서 나머지를 구한다\n",
    "while n != 0:\n",
    "    m = n % 2 #나머지\n",
    "    result = str(m) + result #숫자를 문자열로 변환\n",
    "    n = n // 2 #몫\n",
    "print(\"2진수 =\", result)"
   ]
  },
  {
   "cell_type": "markdown",
   "id": "c4f19830",
   "metadata": {},
   "source": [
    "---\n",
    "### for문"
   ]
  },
  {
   "cell_type": "code",
   "execution_count": null,
   "id": "83b20509",
   "metadata": {},
   "outputs": [
    {
     "name": "stdout",
     "output_type": "stream",
     "text": [
      "숫자 1\n",
      "숫자 2\n",
      "숫자 3\n",
      "h\n",
      "e\n",
      "l\n",
      "l\n",
      "o\n",
      "hello\n",
      "\n",
      "h님\n",
      "e님\n",
      "l님\n",
      "l님\n",
      "o님\n"
     ]
    }
   ],
   "source": [
    "for i in [1, 2, 3] : #끝에 :를 붙인다\n",
    "    print(\"숫자\", i)\n",
    "    \n",
    "for i in 'hello':\n",
    "    print(i)\n",
    "    \n",
    "for i in 'hello':\n",
    "    print(i,end=\"\") #end 매개변수를 사용하여 줄바꿈없이 출력\n",
    "print(\"\\n\")\n",
    "for i in 'hello':\n",
    "    print(i,end=\"님\\n\") #end 매개변수를 사용하여 출력 끝에 붙는 문자열 추가"
   ]
  },
  {
   "cell_type": "markdown",
   "id": "927bcad8",
   "metadata": {},
   "source": [
    "---\n",
    "### for-range 문\n",
    "#### range(start,stop,step)사용시 확인점<br>\n",
    "1. range의 범위는 start 부터 stop의 -1 이다.\n",
    "2. step을 생략하면 자동으로 1씩 증가한다.\n",
    "3. step에는 양수, 음수가 들어갈 수 있으며 증가폭이 1일 필요는 없다 (2도 가능 -3도 가능)\n",
    "4. c에서는 증감식을 0으로 두면 무한루프를 만들 수 있지만 파이썬에서는 error로 무한루프를 막았다. (무한루프는 while True로 사용하자)"
   ]
  },
  {
   "cell_type": "code",
   "execution_count": 26,
   "id": "0e9a1890",
   "metadata": {},
   "outputs": [
    {
     "name": "stdout",
     "output_type": "stream",
     "text": [
      "sum =  5050\n"
     ]
    }
   ],
   "source": [
    "sum = 0 \n",
    "for i in range(1,101,1): \n",
    "    sum=sum+i\n",
    "\n",
    "print(\"sum = \",sum)"
   ]
  },
  {
   "cell_type": "code",
   "execution_count": 27,
   "id": "6bab56c5",
   "metadata": {},
   "outputs": [
    {
     "name": "stdout",
     "output_type": "stream",
     "text": [
      "9.0\n"
     ]
    }
   ],
   "source": [
    "x = float(input('Type x : '))\n",
    "n = int(input('Type n : '))\n",
    "prod = 1\n",
    "for i in range(1, n+1):\n",
    "    prod = prod * x\n",
    "    \n",
    "print(prod)"
   ]
  },
  {
   "cell_type": "markdown",
   "id": "cbe3c23c",
   "metadata": {},
   "source": [
    "---\n",
    "### 중첩 반복문\n"
   ]
  },
  {
   "cell_type": "code",
   "execution_count": null,
   "id": "1fa9b8e1",
   "metadata": {},
   "outputs": [],
   "source": [
    "for i in range(2, 10, 1) :\n",
    "    for j in range(1, 10, 1):\n",
    "        print(\"%d x %d = %d\" %(i, j, i*j))"
   ]
  },
  {
   "cell_type": "code",
   "execution_count": null,
   "id": "5e278927",
   "metadata": {},
   "outputs": [],
   "source": [
    "while True : #조건이 항상 참이다\n",
    "    print(\"last forever\") #무한 반복문을 중리하려면 ctrl-c"
   ]
  },
  {
   "cell_type": "markdown",
   "id": "ed3e67f1",
   "metadata": {},
   "source": [
    "---\n",
    "### 제어문 예제\n",
    "1~100 사이의 난수를 만들고 사용자가 1~100 사이의 수를 입력하여 맞추는 프로그램. 5회까지 맞추지 못하면 종료\n"
   ]
  },
  {
   "cell_type": "code",
   "execution_count": null,
   "id": "9eacc9d2",
   "metadata": {},
   "outputs": [],
   "source": [
    "from random import randint\n",
    "secret_num = randint(1,100)\n",
    "num_guesses = 0 #시도 회수\n",
    "guess = 0 #예상 숫자\n",
    "while guess != secret_num and num_guesses <= 4:\n",
    "    guess = eval(input('Enter your guess (1-100): ')) #수 입력\n",
    "    num_guesses = num_guesses + 1 #시도 횟수 증가\n",
    "    if guess < secret_num: #정답이 클 때\n",
    "        print('더 큽니다.', 5-num_guesses, '회 남았습니다.\\n')\n",
    "    elif guess > secret_num: #정답이 작을 때\n",
    "        print('더 작습니다.', 5-num_guesses, '회 남았습니다.\\n')\n",
    "    else: #정답\n",
    "        print('맞았습니다!')\n",
    "    \n",
    "if num_guesses==5 and guess != secret_num: #맞추지 못한 경우\n",
    "    print('당신이 졌습니다. 정답은 ', secret_num, '입니다')"
   ]
  },
  {
   "cell_type": "code",
   "execution_count": 32,
   "id": "f2ef15c9",
   "metadata": {},
   "outputs": [
    {
     "name": "stdout",
     "output_type": "stream",
     "text": [
      "보다 높습니다. 4 회 남았습니다.\n",
      "보다 낮습니다. 3 회 남았습니다.\n",
      "보다 낮습니다. 2 회 남았습니다.\n",
      "정답\n"
     ]
    }
   ],
   "source": [
    "#직접해보기\n",
    "from random import randint\n",
    "randNum = randint(1,10)\n",
    "\n",
    "count = 5\n",
    "while count != 0:\n",
    "    guess=int(input(\"숫자를 입력하세요\"))\n",
    "    if guess == randNum:\n",
    "        count =0\n",
    "        print(\"정답\")\n",
    "        \n",
    "    elif randNum > guess:\n",
    "        count -=1\n",
    "        print(\"보다 높습니다.\",count,\"회 남았습니다.\")\n",
    "        \n",
    "    elif randNum < guess:\n",
    "        count -=1\n",
    "        print(\"보다 낮습니다.\",count,\"회 남았습니다.\")\n",
    "    \n",
    "if count ==0 and randNum != guess:\n",
    "    print(\"your lose\")\n",
    "\n",
    "        \n",
    "    "
   ]
  },
  {
   "cell_type": "markdown",
   "id": "f211a568",
   "metadata": {},
   "source": [
    "---\n",
    "### break문"
   ]
  },
  {
   "cell_type": "code",
   "execution_count": null,
   "id": "c49a516e",
   "metadata": {},
   "outputs": [],
   "source": [
    "n = 10\n",
    "while n >= -10 :\n",
    "    if n == 0 :\n",
    "        break #n=0이면 while 블록을 빠져나온다\n",
    "    inv = 1.0 / n\n",
    "    print(inv)\n",
    "    n = n - 1"
   ]
  },
  {
   "cell_type": "markdown",
   "id": "d903a75a",
   "metadata": {},
   "source": [
    "---\n",
    "### continue"
   ]
  },
  {
   "cell_type": "code",
   "execution_count": null,
   "id": "4a6c5d58",
   "metadata": {},
   "outputs": [],
   "source": [
    "n = 10\n",
    "while n >= -10 :\n",
    "    if n == 0 :\n",
    "        n = n - 1\n",
    "        continue #n=0이면 while 블록의 나머지 부분을 건너 뛴다\n",
    "    inv = 1.0 / n\n",
    "    print(\"n = %d, inv(n) = %0.2f\"%(n, inv))\n",
    "    n = n-1"
   ]
  },
  {
   "cell_type": "markdown",
   "id": "56e742bd",
   "metadata": {},
   "source": [
    "---\n",
    "### switch문 ***match문***"
   ]
  },
  {
   "cell_type": "code",
   "execution_count": 39,
   "id": "fee3e249",
   "metadata": {},
   "outputs": [
    {
     "name": "stdout",
     "output_type": "stream",
     "text": [
      "성공\n",
      "알 수 없는 상태 \n",
      "\n",
      "문자열\n",
      "리스트\n",
      "정수 \n",
      "\n",
      "원점\n",
      "x축 위 (x=3)\n",
      "y축 위 (y=5)\n",
      "좌표 (2, 4)\n"
     ]
    }
   ],
   "source": [
    "def handle_status(status):\n",
    "    match status:\n",
    "        case 200:\n",
    "            return \"성공\"\n",
    "        case 404:\n",
    "            return \"페이지를 찾을 수 없음\"\n",
    "        case 500:\n",
    "            return \"서버 오류\"\n",
    "        case _:\n",
    "            return \"알 수 없는 상태\"\n",
    "        \n",
    "print(handle_status(200)) # \"성공\"\n",
    "print(handle_status(999),\"\\n\") # \"알 수 없는 상태\"\n",
    "\n",
    "def check_type(x):\n",
    "    match x:\n",
    "        case int():\n",
    "            return \"정수\"\n",
    "        case str():\n",
    "            return \"문자열\"\n",
    "        case list():\n",
    "            return \"리스트\"\n",
    "        case _:\n",
    "            return \"번외\"\n",
    "        \n",
    "print(check_type(\"문자열인가요?\"))\n",
    "print(check_type([1,2,3]))\n",
    "print(check_type(10),'\\n')\n",
    "\n",
    "def process_point(pt):\n",
    "    match pt:\n",
    "        case (0, 0):\n",
    "            return \"원점\"\n",
    "        case (x, 0):\n",
    "            return f\"x축 위 (x={x})\"\n",
    "        case (0, y):\n",
    "            return f\"y축 위 (y={y})\"\n",
    "        case (x, y):\n",
    "            return f\"좌표 ({x}, {y})\"\n",
    "        case _:\n",
    "            return \"알 수 없음\"\n",
    "\n",
    "print(process_point((0,0)))   # 원점\n",
    "print(process_point((3,0)))   # x축 위 (x=3)\n",
    "print(process_point((0,5)))   # y축 위 (y=5)\n",
    "print(process_point((2,4)))   # 좌표 (2, 4)\n"
   ]
  }
 ],
 "metadata": {
  "kernelspec": {
   "display_name": "Python 3",
   "language": "python",
   "name": "python3"
  },
  "language_info": {
   "codemirror_mode": {
    "name": "ipython",
    "version": 3
   },
   "file_extension": ".py",
   "mimetype": "text/x-python",
   "name": "python",
   "nbconvert_exporter": "python",
   "pygments_lexer": "ipython3",
   "version": "3.12.0"
  }
 },
 "nbformat": 4,
 "nbformat_minor": 5
}
