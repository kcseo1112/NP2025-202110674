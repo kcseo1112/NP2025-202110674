{
 "cells": [
  {
   "cell_type": "markdown",
   "id": "6f4a21b0",
   "metadata": {},
   "source": [
    "### 다음 딕셔너리에 대해 물음에 답하라. \n",
    "### days = {'January':31, 'February':28, 'March':31, 'April':30,'May':31, 'June':30, 'July':31, 'August':31,'September':30, 'October':31, 'November':30, 'December':31}"
   ]
  },
  {
   "cell_type": "markdown",
   "id": "b59a2114",
   "metadata": {},
   "source": [
    "---\n",
    "### 1. 사용자가 월을 입력하면 해당 월에 일수를 출력하라"
   ]
  },
  {
   "cell_type": "code",
   "execution_count": 1,
   "id": "32813cfd",
   "metadata": {},
   "outputs": [
    {
     "name": "stdout",
     "output_type": "stream",
     "text": [
      "31\n"
     ]
    }
   ],
   "source": [
    "days = {'January':31, 'February':28, 'March':31, 'April':30,'May':31, 'June':30, 'July':31, 'August':31,'September':30, 'October':31, 'November':30, 'December':31}\n",
    "month = input(\"월을 입력하세요\")\n",
    "print(days.get(month))"
   ]
  },
  {
   "cell_type": "markdown",
   "id": "cccc0114",
   "metadata": {},
   "source": [
    "---\n",
    "### 2. 알파벳 순서로 모든 월을 출력하라"
   ]
  },
  {
   "cell_type": "code",
   "execution_count": 16,
   "id": "6dc9d372",
   "metadata": {},
   "outputs": [
    {
     "name": "stdout",
     "output_type": "stream",
     "text": [
      "['April', 'August', 'December', 'February', 'January', 'July', 'June', 'March', 'May', 'November', 'October', 'September']\n"
     ]
    }
   ],
   "source": [
    "kDays=days.keys()\n",
    "lDays=list(kDays)\n",
    "lDays.sort()\n",
    "print(lDays)"
   ]
  },
  {
   "cell_type": "markdown",
   "id": "6301639a",
   "metadata": {},
   "source": [
    "---\n",
    "### 3. 일수가 31일 월을 모두 출력하라"
   ]
  },
  {
   "cell_type": "code",
   "execution_count": 15,
   "id": "81bec1d6",
   "metadata": {},
   "outputs": [
    {
     "name": "stdout",
     "output_type": "stream",
     "text": [
      "January\n",
      "March\n",
      "May\n",
      "July\n",
      "August\n",
      "October\n",
      "December\n"
     ]
    }
   ],
   "source": [
    "for key, value in days.items():\n",
    "    if value==31:\n",
    "        print(key)"
   ]
  },
  {
   "cell_type": "markdown",
   "id": "b6f2a4f3",
   "metadata": {},
   "source": [
    "---\n",
    "### 4. 월의 일수를 기준으로 오름차순(key-value) 쌍을 출력하라"
   ]
  },
  {
   "cell_type": "code",
   "execution_count": null,
   "id": "52ebc147",
   "metadata": {},
   "outputs": [
    {
     "name": "stdout",
     "output_type": "stream",
     "text": [
      "February 28\n",
      "April 30\n",
      "June 30\n",
      "September 30\n",
      "November 30\n",
      "January 31\n",
      "March 31\n",
      "May 31\n",
      "July 31\n",
      "August 31\n",
      "October 31\n",
      "December 31\n"
     ]
    }
   ],
   "source": [
    "# lDays = list(days.values()) \n",
    "# lDays.sort(reverse=True)\n",
    "# for i in set(lDays):\n",
    "#     for key, value in days.items():\n",
    "#         if value == i:\n",
    "#             print(key,value)\n",
    "\n",
    "lDays = list(days.values())\n",
    "for i in sorted(set(lDays)): ##set은 정렬기능이 없다 sort가 아니라 sorted로 정렬 가능\n",
    "    for key, value in days.items():\n",
    "        if value == i:\n",
    "            print(key,value)"
   ]
  },
  {
   "cell_type": "markdown",
   "id": "33d24e1e",
   "metadata": {},
   "source": [
    "---\n",
    "### 5. 사용자가 월을 3자리만 입력하면 월의 일수를 출력하라(jan,feb)"
   ]
  },
  {
   "cell_type": "code",
   "execution_count": 44,
   "id": "56ccb4e9",
   "metadata": {},
   "outputs": [],
   "source": [
    "month = input(\"월 입력\")\n",
    "#startswith() startswith는 문자열전용\n",
    "for key,vlaue in days.items():\n",
    "    if key.startswith(month):\n",
    "        print(key)"
   ]
  }
 ],
 "metadata": {
  "kernelspec": {
   "display_name": "Python 3",
   "language": "python",
   "name": "python3"
  },
  "language_info": {
   "codemirror_mode": {
    "name": "ipython",
    "version": 3
   },
   "file_extension": ".py",
   "mimetype": "text/x-python",
   "name": "python",
   "nbconvert_exporter": "python",
   "pygments_lexer": "ipython3",
   "version": "3.12.0"
  }
 },
 "nbformat": 4,
 "nbformat_minor": 5
}
