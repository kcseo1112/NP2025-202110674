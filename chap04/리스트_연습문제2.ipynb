{
 "cells": [
  {
   "cell_type": "markdown",
   "id": "b6bcfe25",
   "metadata": {},
   "source": [
    "### 1. for 루프를 이용하여 다음과 같은 리스트를 생성하라\n"
   ]
  },
  {
   "cell_type": "code",
   "execution_count": 1,
   "id": "8ec3feaf",
   "metadata": {},
   "outputs": [
    {
     "name": "stdout",
     "output_type": "stream",
     "text": [
      "[0, 1, 2, 3, 4, 5, 6, 7, 8, 9, 10, 11, 12, 13, 14, 15, 16, 17, 18, 19, 20, 21, 22, 23, 24, 25, 26, 27, 28, 29, 30, 31, 32, 33, 34, 35, 36, 37, 38, 39, 40, 41, 42, 43, 44, 45, 46, 47, 48, 49]\n"
     ]
    }
   ],
   "source": [
    "list=[]\n",
    "for i in range(0,50):\n",
    "    list.append(i)\n",
    "print(list)"
   ]
  },
  {
   "cell_type": "markdown",
   "id": "a7fc1486",
   "metadata": {},
   "source": [
    "### 2. 크기가 같은 두 개의 리스트 L, M을 생성하고 두 리스트의 각 요소 합으로 구성되는 새로운 리스트를 생성하라. 예를 들어 L=[1,2,3]이고 M=[4,5,6]이면 [5,7,9]인 리스트 생성\n"
   ]
  },
  {
   "cell_type": "code",
   "execution_count": null,
   "id": "6075fdfd",
   "metadata": {},
   "outputs": [
    {
     "name": "stdout",
     "output_type": "stream",
     "text": [
      "[5, 7, 9]\n"
     ]
    }
   ],
   "source": [
    "list=[1,2,3]\n",
    "list2=[4,5,6]\n",
    "sumList=[]\n",
    "for i in range(0,len(list)):\n",
    "    sumList.append(list[i]+list2[i])\n",
    "    \n",
    "print(sumList)\n"
   ]
  },
  {
   "cell_type": "markdown",
   "id": "c3a6a763",
   "metadata": {},
   "source": [
    "### 3. 사용자로부터 5개의 숫자를 문자열로 입력 받아 각 숫자를 +로 연결한 문자열을 생성하라. 예를 들어 2, 5, 11, 33, 55를 입력하면 '2+5+11+33+55'를 생성하라.\n"
   ]
  },
  {
   "cell_type": "code",
   "execution_count": 8,
   "id": "c3049287",
   "metadata": {},
   "outputs": [
    {
     "name": "stdout",
     "output_type": "stream",
     "text": [
      "1+2+3+4+5\n"
     ]
    }
   ],
   "source": [
    "a=input(\"5개의 숫자 입력\").split()\n",
    "print('+'.join(a))\n",
    "\n"
   ]
  }
 ],
 "metadata": {
  "kernelspec": {
   "display_name": "Python 3",
   "language": "python",
   "name": "python3"
  },
  "language_info": {
   "codemirror_mode": {
    "name": "ipython",
    "version": 3
   },
   "file_extension": ".py",
   "mimetype": "text/x-python",
   "name": "python",
   "nbconvert_exporter": "python",
   "pygments_lexer": "ipython3",
   "version": "3.12.0"
  }
 },
 "nbformat": 4,
 "nbformat_minor": 5
}
