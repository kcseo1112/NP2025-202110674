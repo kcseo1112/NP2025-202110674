{
 "cells": [
  {
   "cell_type": "markdown",
   "id": "29185e07",
   "metadata": {},
   "source": [
    "# 4장 파이썬 자료 구조 노트정리\n",
    "\n",
    "설명 : 이 파일은 4장 학습하면서 실행한 내용을 정리한 것이다.\n",
    "\n",
    "날짜: 2025.09.16\n",
    "\n",
    "학번 : 202110674\n",
    "\n",
    "저자: 서강찬\n",
    "\n",
    "\n"
   ]
  },
  {
   "cell_type": "markdown",
   "id": "e17e4216",
   "metadata": {},
   "source": [
    "### 문자열(string)\n"
   ]
  },
  {
   "cell_type": "code",
   "execution_count": null,
   "id": "2bc1e325",
   "metadata": {},
   "outputs": [
    {
     "name": "stdout",
     "output_type": "stream",
     "text": [
      "10\n",
      "20\n"
     ]
    },
    {
     "data": {
      "text/plain": [
       "['김길동', '01033680638', '10']"
      ]
     },
     "execution_count": 3,
     "metadata": {},
     "output_type": "execute_result"
    }
   ],
   "source": [
    "a,b =input().split()\n",
    "print(a)\n",
    "print(b)\n",
    "type(a) ##input() 의 반환타입은 str\n",
    "type(b)"
   ]
  },
  {
   "cell_type": "code",
   "execution_count": 1,
   "id": "06263b39",
   "metadata": {},
   "outputs": [
    {
     "data": {
      "text/plain": [
       "['김길동', '01033680638', '10']"
      ]
     },
     "execution_count": 1,
     "metadata": {},
     "output_type": "execute_result"
    }
   ],
   "source": [
    "\n",
    "aline ='김길동 01033680638 10'\n",
    "aline.split() # 공백문자 기준으로 분리"
   ]
  },
  {
   "cell_type": "markdown",
   "id": "9b905658",
   "metadata": {},
   "source": [
    "---\n",
    "### 문자열 idex "
   ]
  },
  {
   "cell_type": "code",
   "execution_count": 1,
   "id": "cf839d62",
   "metadata": {},
   "outputs": [
    {
     "name": "stdout",
     "output_type": "stream",
     "text": [
      "p\n",
      "n\n"
     ]
    }
   ],
   "source": [
    "word = 'python'\n",
    "print(word[0])\n",
    "print(word[5])"
   ]
  },
  {
   "cell_type": "markdown",
   "id": "6ee33750",
   "metadata": {},
   "source": [
    "---\n",
    "### 문자열 슬라이싱(잘라내기)\n",
    "[a:b] 첨자 a부터 b-1까지\n",
    "[a:] 첨자 a부터 끝가지"
   ]
  },
  {
   "cell_type": "code",
   "execution_count": 8,
   "id": "d4d3b64e",
   "metadata": {},
   "outputs": [
    {
     "name": "stdout",
     "output_type": "stream",
     "text": [
      "py\n",
      "tho\n",
      "on\n",
      "on\n",
      "\n",
      "jython\n"
     ]
    },
    {
     "data": {
      "text/plain": [
       "6"
      ]
     },
     "execution_count": 8,
     "metadata": {},
     "output_type": "execute_result"
    }
   ],
   "source": [
    "word = 'python'\n",
    "print(word[0:2])\n",
    "print(word[2:5])\n",
    "print(word[4:])\n",
    "\n",
    "# error print(word[42])\n",
    "print(word[4:42])\n",
    "print(word[42:])\n",
    "\n",
    "# 문자열은 수정불가 word[0]='j'\n",
    "\n",
    "word2 = 'j'+word[1:]\n",
    "print(word2)\n",
    "len(word2)"
   ]
  },
  {
   "cell_type": "markdown",
   "id": "981701f0",
   "metadata": {},
   "source": [
    "---\n",
    "### index를 이용하여 문자열의 문자를 역순으로 만들기"
   ]
  },
  {
   "cell_type": "code",
   "execution_count": 10,
   "id": "6aee8769",
   "metadata": {},
   "outputs": [
    {
     "name": "stdout",
     "output_type": "stream",
     "text": [
      "Reversed string : olleh\n"
     ]
    }
   ],
   "source": [
    "outStr = \"\" #출력 문자열(빈 문자열)\n",
    "count, i = 0, 0\n",
    "## 메인 코드 부분 ##\n",
    "inStr = input(\"Type string : \")\n",
    "count = len(inStr) # 문자열 길이\n",
    "for i in range(0, count) :\n",
    " outStr += inStr[count - (i + 1)] # 마지막 문자부터 추출하여 합치기\n",
    "print(\"Reversed string : %s\" % outStr)\n"
   ]
  },
  {
   "cell_type": "markdown",
   "id": "29bf6374",
   "metadata": {},
   "source": [
    "---\n",
    "### 문자열을 구성파악하기\n",
    "is문이 있고 없고 차이"
   ]
  },
  {
   "cell_type": "code",
   "execution_count": 12,
   "id": "ff90e7f4",
   "metadata": {},
   "outputs": [
    {
     "name": "stdout",
     "output_type": "stream",
     "text": [
      "True\n",
      "True\n",
      "True\n",
      "True\n",
      "True\n",
      "True\n"
     ]
    }
   ],
   "source": [
    "print('123'.isdigit()) #문자열이 숫자인가\n",
    "print('abcABC'.isalpha()) #문자열이 문자인가\n",
    "print('Ab122'.isalnum()) #문자열이 문자+숫자 혼합인가\n",
    "print('AB'.isupper()) #문자열이 대문자인가\n",
    "print('ab'.islower()) #문자열이 소문자인가\n",
    "print(' '.isspace()) #문자열이 공백인가"
   ]
  },
  {
   "cell_type": "markdown",
   "id": "7a30087e",
   "metadata": {},
   "source": [
    "---\n",
    "### 문자열을 대소문자로 변화하기"
   ]
  },
  {
   "cell_type": "code",
   "execution_count": 15,
   "id": "6608cb67",
   "metadata": {},
   "outputs": [
    {
     "name": "stdout",
     "output_type": "stream",
     "text": [
      "PYTHON PROGRAMMING IS EASY!\n",
      "python programming is easy!\n",
      "pYTHON PROGRAMMING IS EASY!\n",
      "Python Programming Is Easy!\n"
     ]
    }
   ],
   "source": [
    "str ='Python programming is easy!'\n",
    "print(str.upper()) #대문자로 변환\n",
    "print(str.lower()) #소문자로 변환\n",
    "print(str.swapcase()) #대소문자 바꾸기\n",
    "print(str.title()) #첫 글자만 대문자로 변환"
   ]
  },
  {
   "cell_type": "markdown",
   "id": "1c8e59a1",
   "metadata": {},
   "source": [
    "---\n",
    "### 문자열 찾기"
   ]
  },
  {
   "cell_type": "code",
   "execution_count": 17,
   "id": "49cf7b94",
   "metadata": {},
   "outputs": [
    {
     "name": "stdout",
     "output_type": "stream",
     "text": [
      "2\n",
      "4\n",
      "9\n",
      "4\n"
     ]
    }
   ],
   "source": [
    "str = 'Python programming is easy!'\n",
    "print(str.count('i')) #문자열에서 문자 'i'의 개수\n",
    "print(str.find('o')) #문자열에서 'o'의 처음 위치. 없으면 -1 반환\n",
    "print(str.rfind('o')) #문자열에서 'o'가 나오는 가장 나중 위치\n",
    "print(str.index('on')) #문자열에서 'on'의 처음 위치. 없으면 ValueError\n"
   ]
  },
  {
   "cell_type": "markdown",
   "id": "c4fb6153",
   "metadata": {},
   "source": [
    "---\n",
    "### 문자열 분리하기\n",
    "split은 이전에도 많이 사용해 보았던 것처럼 공백 또는 ()속의 문자로 분리한다. "
   ]
  },
  {
   "cell_type": "code",
   "execution_count": 22,
   "id": "5d4ee953",
   "metadata": {},
   "outputs": [
    {
     "name": "stdout",
     "output_type": "stream",
     "text": [
      "['a', 'bc']\n",
      "['a ', 'c']\n",
      "['안녕', '하세요', '전']\n"
     ]
    }
   ],
   "source": [
    "x = 'a bc' #a와 b 사이에 공백이 있다\n",
    "print(x.split()) #공백을 기준으로 분리\n",
    "print(x.split('b')) #문자열을 ( )속의 문자로 분리한다\n",
    "\n",
    "y=input(\"문자열을.으로 구분\").split('.')\n",
    "print(y)"
   ]
  },
  {
   "cell_type": "markdown",
   "id": "2a7f16cd",
   "metadata": {},
   "source": [
    "---\n",
    "### 문자열 공백 제거, 결합 , 채우기\n",
    "**strip의 특징은 원래 문자열을 변하지 않는다는 것**"
   ]
  },
  {
   "cell_type": "code",
   "execution_count": 28,
   "id": "3a39ed04",
   "metadata": {},
   "outputs": [
    {
     "name": "stdout",
     "output_type": "stream",
     "text": [
      "양측 공백제거 hello\n",
      "     hello \n",
      "우측 공백제거      hello \n",
      "좌측 공백제거 hello \n",
      "     hello \n"
     ]
    }
   ],
   "source": [
    "str = '     hello '\n",
    "print('양측 공백제거',str.strip()) \n",
    "print(str) #원래 문자열은 변하지 않는다\n",
    "\n",
    "print('우측 공백제거',str.rstrip(),'\\n좌측 공백제거',str.lstrip())\n",
    "print(str)"
   ]
  },
  {
   "cell_type": "code",
   "execution_count": 30,
   "id": "414129d7",
   "metadata": {},
   "outputs": [
    {
     "data": {
      "text/plain": [
       "'h*e*l*l*o'"
      ]
     },
     "execution_count": 30,
     "metadata": {},
     "output_type": "execute_result"
    }
   ],
   "source": [
    "'*'.join('hello') #*와 문자열의 각 문자를 하나씩 결합한 문자열 생성"
   ]
  },
  {
   "cell_type": "code",
   "execution_count": null,
   "id": "bd232da0",
   "metadata": {},
   "outputs": [],
   "source": [
    "'12'.zfill(5) #문자열 '12'의 왼쪽을 0으로 채워 5자리로 만든다\n"
   ]
  },
  {
   "cell_type": "markdown",
   "id": "58560498",
   "metadata": {},
   "source": [
    "---\n",
    "### 문자열 정렬하기"
   ]
  },
  {
   "cell_type": "code",
   "execution_count": 33,
   "id": "1c2e5529",
   "metadata": {},
   "outputs": [
    {
     "name": "stdout",
     "output_type": "stream",
     "text": [
      "   he\n",
      "he   \n",
      "  he \n"
     ]
    }
   ],
   "source": [
    "print('he'.rjust(5)) #5자리를 오른쪽으로 정렬\n",
    "print('he'.ljust(5)) #5자리를 왼쪽으로 정렬\n",
    "print('he'.center(5)) #5자리를 가운데로 정렬\n"
   ]
  },
  {
   "cell_type": "markdown",
   "id": "c5c7f32b",
   "metadata": {},
   "source": [
    "---\n",
    "### 리스트\n"
   ]
  },
  {
   "cell_type": "code",
   "execution_count": null,
   "id": "dab89103",
   "metadata": {},
   "outputs": [
    {
     "name": "stdout",
     "output_type": "stream",
     "text": [
      "[1, 3, 5, 7, 9]\n",
      "False\n",
      "odd주소 2390906036096 \n",
      "squares 주소 2390906035712\n",
      "[]\n"
     ]
    }
   ],
   "source": [
    "odd = [1, 3, 5, 7, 9] #[ ]를 이용하여 리스트 생성\n",
    "print(odd)\n",
    "squares = [1, 3, 5, 7, 9]\n",
    "print(odd==squares)\n",
    "print('odd주소',id(odd),'\\nsquares 주소',id(squares))\n",
    "\n",
    "odd1 = [1, 3, 5, 7, 9] #[ ]를 이용하여 리스트 생성\n",
    "squares1 = [1, 3, 5, 7, 9]\n",
    "print(odd==squares)\n",
    "\n",
    "\n",
    "\n",
    "empty = [] #공백 리스트. empy = list()\n",
    "print(empty)\n",
    "a = [1, 'hello', 2, 'world', 1.23] #리스트 요소는 어떤 것이라도가능"
   ]
  },
  {
   "cell_type": "markdown",
   "id": "c1b0f810",
   "metadata": {},
   "source": [
    "---\n",
    "### 리스트 인덱싱"
   ]
  },
  {
   "cell_type": "code",
   "execution_count": 40,
   "id": "5190dd79",
   "metadata": {},
   "outputs": [
    {
     "name": "stdout",
     "output_type": "stream",
     "text": [
      "1\n",
      "25\n",
      "[1, 4, 9]\n",
      "[9, 16, 25]\n",
      "[1, 4, 9, 16, 25]\n",
      "[1, 2, 3, 4, 5, 6]\n"
     ]
    }
   ],
   "source": [
    "squares = [1, 4, 9, 16, 25]\n",
    "print(squares[0]) \n",
    "\n",
    "print(squares[-1]) \n",
    "\n",
    "print(squares[0:3]) #0부터(3-1)까지 잘라내기\n",
    "\n",
    "print(squares[-3:]) #뒤에서 3번째부터 마지막까지 잘라내기\n",
    "\n",
    "squares + [36, 49, 64, 81, 100]\n",
    "print(squares)\n",
    "a = [1, 2, 3]\n",
    "b = [4, 5, 6]\n",
    "print(a + b) #리스트 합치기\n",
    "\n"
   ]
  },
  {
   "cell_type": "markdown",
   "id": "805c0129",
   "metadata": {},
   "source": [
    "---\n",
    "## 리스트의 요소 수종, 추가하기\n"
   ]
  },
  {
   "cell_type": "code",
   "execution_count": 41,
   "id": "5681a54e",
   "metadata": {},
   "outputs": [
    {
     "name": "stdout",
     "output_type": "stream",
     "text": [
      "64\n",
      "[1, 8, 27, 64, 125]\n",
      "[1, 8, 27, 64, 125, 216, 343]\n"
     ]
    }
   ],
   "source": [
    "cubes = [1, 8, 27, 65, 125] #세제곱수\n",
    "print(4 ** 3) # 4의 세제곱은 64!\n",
    "cubes[3] = 64 # 리스트 요소 수정하기\n",
    "print(cubes) #수정된 리스트\n",
    "cubes.append(216) # 마지막에 리스트 요소 추가하기\n",
    "cubes.append(7 ** 3) # 마지막에 리스트 요소 추가하기\n",
    "print(cubes)\n"
   ]
  },
  {
   "cell_type": "code",
   "execution_count": 43,
   "id": "418e143a",
   "metadata": {},
   "outputs": [
    {
     "name": "stdout",
     "output_type": "stream",
     "text": [
      "['a', 'b', 'c', 'd', 'e', 'f', 'g']\n",
      "['a', 'b', 'C', 'D', 'E', 'f', 'g']\n",
      "['a', 'b', 'f', 'g']\n",
      "[]\n"
     ]
    }
   ],
   "source": [
    "letters = ['a', 'b', 'c', 'd', 'e', 'f', 'g']\n",
    "print(letters)\n",
    "\n",
    "letters[2:5] = ['C', 'D', 'E'] #리스트 요소 수정\n",
    "print(letters)\n",
    "letters[2:5] = [] #리스트 요소 제거\n",
    "print(letters)\n",
    "letters[:] = [] #리스트 요소를 모두 제거\n",
    "print(letters)"
   ]
  },
  {
   "cell_type": "markdown",
   "id": "da616b85",
   "metadata": {},
   "source": [
    "---\n",
    "### 중첩리스트, 2차원리스트"
   ]
  },
  {
   "cell_type": "code",
   "execution_count": 46,
   "id": "810866f6",
   "metadata": {},
   "outputs": [
    {
     "name": "stdout",
     "output_type": "stream",
     "text": [
      "[['a', 'b', 'c'], [1, 2, 3]]\n",
      "['a', 'b', 'c']\n",
      "b\n",
      "1\n",
      "9\n"
     ]
    }
   ],
   "source": [
    "a = ['a', 'b', 'c']\n",
    "n = [1, 2, 3]\n",
    "x = [a, n]\n",
    "print(x)\n",
    "[['a', 'b', 'c'], [1, 2, 3]] #리스트 요소가 리스트이다\n",
    "print(x[0])\n",
    "['a', 'b', 'c']\n",
    "print(x[0][1]) #중첩 리스트 요소 지정\n",
    "\n",
    "list2d = [[1,2,3], \n",
    "[4,5,6],\n",
    "[7,8,9]]\n",
    "print(list2d[0][0]) \n",
    "print(list2d[2][2])\n"
   ]
  },
  {
   "cell_type": "markdown",
   "id": "96887d10",
   "metadata": {},
   "source": []
  },
  {
   "cell_type": "code",
   "execution_count": 49,
   "id": "39b18222",
   "metadata": {},
   "outputs": [
    {
     "name": "stdout",
     "output_type": "stream",
     "text": [
      "4\n",
      "15 1 5\n"
     ]
    }
   ],
   "source": [
    "letters = ['a', 'b', 'c', 'd']\n",
    "print(len(letters))\n",
    "      \n",
    "num = [1, 2, 3, 4, 5]\n",
    "print(sum(num),min(num),max(num))\n",
    "\n",
    "      "
   ]
  },
  {
   "cell_type": "code",
   "execution_count": 50,
   "id": "02aefee3",
   "metadata": {},
   "outputs": [
    {
     "name": "stdout",
     "output_type": "stream",
     "text": [
      "Help on method_descriptor:\n",
      "\n",
      "sort(self, /, *, key=None, reverse=False)\n",
      "    Sort the list in ascending order and return None.\n",
      "\n",
      "    The sort is in-place (i.e. the list itself is modified) and stable (i.e. the\n",
      "    order of two equal elements is maintained).\n",
      "\n",
      "    If a key function is given, apply it once to each list item and sort them,\n",
      "    ascending or descending, according to their function values.\n",
      "\n",
      "    The reverse flag can be set to sort in descending order.\n",
      "\n"
     ]
    }
   ],
   "source": [
    "help(list.sort)\n"
   ]
  },
  {
   "cell_type": "markdown",
   "id": "aacbcb97",
   "metadata": {},
   "source": [
    "---\n",
    "### 리스트 순서\n",
    "리스트는 순서가 존재, 따라서 중복을 허용"
   ]
  },
  {
   "cell_type": "code",
   "execution_count": 52,
   "id": "62448006",
   "metadata": {},
   "outputs": [
    {
     "name": "stdout",
     "output_type": "stream",
     "text": [
      "['bus', 'sedan', 'taxi', 'truck']\n",
      "['truck', 'taxi', 'sedan', 'bus']\n",
      "Here is the original list:\n",
      "['truck', 'taxi', 'sedan', 'bus']\n",
      "\n",
      "Here is the sorted list:\n",
      "['bus', 'sedan', 'taxi', 'truck']\n",
      "\n",
      "Here is the original list again:\n",
      "['truck', 'taxi', 'sedan', 'bus']\n"
     ]
    }
   ],
   "source": [
    "cars = ['taxi', 'sedan', 'bus', 'truck']\n",
    "cars.sort() #오름차순으로 배열\n",
    "print(cars)\n",
    "cars.sort(reverse=True) #역순 배열\n",
    "print(cars)\n",
    "print(\"Here is the original list:\")\n",
    "print(cars)\n",
    "print(\"\\nHere is the sorted list:\")\n",
    "print(sorted(cars)) # 오름차순으로 배열한 리스트를 따로 생성\n",
    "print(\"\\nHere is the original list again:\")\n",
    "print(cars)"
   ]
  },
  {
   "cell_type": "code",
   "execution_count": 53,
   "id": "7f1c7d7e",
   "metadata": {},
   "outputs": [
    {
     "name": "stdout",
     "output_type": "stream",
     "text": [
      "['taxi', 'sedan', 'bus', 'truck ']\n",
      "['truck ', 'bus', 'sedan', 'taxi']\n"
     ]
    }
   ],
   "source": [
    "cars = ['taxi', 'sedan', 'bus', 'truck ']\n",
    "print(cars)\n",
    "cars.reverse() #원래 리스트의 요소 순서를 거꾸로 배열\n",
    "print(cars)\n"
   ]
  },
  {
   "cell_type": "markdown",
   "id": "dbb3c93a",
   "metadata": {},
   "source": [
    "---\n",
    "### 튜플\n",
    "튜플의 특징\n",
    "-순서가 있어, 중복 값을 가질 수 있다.\n",
    "-불변 특성으로, 한번 생성하면 요소를 추가, 삭제, 변경할 수 없다."
   ]
  },
  {
   "cell_type": "code",
   "execution_count": 2,
   "id": "3b78a15c",
   "metadata": {},
   "outputs": [
    {
     "name": "stdout",
     "output_type": "stream",
     "text": [
      "(1, 2, 3) 2 (2, 3)\n",
      "(1, 2, 3)\n",
      "(1,)\n",
      "(1, 2, 3, 1)\n",
      "(1, 2, 3, 1, 2, 3)\n"
     ]
    }
   ],
   "source": [
    "t1 =(1,2,3)\n",
    "print(t1,t1[1],t1[1:3])\n",
    "\n",
    "t2=1,2,3 #()없이 만들 수도 있다.\n",
    "print(t2)\n",
    "t3=1, #요소가 한 개인 경우 ,를 붙인다.\n",
    "print(t3)\n",
    "t4 = tuple()#빈 튜플 생성\n",
    "\n",
    "print(t2+t3)\n",
    "print(t1*2)\n"
   ]
  },
  {
   "cell_type": "markdown",
   "id": "049212ca",
   "metadata": {},
   "source": [
    "---\n",
    "튜플의 값을 변환하고 싶다면 튜플을 리스트로 변환하면 된다."
   ]
  },
  {
   "cell_type": "code",
   "execution_count": 5,
   "id": "bbffc6d1",
   "metadata": {},
   "outputs": [
    {
     "name": "stdout",
     "output_type": "stream",
     "text": [
      "(1, 2, 3, 4)\n",
      "a = 1, b = 2, c = 3\n"
     ]
    }
   ],
   "source": [
    "t1=1,2,3\n",
    "l1=list(t1)\n",
    "l1.append(4)\n",
    "t1=tuple(l1)\n",
    "print(t1)\n",
    "\n",
    "a,b,c=(1,2,3)\n",
    "print(f'a = {a}, b = {b}, c = {c}')\n",
    "\n"
   ]
  },
  {
   "cell_type": "markdown",
   "id": "5a6ae5a6",
   "metadata": {},
   "source": [
    "---\n",
    "### 딕셔너리\n",
    "키(key) : 값(value)로 구성되는 자료구조\n",
    "키는 정수,실수,문자열,튜플 (유일한 키를 가짐)\n",
    "값은 임의의 데이터형"
   ]
  },
  {
   "cell_type": "code",
   "execution_count": null,
   "id": "e46b21f7",
   "metadata": {},
   "outputs": [
    {
     "name": "stdout",
     "output_type": "stream",
     "text": [
      "{'jun': 174, 'kim': 170, 'lee': 165}\n",
      "{}\n",
      "170\n",
      "True\n",
      "{'jun': 174, 'kim': 170, 'lee': 180}\n",
      "dict_keys(['jun', 'kim', 'lee'])\n",
      "dict_values([174, 170, 180])\n"
     ]
    },
    {
     "ename": "NameError",
     "evalue": "name 'println' is not defined",
     "output_type": "error",
     "traceback": [
      "\u001b[1;31m---------------------------------------------------------------------------\u001b[0m",
      "\u001b[1;31mNameError\u001b[0m                                 Traceback (most recent call last)",
      "Cell \u001b[1;32mIn[12], line 19\u001b[0m\n\u001b[0;32m     17\u001b[0m \u001b[38;5;28mprint\u001b[39m(height\u001b[38;5;241m.\u001b[39mkeys()) \u001b[38;5;66;03m#키 뽑아내기\u001b[39;00m\n\u001b[0;32m     18\u001b[0m \u001b[38;5;28mprint\u001b[39m(height\u001b[38;5;241m.\u001b[39mvalues()) \u001b[38;5;66;03m# 값 뽑아내기\u001b[39;00m\n\u001b[1;32m---> 19\u001b[0m \u001b[43mprintln\u001b[49m(height\u001b[38;5;241m.\u001b[39mitems()) \u001b[38;5;66;03m#요소를 튜플로 분리하기\u001b[39;00m\n\u001b[0;32m     21\u001b[0m key\u001b[38;5;241m=\u001b[39mheight\u001b[38;5;241m.\u001b[39mkeys()\n\u001b[0;32m     22\u001b[0m lk\u001b[38;5;241m=\u001b[39m\u001b[38;5;28mlist\u001b[39m(key)\n",
      "\u001b[1;31mNameError\u001b[0m: name 'println' is not defined"
     ]
    }
   ],
   "source": [
    "height={'jun':174,'kim':170,'lee':165}\n",
    "print(height)\n",
    "\n",
    "test=dict() #빈 딕셔너리\n",
    "print(test)\n",
    "\n",
    "print(height['kim'])\n",
    "\n",
    "###\n",
    "\n",
    "print('kim'in height) #in 연산자의 사용\n",
    "height['lee']=180 #요소 수정\n",
    "print(height)\n",
    "\n",
    "###\n",
    "\n",
    "print(height.keys()) #키 뽑아내기\n",
    "print(height.values()) # 값 뽑아내기\n",
    "print(height.items()) #요소를 튜플로 분리하기\n",
    "\n",
    "key=height.keys()\n",
    "lk=list(key)\n",
    "print(lk)\n",
    "\n"
   ]
  }
 ],
 "metadata": {
  "kernelspec": {
   "display_name": "Python 3",
   "language": "python",
   "name": "python3"
  },
  "language_info": {
   "codemirror_mode": {
    "name": "ipython",
    "version": 3
   },
   "file_extension": ".py",
   "mimetype": "text/x-python",
   "name": "python",
   "nbconvert_exporter": "python",
   "pygments_lexer": "ipython3",
   "version": "3.12.0"
  }
 },
 "nbformat": 4,
 "nbformat_minor": 5
}
