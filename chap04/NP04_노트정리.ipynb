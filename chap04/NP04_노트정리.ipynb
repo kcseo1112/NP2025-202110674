{
 "cells": [
  {
   "cell_type": "code",
   "execution_count": null,
   "id": "2bc1e325",
   "metadata": {},
   "outputs": [
    {
     "name": "stdout",
     "output_type": "stream",
     "text": [
      "10\n",
      "20\n"
     ]
    },
    {
     "data": {
      "text/plain": [
       "['김길동', '01033680638', '10']"
      ]
     },
     "execution_count": 3,
     "metadata": {},
     "output_type": "execute_result"
    }
   ],
   "source": [
    "a,b =input().split()\n",
    "print(a)\n",
    "print(b)\n",
    "type(a) ##input() 의 반환타입은 str\n",
    "type(b)"
   ]
  },
  {
   "cell_type": "code",
   "execution_count": null,
   "id": "06263b39",
   "metadata": {},
   "outputs": [],
   "source": [
    "\n",
    "aline ='김길동 01033680638 10'\n",
    "aline.split() # 공백문자 기준으로 분리"
   ]
  }
 ],
 "metadata": {
  "kernelspec": {
   "display_name": ".venv (3.12.0)",
   "language": "python",
   "name": "python3"
  },
  "language_info": {
   "codemirror_mode": {
    "name": "ipython",
    "version": 3
   },
   "file_extension": ".py",
   "mimetype": "text/x-python",
   "name": "python",
   "nbconvert_exporter": "python",
   "pygments_lexer": "ipython3",
   "version": "3.12.0"
  }
 },
 "nbformat": 4,
 "nbformat_minor": 5
}
