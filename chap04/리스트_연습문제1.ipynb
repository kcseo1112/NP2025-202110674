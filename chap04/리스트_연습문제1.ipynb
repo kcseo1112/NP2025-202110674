{
 "cells": [
  {
   "cell_type": "markdown",
   "id": "83ecb874",
   "metadata": {},
   "source": [
    "### 3명 이상 친구 이름 리스트를 작성하고 다음 내용을 프로그램하시오"
   ]
  },
  {
   "cell_type": "code",
   "execution_count": 6,
   "id": "7c8fed99",
   "metadata": {},
   "outputs": [
    {
     "name": "stdout",
     "output_type": "stream",
     "text": [
      "['박은선', '서강찬', '김대훈', '김건호']\n",
      "['박은선', '서강찬', '김대훈', '김동윤', '김건호']\n",
      "['박은선', '서강찬', '김대훈', '김동윤', '김건호', '누군가']\n"
     ]
    }
   ],
   "source": [
    "list=['서강찬','김대훈','김건호']\n",
    "list.insert(0,'박은선')\n",
    "print(list)\n",
    "list.insert(3,'김동윤')\n",
    "print(list)\n",
    "list.append(\"누군가\")\n",
    "print(list)\n"
   ]
  },
  {
   "cell_type": "markdown",
   "id": "b86366bb",
   "metadata": {},
   "source": [
    "### 리스트 [1, 2, 3]에 대해 다음과 같은 처리를 하라.    "
   ]
  },
  {
   "cell_type": "code",
   "execution_count": 12,
   "id": "ca026707",
   "metadata": {},
   "outputs": [
    {
     "name": "stdout",
     "output_type": "stream",
     "text": [
      "[1, 17, 3]\n",
      "[1, 17, 3, 4, 5, 6]\n",
      "[17, 3, 4, 5, 6]\n",
      "[3, 4, 5, 6, 17]\n",
      "[3, 4, 5, 25, 17]\n"
     ]
    }
   ],
   "source": [
    "list=[1,2,3]\n",
    "list[1]=17\n",
    "print(list)\n",
    "\n",
    "#append는 하나의 인자만 넣을 수 있다 list.append(4,5,6)\n",
    "list.extend([4,5,6]) #exted로 list뒤에 list를 추가\n",
    "print(list)\n",
    "\n",
    "list.pop(0)\n",
    "print(list)\n",
    "\n",
    "list.sort()\n",
    "print(list)\n",
    "\n",
    "list[3]=25\n",
    "print(list)"
   ]
  }
 ],
 "metadata": {
  "kernelspec": {
   "display_name": "Python 3",
   "language": "python",
   "name": "python3"
  },
  "language_info": {
   "codemirror_mode": {
    "name": "ipython",
    "version": 3
   },
   "file_extension": ".py",
   "mimetype": "text/x-python",
   "name": "python",
   "nbconvert_exporter": "python",
   "pygments_lexer": "ipython3",
   "version": "3.12.0"
  }
 },
 "nbformat": 4,
 "nbformat_minor": 5
}
