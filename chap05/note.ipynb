{
 "cells": [
  {
   "cell_type": "code",
   "execution_count": 4,
   "id": "57be5cec",
   "metadata": {},
   "outputs": [
    {
     "name": "stdout",
     "output_type": "stream",
     "text": [
      "1.0+2.0=3.0\n"
     ]
    }
   ],
   "source": [
    "a:int=1.0\n",
    "b:int=2.0\n",
    "\n",
    "print(f'{a}+{b}={a+b}')"
   ]
  },
  {
   "cell_type": "code",
   "execution_count": 5,
   "id": "75f9729e",
   "metadata": {},
   "outputs": [
    {
     "name": "stdout",
     "output_type": "stream",
     "text": [
      "12\n"
     ]
    }
   ],
   "source": [
    "a,b= input(\"더하기 값 a,b입력\").split()\n",
    "\n",
    "def add(a:int,b:int)->int:\n",
    "    return a+b\n",
    "print(f'{add(a,b)}')"
   ]
  }
 ],
 "metadata": {
  "kernelspec": {
   "display_name": "Python 3",
   "language": "python",
   "name": "python3"
  },
  "language_info": {
   "codemirror_mode": {
    "name": "ipython",
    "version": 3
   },
   "file_extension": ".py",
   "mimetype": "text/x-python",
   "name": "python",
   "nbconvert_exporter": "python",
   "pygments_lexer": "ipython3",
   "version": "3.9.13"
  }
 },
 "nbformat": 4,
 "nbformat_minor": 5
}
