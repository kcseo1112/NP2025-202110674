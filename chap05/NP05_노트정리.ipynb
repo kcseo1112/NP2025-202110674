{
 "cells": [
  {
   "cell_type": "markdown",
   "id": "9c9cb057",
   "metadata": {},
   "source": [
    "# 5장 파이썬 함수 노트정리\n",
    "\n",
    "설명 : 이 파일은 5장 학습하면서 실행한 내용을 정리한 것이다.\n",
    "\n",
    "날짜: 2025.09.17\n",
    "\n",
    "학번 : 202110674\n",
    "\n",
    "저자: 서강찬\n",
    "\n",
    "\n"
   ]
  },
  {
   "cell_type": "markdown",
   "id": "6ac1be00",
   "metadata": {},
   "source": [
    "---\n",
    "### 함수\n",
    "####함수란?\n",
    "이름을 붙여 반복적으로 사용할 수 있는 프로그램 부분\n",
    "\n",
    "####장점\n",
    "1. 중복 코드 제거\n",
    "2. 복잡한 코드 간단한 작업으로 분해\n",
    "3. 재사용성\n",
    "4. 가독성 및 유지 관리 쉬움"
   ]
  },
  {
   "cell_type": "code",
   "execution_count": 36,
   "id": "110288cd",
   "metadata": {},
   "outputs": [
    {
     "name": "stdout",
     "output_type": "stream",
     "text": [
      "Hello, seo\n",
      "1275\n"
     ]
    }
   ],
   "source": [
    "def welcome(name): #함수의 이름과 매개변수 정의\n",
    "    print(\"Hello,\",name)\n",
    "    \n",
    "welcome('seo')\n",
    "\n",
    "def sum(n):\n",
    "    hab = 0\n",
    "    for i in range(1,n+1):\n",
    "        hab = hab+i\n",
    "    return hab\n",
    "\n",
    "print(f'{sum(50)}')"
   ]
  },
  {
   "cell_type": "markdown",
   "id": "4342b985",
   "metadata": {},
   "source": [
    "---\n",
    "### 지역변수와 전역 변수\n"
   ]
  },
  {
   "cell_type": "code",
   "execution_count": null,
   "id": "e4f1b4a1",
   "metadata": {},
   "outputs": [
    {
     "name": "stdout",
     "output_type": "stream",
     "text": [
      "10\n",
      "func1()의 v = 10\n",
      "func2()의 d = 20\n"
     ]
    }
   ],
   "source": [
    "def func1() :\n",
    "    v = 10 #지역변수\n",
    "    print(\"func1()의 v = %d\" % v)\n",
    "def func2() :\n",
    "    d = 20  #지역변수\n",
    "    print(\"func2()의 d = %d\" % d)\n",
    "    \n",
    "d = 10 #전역 변수\n",
    "\n",
    "print(d) #전역변수 d를 호출\n",
    "#print(v) //지역 밖에서 호출 시 오류\n",
    "func1()\n",
    "func2()"
   ]
  },
  {
   "cell_type": "markdown",
   "id": "1a89d69e",
   "metadata": {},
   "source": [
    "---\n",
    "### global 변수 선언"
   ]
  },
  {
   "cell_type": "code",
   "execution_count": 42,
   "id": "6c9a6c92",
   "metadata": {},
   "outputs": [
    {
     "name": "stdout",
     "output_type": "stream",
     "text": [
      "10\n",
      "10\n"
     ]
    }
   ],
   "source": [
    "def func1():\n",
    "    global v \n",
    "    v=10\n",
    "    print(v)\n",
    "func1()\n",
    "print(v)"
   ]
  },
  {
   "cell_type": "markdown",
   "id": "3b31e9f9",
   "metadata": {},
   "source": [
    "---\n",
    "### eval 함수 사용법"
   ]
  },
  {
   "cell_type": "code",
   "execution_count": 4,
   "id": "fa73b462",
   "metadata": {},
   "outputs": [
    {
     "name": "stdout",
     "output_type": "stream",
     "text": [
      "5\n",
      "4112\n"
     ]
    },
    {
     "data": {
      "text/plain": [
       "'0x1010'"
      ]
     },
     "execution_count": 4,
     "metadata": {},
     "output_type": "execute_result"
    }
   ],
   "source": [
    "n=1\n",
    "m=2\n",
    "print(eval('n+2*m'))\n",
    "\n",
    "\n",
    "print(int('1010',16))\n",
    "\n",
    "hex(int('1010',16))\n"
   ]
  },
  {
   "cell_type": "code",
   "execution_count": null,
   "id": "9947dd23",
   "metadata": {},
   "outputs": [
    {
     "name": "stdout",
     "output_type": "stream",
     "text": [
      "5\n",
      "<filter object at 0x00000207FE08EE00>\n"
     ]
    }
   ],
   "source": [
    "list1 = ['this','is','a','test']\n",
    "def mylen(str):\n",
    "    return len(str)\n",
    "\n",
    "print(mylen('hello'))\n",
    "\n",
    "#리스트의 각 요소들의 len\n",
    "print(filter(mylen,list1))\n",
    "\n",
    "mylist = ['this','is','a','good book']\n",
    "#list(filter)"
   ]
  },
  {
   "cell_type": "code",
   "execution_count": 16,
   "id": "bafe68da",
   "metadata": {},
   "outputs": [
    {
     "name": "stdout",
     "output_type": "stream",
     "text": [
      "False\n",
      "True\n",
      "['this']\n"
     ]
    }
   ],
   "source": [
    "mylist = ['this','is','a','good book']\n",
    "\n",
    "def isGood(x):\n",
    "        return True if len(x)>2 else False\n",
    "del list\n",
    "print(isGood('H'))\n",
    "\n",
    "print(isGood('Good'))\n",
    "\n",
    "filter(isGood,mylist)\n",
    "\n",
    "print(list(filter(lambda x: len(x) > 2, ['this','is'])))\n",
    "# ['this']\n"
   ]
  },
  {
   "cell_type": "code",
   "execution_count": 29,
   "id": "a55bccfd",
   "metadata": {},
   "outputs": [
    {
     "name": "stdout",
     "output_type": "stream",
     "text": [
      "12\n"
     ]
    }
   ],
   "source": [
    "a,b= input(\"더하기 값 a,b입력\").split()\n",
    "\n",
    "def add(a:int,b:int)->int:\n",
    "    return a+b\n",
    "print(f'{add(a,b)}')"
   ]
  },
  {
   "cell_type": "markdown",
   "id": "fd012a94",
   "metadata": {},
   "source": [
    "f-stirng"
   ]
  },
  {
   "cell_type": "code",
   "execution_count": 22,
   "id": "82c7a4e6",
   "metadata": {},
   "outputs": [
    {
     "data": {
      "text/plain": [
       "'My name is seo'"
      ]
     },
     "execution_count": 22,
     "metadata": {},
     "output_type": "execute_result"
    }
   ],
   "source": [
    "age=3\n",
    "name = 'Ailice'\n",
    "age:int=20\n",
    "name:str = 'Bob'\n",
    "\n",
    "'My name is {n}'.format(n='seo')\n"
   ]
  },
  {
   "cell_type": "code",
   "execution_count": 28,
   "id": "05f33022",
   "metadata": {},
   "outputs": [
    {
     "name": "stdout",
     "output_type": "stream",
     "text": [
      "내이름은kang,나이는30입니다\n"
     ]
    }
   ],
   "source": [
    "\n",
    "age:int=30\n",
    "name:str='kang'\n",
    "\n",
    "newstirng=f'내이름은{name},나이는{age}입니다'\n",
    "print(newstirng)"
   ]
  }
 ],
 "metadata": {
  "kernelspec": {
   "display_name": "Python 3",
   "language": "python",
   "name": "python3"
  },
  "language_info": {
   "codemirror_mode": {
    "name": "ipython",
    "version": 3
   },
   "file_extension": ".py",
   "mimetype": "text/x-python",
   "name": "python",
   "nbconvert_exporter": "python",
   "pygments_lexer": "ipython3",
   "version": "3.12.0"
  }
 },
 "nbformat": 4,
 "nbformat_minor": 5
}
