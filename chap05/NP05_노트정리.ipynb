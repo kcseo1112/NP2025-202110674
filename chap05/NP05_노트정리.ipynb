{
 "cells": [
  {
   "cell_type": "markdown",
   "id": "9c9cb057",
   "metadata": {},
   "source": [
    "# 5장 파이썬 함수 노트정리\n",
    "\n",
    "설명 : 이 파일은 5장 학습하면서 실행한 내용을 정리한 것이다.\n",
    "\n",
    "날짜: 2025.09.17\n",
    "\n",
    "학번 : 202110674\n",
    "\n",
    "저자: 서강찬\n",
    "\n",
    "\n"
   ]
  },
  {
   "cell_type": "markdown",
   "id": "3b31e9f9",
   "metadata": {},
   "source": [
    "---\n",
    "### eval 함수 사용법"
   ]
  },
  {
   "cell_type": "code",
   "execution_count": 4,
   "id": "fa73b462",
   "metadata": {},
   "outputs": [
    {
     "name": "stdout",
     "output_type": "stream",
     "text": [
      "5\n",
      "4112\n"
     ]
    },
    {
     "data": {
      "text/plain": [
       "'0x1010'"
      ]
     },
     "execution_count": 4,
     "metadata": {},
     "output_type": "execute_result"
    }
   ],
   "source": [
    "n=1\n",
    "m=2\n",
    "print(eval('n+2*m'))\n",
    "\n",
    "\n",
    "print(int('1010',16))\n",
    "\n",
    "hex(int('1010',16))\n"
   ]
  },
  {
   "cell_type": "code",
   "execution_count": null,
   "id": "9947dd23",
   "metadata": {},
   "outputs": [
    {
     "name": "stdout",
     "output_type": "stream",
     "text": [
      "5\n",
      "<filter object at 0x00000207FE08EE00>\n"
     ]
    }
   ],
   "source": [
    "list1 = ['this','is','a','test']\n",
    "def mylen(str):\n",
    "    return len(str)\n",
    "\n",
    "print(mylen('hello'))\n",
    "\n",
    "#리스트의 각 요소들의 len\n",
    "print(filter(mylen,list1))\n",
    "\n",
    "mylist = ['this','is','a','good book']\n",
    "#list(filter)"
   ]
  },
  {
   "cell_type": "code",
   "execution_count": 16,
   "id": "bafe68da",
   "metadata": {},
   "outputs": [
    {
     "name": "stdout",
     "output_type": "stream",
     "text": [
      "False\n",
      "True\n",
      "['this']\n"
     ]
    }
   ],
   "source": [
    "mylist = ['this','is','a','good book']\n",
    "\n",
    "def isGood(x):\n",
    "        return True if len(x)>2 else False\n",
    "del list\n",
    "print(isGood('H'))\n",
    "\n",
    "print(isGood('Good'))\n",
    "\n",
    "filter(isGood,mylist)\n",
    "\n",
    "print(list(filter(lambda x: len(x) > 2, ['this','is'])))\n",
    "# ['this']\n"
   ]
  },
  {
   "cell_type": "code",
   "execution_count": 29,
   "id": "a55bccfd",
   "metadata": {},
   "outputs": [
    {
     "name": "stdout",
     "output_type": "stream",
     "text": [
      "12\n"
     ]
    }
   ],
   "source": [
    "a,b= input(\"더하기 값 a,b입력\").split()\n",
    "\n",
    "def add(a:int,b:int)->int:\n",
    "    return a+b\n",
    "print(f'{add(a,b)}')"
   ]
  },
  {
   "cell_type": "markdown",
   "id": "fd012a94",
   "metadata": {},
   "source": [
    "f-stirng"
   ]
  },
  {
   "cell_type": "code",
   "execution_count": 22,
   "id": "82c7a4e6",
   "metadata": {},
   "outputs": [
    {
     "data": {
      "text/plain": [
       "'My name is seo'"
      ]
     },
     "execution_count": 22,
     "metadata": {},
     "output_type": "execute_result"
    }
   ],
   "source": [
    "age=3\n",
    "name = 'Ailice'\n",
    "age:int=20\n",
    "name:str = 'Bob'\n",
    "\n",
    "'My name is {n}'.format(n='seo')\n"
   ]
  },
  {
   "cell_type": "code",
   "execution_count": 28,
   "id": "05f33022",
   "metadata": {},
   "outputs": [
    {
     "name": "stdout",
     "output_type": "stream",
     "text": [
      "내이름은kang,나이는30입니다\n"
     ]
    }
   ],
   "source": [
    "\n",
    "age:int=30\n",
    "name:str='kang'\n",
    "\n",
    "newstirng=f'내이름은{name},나이는{age}입니다'\n",
    "print(newstirng)"
   ]
  }
 ],
 "metadata": {
  "kernelspec": {
   "display_name": "Python 3",
   "language": "python",
   "name": "python3"
  },
  "language_info": {
   "codemirror_mode": {
    "name": "ipython",
    "version": 3
   },
   "file_extension": ".py",
   "mimetype": "text/x-python",
   "name": "python",
   "nbconvert_exporter": "python",
   "pygments_lexer": "ipython3",
   "version": "3.12.0"
  }
 },
 "nbformat": 4,
 "nbformat_minor": 5
}
