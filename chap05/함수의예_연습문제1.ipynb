{
 "cells": [
  {
   "cell_type": "markdown",
   "id": "2fabd629",
   "metadata": {},
   "source": [
    "### 반지름을 전달하면 원의 면적을 반환하는 cir_area(r) 함수와원의 둘레를 반환하는 cir_cirm(r) 함수를 작성하라. 이들 함수를이용하여 반지름이 3.5cm인 원의 면적과 둘레를 소수점 아래첫 자리까지 구하라."
   ]
  },
  {
   "cell_type": "code",
   "execution_count": 2,
   "id": "5779afcd",
   "metadata": {},
   "outputs": [
    {
     "name": "stdout",
     "output_type": "stream",
     "text": [
      "원의 둘레 22.0, 원의 면적 38.5\n"
     ]
    }
   ],
   "source": [
    "#r= int(input(\"반지름 r을 입력\"))\n",
    "r=3.5\n",
    "pi=3.14\n",
    "def cir_cirm(r)->int:\n",
    "    cirm = 2*pi*r\n",
    "    return cirm\n",
    "\n",
    "def cir_area(r)->int:\n",
    "    area = pi*r*r\n",
    "    return area\n",
    "\n",
    "print('원의 둘레 %.1f, 원의 면적 %.1f'%(cir_cirm(r),cir_area(r)))\n",
    "    "
   ]
  }
 ],
 "metadata": {
  "kernelspec": {
   "display_name": "Python 3",
   "language": "python",
   "name": "python3"
  },
  "language_info": {
   "codemirror_mode": {
    "name": "ipython",
    "version": 3
   },
   "file_extension": ".py",
   "mimetype": "text/x-python",
   "name": "python",
   "nbconvert_exporter": "python",
   "pygments_lexer": "ipython3",
   "version": "3.9.13"
  }
 },
 "nbformat": 4,
 "nbformat_minor": 5
}
