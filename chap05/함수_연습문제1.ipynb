{
 "cells": [
  {
   "cell_type": "markdown",
   "id": "c01faa5e",
   "metadata": {},
   "source": [
    "### 1. 두 개의 매개변수 n, m을 전달받아 m x n개의 * 상자를 출력하는 프로그램을 함수로 작성"
   ]
  },
  {
   "cell_type": "code",
   "execution_count": null,
   "id": "5d3f605b",
   "metadata": {},
   "outputs": [
    {
     "name": "stdout",
     "output_type": "stream",
     "text": [
      "*****\n",
      "*****\n",
      "*****\n"
     ]
    }
   ],
   "source": [
    "def draw_box(x:int,y:int)->int:\n",
    "    for i in range(1,x+1):\n",
    "        print('*'*y)\n",
    "            \n",
    "x,y= map(int,input(\"x, y 입력\").split())\n",
    "draw_box(x,y)"
   ]
  },
  {
   "cell_type": "markdown",
   "id": "0b1c1b30",
   "metadata": {},
   "source": [
    "### 2.하나의 숫자를 전달받아 숫자의 자리 합을 구하는 함수를 작성"
   ]
  },
  {
   "cell_type": "code",
   "execution_count": null,
   "id": "234994ac",
   "metadata": {},
   "outputs": [
    {
     "name": "stdout",
     "output_type": "stream",
     "text": [
      "6\n",
      "6\n"
     ]
    }
   ],
   "source": [
    "def add_num(x:int)->int:\n",
    "    x1 = x // 100\n",
    "    x2 = x%100 // 10\n",
    "    x3 = (x%100)%10 // 1\n",
    "    return x1+x2+ x3    \n",
    "x=int(input(\"3자리 이하의 값 입력\"))\n",
    "print(add_num(x))\n",
    "\n",
    "##########\n",
    "\n",
    "def add_num1(x:int)->int:\n",
    "    sum1=0\n",
    "\n",
    "    while x > 0:\n",
    "        sum1 += x %10\n",
    "        x = x // 10\n",
    "    return sum1\n",
    "\n",
    "print(add_num1(x))"
   ]
  },
  {
   "cell_type": "markdown",
   "id": "88b79c27",
   "metadata": {},
   "source": [
    "### 3.두 개의 문자열이 서로 다른 처음 위치를 반환하는 함수를 작성. 두 개의 문자열이 같으면 -1을 반환"
   ]
  },
  {
   "cell_type": "code",
   "execution_count": 2,
   "id": "99905998",
   "metadata": {},
   "outputs": [
    {
     "name": "stdout",
     "output_type": "stream",
     "text": [
      "0\n"
     ]
    }
   ],
   "source": [
    "def str_same(s1: str, s2: str) -> int:\n",
    "    min_len = min(len(s1), len(s2))\n",
    "    \n",
    "    # 짧은 쪽 길이까지 비교\n",
    "    for i in range(min_len):\n",
    "        if s1[i] != s2[i]:\n",
    "            return i\n",
    "    \n",
    "    # 여기까지 오면 짧은 길이만큼은 같음\n",
    "    if len(s1) != len(s2):\n",
    "        return min_len  # 길이가 달라서 차이 발생\n",
    "    else:\n",
    "        return -1       # 완전히 동일\n",
    "\n",
    "# 실행\n",
    "s1, s2 = input(\"두개의 문자열 입력: \").split()\n",
    "print(str_same(s1, s2))\n",
    "\n",
    "            \n",
    "                "
   ]
  },
  {
   "cell_type": "code",
   "execution_count": null,
   "id": "4b5d10d6",
   "metadata": {},
   "outputs": [],
   "source": [
    "# 오류\n",
    "s1,s2 =input(\"두개의 문자열 입력\").split()\n",
    "def str_same(x,y):\n",
    "    if  s1==s2:\n",
    "        return -1\n",
    "    elif s1>=s2:\n",
    "        for i in range(0,len(s2)):\n",
    "            if s1[i] !=s2[i]:\n",
    "                return i\n",
    "    elif s1 < s2:\n",
    "        for i in range(0,len(s1)):\n",
    "            if s1[i] !=s2[i]:\n",
    "                return i\n",
    "            \n",
    "print(str_same(s1,s2))\n",
    "        \n",
    "            \n",
    "                "
   ]
  },
  {
   "cell_type": "markdown",
   "id": "5376cea8",
   "metadata": {},
   "source": [
    "### 4. 숫자를 전달받아 그 수의 약수를 리스트로 반환하는 함수를 작성\n"
   ]
  },
  {
   "cell_type": "code",
   "execution_count": 5,
   "id": "236e37fc",
   "metadata": {},
   "outputs": [
    {
     "data": {
      "text/plain": [
       "[1, 13]"
      ]
     },
     "execution_count": 5,
     "metadata": {},
     "output_type": "execute_result"
    }
   ],
   "source": [
    "n = int(input(\"정수 입력: \"))\n",
    "\n",
    "def factor(n):\n",
    "    list1=[]\n",
    "    for i in range(1, n+1):\n",
    "        if n % i == 0:\n",
    "            list1.append(i)\n",
    "    return list1\n",
    "\n",
    "factor(n)\n"
   ]
  },
  {
   "cell_type": "markdown",
   "id": "aa72fa4a",
   "metadata": {},
   "source": [
    "### 5. 문자열과 하나의 문자를 전달받아 문자열에서 문자의 위치를 모두 찾아 리스트로 반환하는 함수를 작성"
   ]
  },
  {
   "cell_type": "code",
   "execution_count": 8,
   "id": "1e6f15cf",
   "metadata": {},
   "outputs": [
    {
     "name": "stdout",
     "output_type": "stream",
     "text": [
      "0,2,"
     ]
    }
   ],
   "source": [
    "str1,s1=input(\"문자열과 문자를 각각 입력하세요\").split()\n",
    "def find_str(str,s):\n",
    "    for i in range(0,len(str)):\n",
    "        if str[i]==s:\n",
    "         print(i,end=\",\")\n",
    "        \n",
    "find_str(str1,s1)"
   ]
  },
  {
   "cell_type": "markdown",
   "id": "30dbb58c",
   "metadata": {},
   "source": [
    "### 6. 재귀 함수를 이용하여 1부터 100까지의 합을 계산하는 프로그램"
   ]
  }
 ],
 "metadata": {
  "kernelspec": {
   "display_name": "Python 3",
   "language": "python",
   "name": "python3"
  },
  "language_info": {
   "codemirror_mode": {
    "name": "ipython",
    "version": 3
   },
   "file_extension": ".py",
   "mimetype": "text/x-python",
   "name": "python",
   "nbconvert_exporter": "python",
   "pygments_lexer": "ipython3",
   "version": "3.12.0"
  }
 },
 "nbformat": 4,
 "nbformat_minor": 5
}
