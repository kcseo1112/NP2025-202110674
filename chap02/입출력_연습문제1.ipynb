{
 "cells": [
  {
   "cell_type": "markdown",
   "id": "cdfc6f40",
   "metadata": {},
   "source": [
    "### 1. 키보드에서 임의의 두 실수를 입력 받아 곱한 후 그 결과를 출력하는 프로그램을 작성하고 실행하라\n",
    "(노트정리에서 학습한 map()과 split을 사용한 방식)"
   ]
  },
  {
   "cell_type": "code",
   "execution_count": 5,
   "id": "14da101f",
   "metadata": {},
   "outputs": [
    {
     "name": "stdout",
     "output_type": "stream",
     "text": [
      "2.5 x 2.5 = 6.25\n"
     ]
    }
   ],
   "source": [
    "a,b = map(float,input(\"두 실수를 입력하세요\").split())\n",
    "def multiply(a,b):\n",
    "    return a*b\n",
    "\n",
    "print(a,\"x\",b,\"=\",multiply(a,b))"
   ]
  },
  {
   "cell_type": "markdown",
   "id": "81f79409",
   "metadata": {},
   "source": [
    "---\n",
    "### 2. 1마일은 1.609km이다. 키보드에서 마일(정수)을 입력 받아 km로 변환해 출력하는 프로그램을 작성하고 실행하라\n",
    "\n"
   ]
  },
  {
   "cell_type": "code",
   "execution_count": 1,
   "id": "af508d09",
   "metadata": {},
   "outputs": [
    {
     "name": "stdout",
     "output_type": "stream",
     "text": [
      "3 마일 = 4.82802 킬로미터\n"
     ]
    }
   ],
   "source": [
    "a = int(input(\"마일(정수)를 입력하세요\"))\n",
    "def mile_to_km(a):\n",
    "    return a*1.60934\n",
    "\n",
    "print(a,\"마일 =\",mile_to_km(a),\"킬로미터\")"
   ]
  },
  {
   "cell_type": "markdown",
   "id": "7eb1fa92",
   "metadata": {},
   "source": [
    "---\n",
    "### 3. 원의 반지름을 입력 받아 원의 둘레와 원의 면적을 출력하는 프로그램을 작성하라"
   ]
  },
  {
   "cell_type": "code",
   "execution_count": 5,
   "id": "5fb5f150",
   "metadata": {},
   "outputs": [
    {
     "name": "stdout",
     "output_type": "stream",
     "text": [
      "원의 둘레 공식 : 2πr\n",
      " 반지름:  5 일때 원의 둘레 31.400000000000002\n",
      "-------------------------------\n",
      "원의 넓이 공식 : ㅠr*r\n",
      " 반지름:  5 일때 원의 넓이 78.5\n"
     ]
    }
   ],
   "source": [
    "r= int(input(\"원의 반지름을 입력하시오\"))\n",
    "\n",
    "def circle_circumference(r):\n",
    "    return 2*3.14*r\n",
    "\n",
    "def cicle_area(r):\n",
    "    return 3.14*r**2\n",
    "\n",
    "print(\"원의 둘레 공식 : 2πr\\n 반지름: \",r,\"일때 원의 둘레\",circle_circumference(r))\n",
    "print(\"-------------------------------\")\n",
    "print(\"원의 넓이 공식 : ㅠr*r\\n 반지름: \",r,\"일때 원의 넓이\",cicle_area(r))\n",
    "\n",
    "\n",
    "\n"
   ]
  }
 ],
 "metadata": {
  "kernelspec": {
   "display_name": "Python 3",
   "language": "python",
   "name": "python3"
  },
  "language_info": {
   "codemirror_mode": {
    "name": "ipython",
    "version": 3
   },
   "file_extension": ".py",
   "mimetype": "text/x-python",
   "name": "python",
   "nbconvert_exporter": "python",
   "pygments_lexer": "ipython3",
   "version": "3.12.0"
  }
 },
 "nbformat": 4,
 "nbformat_minor": 5
}
