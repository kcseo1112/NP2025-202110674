{
 "cells": [
  {
   "cell_type": "markdown",
   "id": "37aaa807",
   "metadata": {},
   "source": [
    "### 1. 5와 3을 더한 값을 출력하는 프로그램을 작성하라."
   ]
  },
  {
   "cell_type": "code",
   "execution_count": 1,
   "id": "ec391473",
   "metadata": {},
   "outputs": [
    {
     "name": "stdout",
     "output_type": "stream",
     "text": [
      "5+3 = 8\n"
     ]
    }
   ],
   "source": [
    "print(\"5+3 =\",5+3)"
   ]
  },
  {
   "cell_type": "markdown",
   "id": "443d32f9",
   "metadata": {},
   "source": [
    "### 2. 7에서 3을 뺀 값을 출력하는 프로그램을 작성하라.\n"
   ]
  },
  {
   "cell_type": "code",
   "execution_count": null,
   "id": "4dabb662",
   "metadata": {},
   "outputs": [],
   "source": [
    "print(\"7+3 =\",7+3)"
   ]
  },
  {
   "cell_type": "markdown",
   "id": "dbf21979",
   "metadata": {},
   "source": [
    "### 3. 4를 2로 나눈 값을 출력하는 프로그램을 작성하라"
   ]
  },
  {
   "cell_type": "code",
   "execution_count": 2,
   "id": "3766ed21",
   "metadata": {},
   "outputs": [
    {
     "name": "stdout",
     "output_type": "stream",
     "text": [
      "4 / 2 = 2.0\n"
     ]
    }
   ],
   "source": [
    "print(\"4 / 2 =\",4 / 2)"
   ]
  },
  {
   "cell_type": "markdown",
   "id": "5bd43e78",
   "metadata": {},
   "source": [
    "### 4. 8을 3으로 나눈 몫과 나머지를 출력하는 프로그램을 작성하라.\n"
   ]
  },
  {
   "cell_type": "code",
   "execution_count": 5,
   "id": "e103ff4f",
   "metadata": {},
   "outputs": [
    {
     "name": "stdout",
     "output_type": "stream",
     "text": [
      "8 / 3 결과\n",
      "몫 :  2\n",
      "나머지 :  2\n"
     ]
    }
   ],
   "source": [
    "a=8\n",
    "b=3\n",
    "print(\"8 / 3 결과\")\n",
    "print(\"몫 : \",a // b)\n",
    "print(\"나머지 : \",a % b)"
   ]
  },
  {
   "cell_type": "markdown",
   "id": "c442be2e",
   "metadata": {},
   "source": [
    "### 5. 2의 5제곱을 출력하는 프로그램을 작성하라"
   ]
  },
  {
   "cell_type": "code",
   "execution_count": 6,
   "id": "e53ba850",
   "metadata": {},
   "outputs": [
    {
     "name": "stdout",
     "output_type": "stream",
     "text": [
      "2의 5제곱 32\n"
     ]
    }
   ],
   "source": [
    "print(\"2의 5제곱\",2**5)"
   ]
  },
  {
   "cell_type": "markdown",
   "id": "f84e1e7a",
   "metadata": {},
   "source": [
    "### 6. 입력된 정수가 10보다 크고 20보다 작은지 검사하는 프로그램을 작성하라"
   ]
  },
  {
   "cell_type": "code",
   "execution_count": null,
   "id": "80246177",
   "metadata": {},
   "outputs": [],
   "source": [
    "a=int(input(\"정수 a 입력: \"))\n",
    "\n",
    "if a >10 and a <20:\n",
    "    print(\"a는 10보다 크고 20보다 작다\")\n",
    "else\n",
    "    print(\"해당하지 않음\")\n",
    "\n"
   ]
  },
  {
   "cell_type": "markdown",
   "id": "dc318654",
   "metadata": {},
   "source": [
    "### 7. 문자열 \"hello\"와 문자열 \"world\"를 이어 붙인 결과를 출력하는 프로그램을 작성하라.\n"
   ]
  },
  {
   "cell_type": "code",
   "execution_count": 14,
   "id": "6d925d4e",
   "metadata": {},
   "outputs": [
    {
     "name": "stdout",
     "output_type": "stream",
     "text": [
      "helloworld\n"
     ]
    }
   ],
   "source": [
    "a='hello'\n",
    "b='world' \n",
    "print(a + b)"
   ]
  },
  {
   "cell_type": "markdown",
   "id": "def4a113",
   "metadata": {},
   "source": [
    "### 8. 7을 2로 나눈 결과가 3보다 작은지 검사하는 프로그램을 작성하라.\n"
   ]
  },
  {
   "cell_type": "code",
   "execution_count": 15,
   "id": "caf9ed7e",
   "metadata": {},
   "outputs": [
    {
     "name": "stdout",
     "output_type": "stream",
     "text": [
      "3보다 작다\n"
     ]
    }
   ],
   "source": [
    "if (7 / 2) <3 :\n",
    "    print(\"3보다 크다\")\n",
    "else:\n",
    "    print(\"3보다 작다\")"
   ]
  },
  {
   "cell_type": "markdown",
   "id": "05ff9095",
   "metadata": {},
   "source": [
    "### 9. 변수 x의 값이 5와 같지 않은지 검사하는 프로그램을 작성하라."
   ]
  },
  {
   "cell_type": "code",
   "execution_count": null,
   "id": "50f0c8b1",
   "metadata": {},
   "outputs": [],
   "source": [
    "x =int(input(\"정수 x 입력: \"))\n",
    "if x != 5:\n",
    "    print(\"x는 5와 같지 않다.\")\n"
   ]
  },
  {
   "cell_type": "markdown",
   "id": "62ef5bbb",
   "metadata": {},
   "source": [
    "### 10. 변수 y의 값이 10에서 20 사이의 값인지 검사하는 프로그램을 작성하라\n"
   ]
  },
  {
   "cell_type": "code",
   "execution_count": null,
   "id": "2577e86b",
   "metadata": {},
   "outputs": [
    {
     "name": "stdout",
     "output_type": "stream",
     "text": [
      "y는 10에서 20 사이의 값이다.\n"
     ]
    }
   ],
   "source": [
    "y= int(input(\"정수 y 입력:\"))\n",
    "if y >10 and y<20:\n",
    "    print(\"y는 10에서 20 사이의 값이다.\")\n",
    "else: \n",
    "    print(\"해당하지 않음\")"
   ]
  }
 ],
 "metadata": {
  "kernelspec": {
   "display_name": "Python 3",
   "language": "python",
   "name": "python3"
  },
  "language_info": {
   "codemirror_mode": {
    "name": "ipython",
    "version": 3
   },
   "file_extension": ".py",
   "mimetype": "text/x-python",
   "name": "python",
   "nbconvert_exporter": "python",
   "pygments_lexer": "ipython3",
   "version": "3.12.0"
  }
 },
 "nbformat": 4,
 "nbformat_minor": 5
}
