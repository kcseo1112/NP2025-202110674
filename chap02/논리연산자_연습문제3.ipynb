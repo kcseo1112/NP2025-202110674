{
 "cells": [
  {
   "cell_type": "markdown",
   "id": "d511eb76",
   "metadata": {},
   "source": [
    "### 1. 5가 3보다 크고 7보다 작은지 검사하는 프로그램을 작성하라.\n"
   ]
  },
  {
   "cell_type": "code",
   "execution_count": null,
   "id": "fef46c99",
   "metadata": {},
   "outputs": [
    {
     "name": "stdout",
     "output_type": "stream",
     "text": [
      "5는 3보다크고, 7보다 작다\n"
     ]
    }
   ],
   "source": [
    "x=5\n",
    "if x>3 and x<7:\n",
    "    print(\"5는 3보다크고, 7보다 작다\");\n",
    "else:\n",
    "    print(\"해당하지 않음\")"
   ]
  },
  {
   "cell_type": "markdown",
   "id": "ac0bb17d",
   "metadata": {},
   "source": [
    "### 2. 변수 x가 10 이상이고 20 이하인지 검사하는 프로그램을 작성하라."
   ]
  },
  {
   "cell_type": "code",
   "execution_count": 4,
   "id": "8ab402b6",
   "metadata": {},
   "outputs": [
    {
     "name": "stdout",
     "output_type": "stream",
     "text": [
      "x는 10이상 20 이하의 값이다.\n"
     ]
    }
   ],
   "source": [
    "x= int(input(\"정수 x 입력:\"))\n",
    "if x >=10 and x<=20:\n",
    "    print(\"x는 10이상 20 이하의 값이다.\")\n",
    "else: \n",
    "    print(\"해당하지 않음\")"
   ]
  },
  {
   "cell_type": "markdown",
   "id": "f4c2d10b",
   "metadata": {},
   "source": [
    "### 3. 변수 y가 5의 배수이거나 7의 배수인지 검사하는 프로그램을 작성하라."
   ]
  },
  {
   "cell_type": "code",
   "execution_count": 11,
   "id": "576267e0",
   "metadata": {},
   "outputs": [
    {
     "name": "stdout",
     "output_type": "stream",
     "text": [
      "해당하지 않음\n"
     ]
    }
   ],
   "source": [
    "y= int(input(\"정수 y 입력:\"))\n",
    "if (y%5) == 0:\n",
    "    print(\"y는 5의 배수이다\")\n",
    "elif (y%7)==0:\n",
    "    print(\"y는 7의 배수이다.\")\n",
    "else:\n",
    "    print(\"해당하지 않음\")"
   ]
  },
  {
   "cell_type": "markdown",
   "id": "356b6ff5",
   "metadata": {},
   "source": [
    "### 4. 변수 z가 양수이면서 짝수인지 검사하는 프로그램을 작성하라."
   ]
  },
  {
   "cell_type": "code",
   "execution_count": 14,
   "id": "5bd339e5",
   "metadata": {},
   "outputs": [
    {
     "name": "stdout",
     "output_type": "stream",
     "text": [
      "해당사항 없음\n"
     ]
    }
   ],
   "source": [
    "z = int(input(\"숫자 값 입력: \"))\n",
    "if z>0 and (z%2) == 0:\n",
    "    print(\"z는 양수이면서 짝수이다.\")\n",
    "else:\n",
    "    print(\"해당사항 없음\")"
   ]
  },
  {
   "cell_type": "markdown",
   "id": "b6574e3a",
   "metadata": {},
   "source": [
    "### 5. 변수 a가 문자열 \"hello\"나 문자열 \"world\" 중 하나인지 검사하는 프로그램을 작성하라.\n"
   ]
  },
  {
   "cell_type": "code",
   "execution_count": 15,
   "id": "61e39c43",
   "metadata": {},
   "outputs": [
    {
     "name": "stdout",
     "output_type": "stream",
     "text": [
      "a는 hello 입니다\n"
     ]
    }
   ],
   "source": [
    "a=input(\"hello 또는 world를 입력하세요\")\n",
    "if a==\"hello\":\n",
    "    print(\"a는 hello 입니다\")\n",
    "elif a==\"world\":\n",
    "    print(\"a는 world 입니다.\")\n",
    "else:\n",
    "    print(\"해당사항 없음\")"
   ]
  }
 ],
 "metadata": {
  "kernelspec": {
   "display_name": "Python 3",
   "language": "python",
   "name": "python3"
  },
  "language_info": {
   "codemirror_mode": {
    "name": "ipython",
    "version": 3
   },
   "file_extension": ".py",
   "mimetype": "text/x-python",
   "name": "python",
   "nbconvert_exporter": "python",
   "pygments_lexer": "ipython3",
   "version": "3.12.0"
  }
 },
 "nbformat": 4,
 "nbformat_minor": 5
}
