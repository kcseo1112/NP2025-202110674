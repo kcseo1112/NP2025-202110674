{
 "cells": [
  {
   "cell_type": "markdown",
   "id": "ce82fe1e",
   "metadata": {},
   "source": [
    "## 2장 노트정리\n",
    "\n",
    "이 파일은 2장 학습하면서 실행한 내용을 정리한 것이다.\n",
    "\n",
    "날짜: 2025.09.09\n",
    "\n",
    "저자: 서강찬\n"
   ]
  },
  {
   "cell_type": "markdown",
   "id": "4df5dbac",
   "metadata": {},
   "source": []
  },
  {
   "cell_type": "code",
   "execution_count": 1,
   "id": "95be3e63",
   "metadata": {},
   "outputs": [
    {
     "name": "stdout",
     "output_type": "stream",
     "text": [
      "Hello, World!, 여러분!!\n"
     ]
    }
   ],
   "source": [
    "print(\"Hello, World!, 여러분!!\")"
   ]
  }
 ],
 "metadata": {
  "kernelspec": {
   "display_name": ".venv (3.12.0)",
   "language": "python",
   "name": "python3"
  },
  "language_info": {
   "codemirror_mode": {
    "name": "ipython",
    "version": 3
   },
   "file_extension": ".py",
   "mimetype": "text/x-python",
   "name": "python",
   "nbconvert_exporter": "python",
   "pygments_lexer": "ipython3",
   "version": "3.12.0"
  }
 },
 "nbformat": 4,
 "nbformat_minor": 5
}
