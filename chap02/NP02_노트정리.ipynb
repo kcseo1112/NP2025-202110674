{
 "cells": [
  {
   "cell_type": "markdown",
   "id": "ce82fe1e",
   "metadata": {},
   "source": [
    "# 2장 데이터형, 연산자, 표현식 노트정리\n",
    "\n",
    "설명 : 이 파일은 2장 학습하면서 실행한 내용을 정리한 것이다.\n",
    "\n",
    "날짜: 2025.09.09\n",
    "\n",
    "학번 : 202110674\n",
    "\n",
    "저자: 서강찬\n",
    "\n",
    "\n"
   ]
  },
  {
   "cell_type": "markdown",
   "id": "4df5dbac",
   "metadata": {},
   "source": [
    "---\n",
    "\n",
    "### *파이썬을 사용하기전 알아야 할 사실\n",
    "파이썬은 기존에 사용하던 자바와 c언어와의 차이가 존재한다.\n",
    "\n",
    "1. Python은 인터프터 언어 (interpreted languge)로 실행 전에 컴파일할 필요없다.\n",
    "  \n",
    "   (대신 실행시점에서 한 줄씩 읽어 기계어로 변환하여 실행한다.)\n",
    "\n",
    "    (c언어, java는 컴파일 언어라서 실행하기 전에 컴퓨터가 이해할 수 있는 기계어로 컴파일 하는 과정이 필요하다.)\n",
    "\n",
    "2. Python은 '동적타이핑' 언어라서 변수 선언 시Type 지정 없이 변수를 생성하여 바로 사용할 수 있다.\n",
    "\n",
    "   값이 할당될때 자동으로 타입이 결정된다\n",
    "\n",
    "    (ex) c언어에서는 int, folat, double형 등의 타입지정을 미리 해줘야한다. )\n",
    "\n",
    "==> 이러한 특징으로 같은 문제인 \"Hello world\"를 출력하는 코드도 극명한 차이를 보여준다.\n",
    "\n",
    "---\n",
    "\n",
    "#### c언어\n",
    "\n",
    "#incldue <stdio.h>\n",
    "\n",
    "int main(void){\n",
    "\n",
    "    printf(\"hello world\")\n",
    "\n",
    "    return 0;\n",
    "\n",
    "}\n",
    "\n",
    "\n",
    "#### Python\n",
    "print(\"hello world\")\n",
    "\n",
    "---\n"
   ]
  },
  {
   "cell_type": "markdown",
   "id": "80e8dfbb",
   "metadata": {},
   "source": [
    "### hello world 출력\n"
   ]
  },
  {
   "cell_type": "code",
   "execution_count": null,
   "id": "95be3e63",
   "metadata": {},
   "outputs": [
    {
     "name": "stdout",
     "output_type": "stream",
     "text": [
      "Hello, World!, 여러분!!\n"
     ]
    }
   ],
   "source": [
    "print(\"Hello, World!, 여러분!!\")"
   ]
  },
  {
   "cell_type": "markdown",
   "id": "c04855f1",
   "metadata": {},
   "source": [
    "---\n",
    "### print 사용법도 다양하다."
   ]
  },
  {
   "cell_type": "code",
   "execution_count": 3,
   "id": "b1b5965c",
   "metadata": {},
   "outputs": [
    {
     "name": "stdout",
     "output_type": "stream",
     "text": [
      "x 값 = 3\n",
      "x = 3\n"
     ]
    }
   ],
   "source": [
    "x = 3\n",
    "print(f\"x 값 = {x}\")\n",
    "print(\"x =\",x)"
   ]
  },
  {
   "cell_type": "markdown",
   "id": "281c1031",
   "metadata": {},
   "source": [
    "---\n",
    "### print() 함수"
   ]
  },
  {
   "cell_type": "code",
   "execution_count": 2,
   "id": "adfb7066",
   "metadata": {},
   "outputs": [
    {
     "name": "stdout",
     "output_type": "stream",
     "text": [
      "30\n"
     ]
    }
   ],
   "source": [
    "print(10+20)"
   ]
  },
  {
   "cell_type": "code",
   "execution_count": 6,
   "id": "888a9a51",
   "metadata": {},
   "outputs": [
    {
     "name": "stdout",
     "output_type": "stream",
     "text": [
      "동양미래대학교\n",
      "abc abc abc \n",
      "30\n",
      "덧셈 : 10+20=30\n"
     ]
    }
   ],
   "source": [
    "print(\"동양미래대학교\")# 문자열 출력\n",
    "print(\"abc \"*3)# 문자열 반복\n",
    "x = 10\n",
    "y = 20  # 변수에 값 저장\n",
    "print(x+y) # 변수 값 출력    \n",
    "z=x+y \n",
    "print(f\"덧셈 : {x}+{y}={z}\") "
   ]
  },
  {
   "cell_type": "markdown",
   "id": "236cfcb3",
   "metadata": {},
   "source": [
    "---\n",
    "### print() 함수- 서식 지정\n"
   ]
  },
  {
   "cell_type": "code",
   "execution_count": 11,
   "id": "c673de24",
   "metadata": {},
   "outputs": [
    {
     "name": "stdout",
     "output_type": "stream",
     "text": [
      "1020\n",
      "end = 10\n",
      " 10진수 정수 = 10, \n",
      " 실수 =  10.0, \n",
      " 8진수 = 12, \n",
      " 16진수 = a\n"
     ]
    }
   ],
   "source": [
    "print(\"10\"+\"20\") # 문자열 결합\n",
    "\n",
    "##서식지정\n",
    "end=10\n",
    "print(\"end = 10\\n 10진수 정수 = %d, \\n 실수 =  %.1f, \\n 8진수 = %o, \\n 16진수 = %x\"%(end,end,end,end))"
   ]
  },
  {
   "cell_type": "markdown",
   "id": "8efddd24",
   "metadata": {},
   "source": [
    "---\n",
    "### input() 함수\n",
    "*(1차시 테스트에서 나왔던 문제중 두 수를 입력받는 방법임 spilt()사용법도 추가해보았다.)*<br>\n",
    "*input().split()의 결과는 리스트이다.*"
   ]
  },
  {
   "cell_type": "code",
   "execution_count": 16,
   "id": "d4446101",
   "metadata": {},
   "outputs": [
    {
     "name": "stdout",
     "output_type": "stream",
     "text": [
      "당신의 이름은 강찬이고, 나이는 1살입니다.\n",
      "input의 반환타입은 문자열이다 \n",
      " name=  <class 'str'> age=  <class 'str'>\n",
      "형변환을 int(변수) 해줘야한다. \n",
      " age의 타입은 <class 'int'>\n"
     ]
    }
   ],
   "source": [
    "name, age= input(\"이름과  나이를 입력하세요: \").split()\n",
    "print(f\"당신의 이름은 {name}이고, 나이는 {age}살입니다.\")\n",
    "print(\"input의 반환타입은 문자열이다 \\n name= \",type(name),\"age= \", type(age))\n",
    "print(\"형변환을 int(변수) 해줘야한다. \\n age의 타입은\",type(int(age)))\n"
   ]
  },
  {
   "cell_type": "code",
   "execution_count": null,
   "id": "b97e11cc",
   "metadata": {},
   "outputs": [
    {
     "name": "stdout",
     "output_type": "stream",
     "text": [
      "map을 사용한 두 수의 입력 반환타입 변환 <class 'int'>, <class 'int'>\n",
      "두 input을 사용한 두 수의 입력 반환타입 변환 <class 'int'>, <class 'int'>\n",
      "eval을 사용한 두 수의 입력 반환타입 변환 <class 'int'>, <class 'int'>\n"
     ]
    }
   ],
   "source": [
    "a,b=map(int,input(\"두 수를 입력하세요: \").split())\n",
    "print(f\"map을 사용한 두 수의 입력 반환타입 변환 {type(a)}, {type(b)}\")\n",
    "\n",
    "\n",
    "a,b=int(input(\"첫번째 수: \")), int(input(\"두번째 수: \"))\n",
    "print(f\"두 input을 사용한 두 수의 입력 반환타입 변환 {type(a)}, {type(b)}\")\n",
    "\n",
    "a,b= eval(input(\"두 수를 입력하세요: \")) #eval()함수는 입력받은 수식이나 표현식을 실행하여 그 결과를 반환\n",
    "print(f\"eval을 사용한 두 수의 입력 반환타입 변환 {type(a)}, {type(b)}\")\n",
    "## eval 입력 방식은 10, 20 형태처럼 입력하며, tuple로 반환된다.\n"
   ]
  },
  {
   "cell_type": "markdown",
   "id": "38c73652",
   "metadata": {},
   "source": [
    "eval()은 문자열을 파이썬 코드처럼 실행하는 함수입니다. <br>\n",
    "원래 목적은 수식이나 표현식을 실행해서 결과값을 얻는 것. <br>\n",
    "\n",
    "*tmi: eval은 이번에 처음 알게된 사실이다. <br>\n",
    "eval은 보안상의 문제가 존재하는데, 문자열을 파이썬 코드 그대로 실행하므로 import문 즉 시스템 명령 실행을 할 수 있다는 것이다. <br>\n",
    "이는 java에서 sql인젝션 공격과 유사한 메커니즘처럼 보인다. <br>\n",
    "java에서 statement를 사용하면, 예를 들어 id입력창에 sql문을 넣어서 sql문에 대한 답을 볼 수 있는 문제점이 있다. <br>\n",
    "이러한 문제점으로 PreparedStatement에서 ? 바이딩을 사용하여 보안성을 갖는 부분이다. <br>*\n",
    "\n"
   ]
  },
  {
   "cell_type": "code",
   "execution_count": null,
   "id": "5d5a93cc",
   "metadata": {},
   "outputs": [
    {
     "name": "stdout",
     "output_type": "stream",
     "text": [
      "8\n"
     ]
    }
   ],
   "source": [
    "print(eval(\"3+5\"))"
   ]
  },
  {
   "cell_type": "markdown",
   "id": "e9fdf54b",
   "metadata": {},
   "source": [
    "---\n",
    "### input(), print() 함수의 사용 예"
   ]
  },
  {
   "cell_type": "code",
   "execution_count": 20,
   "id": "1ceda54d",
   "metadata": {},
   "outputs": [
    {
     "name": "stdout",
     "output_type": "stream",
     "text": [
      "hello,rkdcks\n"
     ]
    }
   ],
   "source": [
    "name=input(\"이름을 입력하세요: \")\n",
    "print(\"hello,\"+name)\n",
    "##print(\"hello\"+10) # 오류발생"
   ]
  },
  {
   "cell_type": "markdown",
   "id": "e27f7451",
   "metadata": {},
   "source": [
    "*print(\"hello\"+10) # 오류발생 <br>\n",
    "TypeError: can only concatenate str (not \"int\") to str"
   ]
  },
  {
   "cell_type": "code",
   "execution_count": 21,
   "id": "e3cfa861",
   "metadata": {},
   "outputs": [
    {
     "name": "stdout",
     "output_type": "stream",
     "text": [
      "섭씨 23.0도는 화씨 73.4도입니다.\n"
     ]
    }
   ],
   "source": [
    "c =float(input(\"섭씨 온도: \"))\n",
    "f = c*9/5+32\n",
    "print(f\"섭씨 {c}도는 화씨 {f}도입니다.\")"
   ]
  }
 ],
 "metadata": {
  "kernelspec": {
   "display_name": ".venv (3.12.0)",
   "language": "python",
   "name": "python3"
  },
  "language_info": {
   "codemirror_mode": {
    "name": "ipython",
    "version": 3
   },
   "file_extension": ".py",
   "mimetype": "text/x-python",
   "name": "python",
   "nbconvert_exporter": "python",
   "pygments_lexer": "ipython3",
   "version": "3.12.0"
  }
 },
 "nbformat": 4,
 "nbformat_minor": 5
}
