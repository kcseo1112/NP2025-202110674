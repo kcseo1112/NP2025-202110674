{
 "cells": [
  {
   "cell_type": "markdown",
   "id": "ce82fe1e",
   "metadata": {},
   "source": [
    "# 2장 데이터형, 연산자, 표현식 노트정리\n",
    "\n",
    "설명 : 이 파일은 2장 학습하면서 실행한 내용을 정리한 것이다.\n",
    "\n",
    "날짜: 2025.09.09\n",
    "\n",
    "학번 : 202110674\n",
    "\n",
    "저자: 서강찬\n",
    "\n",
    "\n"
   ]
  },
  {
   "cell_type": "markdown",
   "id": "4df5dbac",
   "metadata": {},
   "source": [
    "---\n",
    "\n",
    "### *파이썬을 사용하기전 알아야 할 사실\n",
    "파이썬은 기존에 사용하던 자바와 c언어와의 차이가 존재한다.\n",
    "\n",
    "1. Python은 인터프터 언어 (interpreted languge)로 실행 전에 컴파일할 필요없다.\n",
    "  \n",
    "   (대신 실행시점에서 한 줄씩 읽어 기계어로 변환하여 실행한다.)\n",
    "\n",
    "    (c언어, java는 컴파일 언어라서 실행하기 전에 컴퓨터가 이해할 수 있는 기계어로 컴파일 하는 과정이 필요하다.)\n",
    "\n",
    "2. Python은 '동적타이핑' 언어라서 변수 선언 시Type 지정 없이 변수를 생성하여 바로 사용할 수 있다.\n",
    "\n",
    "   값이 할당될때 자동으로 타입이 결정된다\n",
    "\n",
    "    (ex) c언어에서는 int, folat, double형 등의 타입지정을 미리 해줘야한다. )\n",
    "\n",
    "==> 이러한 특징으로 같은 문제인 \"Hello world\"를 출력하는 코드도 극명한 차이를 보여준다.\n",
    "\n",
    "---\n",
    "\n",
    "#### c언어\n",
    "\n",
    "#incldue <stdio.h>\n",
    "\n",
    "int main(void){\n",
    "\n",
    "    printf(\"hello world\")\n",
    "\n",
    "    return 0;\n",
    "\n",
    "}\n",
    "\n",
    "\n",
    "#### Python\n",
    "print(\"hello world\")\n",
    "\n",
    "---\n"
   ]
  },
  {
   "cell_type": "markdown",
   "id": "80e8dfbb",
   "metadata": {},
   "source": [
    "### hello world 출력\n"
   ]
  },
  {
   "cell_type": "code",
   "execution_count": null,
   "id": "95be3e63",
   "metadata": {},
   "outputs": [
    {
     "name": "stdout",
     "output_type": "stream",
     "text": [
      "Hello, World!, 여러분!!\n"
     ]
    }
   ],
   "source": [
    "print(\"Hello, World!, 여러분!!\")"
   ]
  },
  {
   "cell_type": "markdown",
   "id": "c04855f1",
   "metadata": {},
   "source": [
    "---\n",
    "### print 사용법도 다양하다."
   ]
  },
  {
   "cell_type": "code",
   "execution_count": 3,
   "id": "b1b5965c",
   "metadata": {},
   "outputs": [
    {
     "name": "stdout",
     "output_type": "stream",
     "text": [
      "x 값 = 3\n",
      "x = 3\n"
     ]
    }
   ],
   "source": [
    "x = 3\n",
    "print(f\"x 값 = {x}\")\n",
    "print(\"x =\",x)"
   ]
  },
  {
   "cell_type": "markdown",
   "id": "281c1031",
   "metadata": {},
   "source": [
    "---\n",
    "### print() 함수"
   ]
  },
  {
   "cell_type": "code",
   "execution_count": 2,
   "id": "adfb7066",
   "metadata": {},
   "outputs": [
    {
     "name": "stdout",
     "output_type": "stream",
     "text": [
      "30\n"
     ]
    }
   ],
   "source": [
    "print(10+20)"
   ]
  },
  {
   "cell_type": "code",
   "execution_count": 6,
   "id": "888a9a51",
   "metadata": {},
   "outputs": [
    {
     "name": "stdout",
     "output_type": "stream",
     "text": [
      "동양미래대학교\n",
      "abc abc abc \n",
      "30\n",
      "덧셈 : 10+20=30\n"
     ]
    }
   ],
   "source": [
    "print(\"동양미래대학교\")# 문자열 출력\n",
    "print(\"abc \"*3)# 문자열 반복\n",
    "x = 10\n",
    "y = 20  # 변수에 값 저장\n",
    "print(x+y) # 변수 값 출력    \n",
    "z=x+y \n",
    "print(f\"덧셈 : {x}+{y}={z}\") "
   ]
  },
  {
   "cell_type": "markdown",
   "id": "236cfcb3",
   "metadata": {},
   "source": [
    "---\n",
    "### print() 함수- 서식 지정\n"
   ]
  },
  {
   "cell_type": "code",
   "execution_count": 11,
   "id": "c673de24",
   "metadata": {},
   "outputs": [
    {
     "name": "stdout",
     "output_type": "stream",
     "text": [
      "1020\n",
      "end = 10\n",
      " 10진수 정수 = 10, \n",
      " 실수 =  10.0, \n",
      " 8진수 = 12, \n",
      " 16진수 = a\n"
     ]
    }
   ],
   "source": [
    "print(\"10\"+\"20\") # 문자열 결합\n",
    "\n",
    "##서식지정\n",
    "end=10\n",
    "print(\"end = 10\\n 10진수 정수 = %d, \\n 실수 =  %.1f, \\n 8진수 = %o, \\n 16진수 = %x\"%(end,end,end,end))"
   ]
  },
  {
   "cell_type": "markdown",
   "id": "8efddd24",
   "metadata": {},
   "source": [
    "---\n",
    "### input() 함수\n",
    "*(1차시 테스트에서 나왔던 문제중 두 수를 입력받는 방법임 spilt()사용법도 추가해보았다.)*<br>\n",
    "*input().split()의 결과는 리스트이다.*"
   ]
  },
  {
   "cell_type": "code",
   "execution_count": 16,
   "id": "d4446101",
   "metadata": {},
   "outputs": [
    {
     "name": "stdout",
     "output_type": "stream",
     "text": [
      "당신의 이름은 강찬이고, 나이는 1살입니다.\n",
      "input의 반환타입은 문자열이다 \n",
      " name=  <class 'str'> age=  <class 'str'>\n",
      "형변환을 int(변수) 해줘야한다. \n",
      " age의 타입은 <class 'int'>\n"
     ]
    }
   ],
   "source": [
    "name, age= input(\"이름과  나이를 입력하세요: \").split()\n",
    "print(f\"당신의 이름은 {name}이고, 나이는 {age}살입니다.\")\n",
    "print(\"input의 반환타입은 문자열이다 \\n name= \",type(name),\"age= \", type(age))\n",
    "print(\"형변환을 int(변수) 해줘야한다. \\n age의 타입은\",type(int(age)))\n"
   ]
  },
  {
   "cell_type": "code",
   "execution_count": null,
   "id": "b97e11cc",
   "metadata": {},
   "outputs": [
    {
     "name": "stdout",
     "output_type": "stream",
     "text": [
      "map을 사용한 두 수의 입력 반환타입 변환 <class 'int'>, <class 'int'>\n",
      "두 input을 사용한 두 수의 입력 반환타입 변환 <class 'int'>, <class 'int'>\n",
      "eval을 사용한 두 수의 입력 반환타입 변환 <class 'int'>, <class 'int'>\n"
     ]
    }
   ],
   "source": [
    "a,b=map(int,input(\"두 수를 입력하세요: \").split())\n",
    "print(f\"map을 사용한 두 수의 입력 반환타입 변환 {type(a)}, {type(b)}\")\n",
    "\n",
    "\n",
    "a,b=int(input(\"첫번째 수: \")), int(input(\"두번째 수: \"))\n",
    "print(f\"두 input을 사용한 두 수의 입력 반환타입 변환 {type(a)}, {type(b)}\")\n",
    "\n",
    "a,b= eval(input(\"두 수를 입력하세요: \")) #eval()함수는 입력받은 수식이나 표현식을 실행하여 그 결과를 반환\n",
    "print(f\"eval을 사용한 두 수의 입력 반환타입 변환 {type(a)}, {type(b)}\")\n",
    "## eval 입력 방식은 10, 20 형태처럼 입력하며, tuple로 반환된다.\n"
   ]
  },
  {
   "cell_type": "markdown",
   "id": "38c73652",
   "metadata": {},
   "source": [
    "eval()은 문자열을 파이썬 코드처럼 실행하는 함수입니다. <br>\n",
    "원래 목적은 수식이나 표현식을 실행해서 결과값을 얻는 것. <br>\n",
    "\n",
    "*tmi: eval은 이번에 처음 알게된 사실이다. <br>\n",
    "eval은 보안상의 문제가 존재하는데, 문자열을 파이썬 코드 그대로 실행하므로 import문 즉 시스템 명령 실행을 할 수 있다는 것이다. <br>\n",
    "이는 java에서 sql인젝션 공격과 유사한 메커니즘처럼 보인다. <br>\n",
    "java에서 statement를 사용하면, 예를 들어 id입력창에 sql문을 넣어서 sql문에 대한 답을 볼 수 있는 문제점이 있다. <br>\n",
    "이러한 문제점으로 PreparedStatement에서 ? 바이딩을 사용하여 보안성을 갖는 부분이다. <br>*\n",
    "\n"
   ]
  },
  {
   "cell_type": "code",
   "execution_count": null,
   "id": "5d5a93cc",
   "metadata": {},
   "outputs": [
    {
     "name": "stdout",
     "output_type": "stream",
     "text": [
      "8\n"
     ]
    }
   ],
   "source": [
    "print(eval(\"3+5\"))"
   ]
  },
  {
   "cell_type": "markdown",
   "id": "e9fdf54b",
   "metadata": {},
   "source": [
    "---\n",
    "### input(), print() 함수의 사용 예"
   ]
  },
  {
   "cell_type": "code",
   "execution_count": 20,
   "id": "1ceda54d",
   "metadata": {},
   "outputs": [
    {
     "name": "stdout",
     "output_type": "stream",
     "text": [
      "hello,rkdcks\n"
     ]
    }
   ],
   "source": [
    "name=input(\"이름을 입력하세요: \")\n",
    "print(\"hello,\"+name)\n",
    "##print(\"hello\"+10) # 오류발생"
   ]
  },
  {
   "cell_type": "markdown",
   "id": "e27f7451",
   "metadata": {},
   "source": [
    "*print(\"hello\"+10) # 오류발생 <br>\n",
    "TypeError: can only concatenate str (not \"int\") to str"
   ]
  },
  {
   "cell_type": "code",
   "execution_count": 21,
   "id": "e3cfa861",
   "metadata": {},
   "outputs": [
    {
     "name": "stdout",
     "output_type": "stream",
     "text": [
      "섭씨 23.0도는 화씨 73.4도입니다.\n"
     ]
    }
   ],
   "source": [
    "c =float(input(\"섭씨 온도: \"))\n",
    "f = c*9/5+32\n",
    "print(f\"섭씨 {c}도는 화씨 {f}도입니다.\")"
   ]
  },
  {
   "cell_type": "markdown",
   "id": "b1ea22f2",
   "metadata": {},
   "source": [
    "---\n",
    "### 부울형(Boolean)\n",
    "\n",
    "참(True) 또는 거짓(False) 중 하나의 값을 갖는 자료형(True, False), 비교 결과를 저장할 때 사용한다.<br>"
   ]
  },
  {
   "cell_type": "code",
   "execution_count": 5,
   "id": "d7b7b7ea",
   "metadata": {},
   "outputs": [
    {
     "name": "stdout",
     "output_type": "stream",
     "text": [
      "aVar의 타입 <class 'bool'> \n",
      "bVar의 타입 <class 'bool'>\n"
     ]
    },
    {
     "data": {
      "text/plain": [
       "False"
      ]
     },
     "execution_count": 5,
     "metadata": {},
     "output_type": "execute_result"
    }
   ],
   "source": [
    "aVar= True\n",
    "bVar= False\n",
    "print(\"aVar의 타입\",type(aVar),\"\\nbVar의 타입\", type(bVar))\n",
    "\n",
    "a=1\n",
    "b=2\n",
    "c=a>b\n",
    "c"
   ]
  },
  {
   "cell_type": "markdown",
   "id": "b6337d92",
   "metadata": {},
   "source": [
    "근데 여기서 정말 간단한 내용이지만 이 부울형의 사용이 정말 이거 밖에 없나 궁금증이 생겼다<br>\n",
    "그리고 흔히 이 true와 false는 1,0으로도 표현을 하던데 과연이와 관련된 내용은 없는지도 궁금했다<br>\n",
    "그 결과 python에서 True는 내부적으로 1,False는 0으로 취급된다는 사실을 발견했다."
   ]
  },
  {
   "cell_type": "code",
   "execution_count": null,
   "id": "d4148710",
   "metadata": {},
   "outputs": [
    {
     "name": "stdout",
     "output_type": "stream",
     "text": [
      "True + True =  2\n",
      "True * False =  0\n",
      "True * 10 =  10\n",
      "False + False =  0\n",
      "True 형변환 값 :  1\n",
      "False 형변환 값 :  0\n",
      "부울형 사칙연산에서 변수사용시 :  2\n",
      "형변환에서 변수사용시 :  1\n"
     ]
    }
   ],
   "source": [
    "print(\"True + True = \",True+True)\n",
    "print(\"True * False = \",True*False)\n",
    "print(\"True * 10 = \",True*10)\n",
    "\n",
    "print(\"False + False = \",False+False)\n",
    "print(\"True 형변환 값 : \",int(True))\n",
    "print(\"False 형변환 값 : \",int(False))\n",
    " \n",
    " #그럼 변수 사용에서는 어떨까?\n",
    "aVar= True\n",
    "bVar= True\n",
    "print(\"부울형 사칙연산에서 변수사용시 : \",aVar+bVar) #위와 같은 결과를 보여준다\n",
    "print(\"형변환에서 변수사용시 : \",int(aVar)) #위와 같은 결과를 보여준다\n",
    "\n",
    "intVar=10\n",
    "print(\"int형과 부울형의 연산 : \",intVar+True) #True가 1로 취급되어 11이 출력된다"
   ]
  },
  {
   "cell_type": "markdown",
   "id": "ecaf1b49",
   "metadata": {},
   "source": [
    "---\n",
    "### 정수형, 실수형, 문자열"
   ]
  },
  {
   "cell_type": "code",
   "execution_count": 25,
   "id": "39451e9d",
   "metadata": {},
   "outputs": [
    {
     "name": "stdout",
     "output_type": "stream",
     "text": [
      "<class 'int'>\n",
      "<class 'float'>\n",
      "<class 'str'>\n",
      "i'm student kc\n",
      "i\"m student \n",
      " kc\n"
     ]
    }
   ],
   "source": [
    "intVar=10\n",
    "print(type(intVar))\n",
    "\n",
    "floatVar=10.5\n",
    "print(type(floatVar))\n",
    "\n",
    "strVar=\"Hello\"\n",
    "print(type(strVar))\n",
    "\n",
    "print(\"i'm student \\\n",
    "kc\")\n",
    "print('i\"m student \\n kc')\n"
   ]
  },
  {
   "cell_type": "markdown",
   "id": "b1af46cd",
   "metadata": {},
   "source": [
    "---\n",
    "### 지정 연산자, 산술 연산자\n",
    "*지정연산자에서 파이썬 및 자바는 유니코드를 지원하므로 한글 변수명이 가능하다. <br>\n",
    "c언어는 불가능하다, 그렇다고 한글 변수명은 표준이 아니기 때문에 사용x*"
   ]
  },
  {
   "cell_type": "code",
   "execution_count": 30,
   "id": "b953fb8c",
   "metadata": {},
   "outputs": [
    {
     "name": "stdout",
     "output_type": "stream",
     "text": [
      "10\n",
      "나누기 a/b =  3.3333333333333335\n",
      "몫 a//b = 3\n",
      "나머지 a%b =  1\n",
      "지수 a**b = 1000\n"
     ]
    }
   ],
   "source": [
    "#지정 연산자 ; 할당연산자\n",
    "ㅁ=10\n",
    "print(ㅁ)\n",
    "\n",
    "#산술 연산자\n",
    "# +, -, *, /, //, %, **\n",
    "a=10\n",
    "b=3\n",
    "c=a/b\n",
    "print(\"나누기 a/b = \",c)\n",
    "\n",
    "c=a//b\n",
    "print(\"몫 a//b =\",c)\n",
    "\n",
    "c=a%b\n",
    "print(\"나머지 a%b = \",c)\n",
    "\n",
    "c=a**b\n",
    "print(\"지수 a**b =\",c)"
   ]
  },
  {
   "cell_type": "markdown",
   "id": "289c3596",
   "metadata": {},
   "source": [
    "---\n",
    "### 관계 연산자\n",
    "항의 대소관계 또는 동등관계 판정, 연산결과는 참 또는 거짓"
   ]
  },
  {
   "cell_type": "code",
   "execution_count": 31,
   "id": "ee0d6760",
   "metadata": {},
   "outputs": [
    {
     "name": "stdout",
     "output_type": "stream",
     "text": [
      "True\n",
      "False\n",
      "False\n",
      "True\n"
     ]
    }
   ],
   "source": [
    "score=85\n",
    "print(score>=60) # True\n",
    "print(score<60)  # False\n",
    "print(score==60) # False\n",
    "print(score!=60) # True"
   ]
  },
  {
   "cell_type": "markdown",
   "id": "cf1a7191",
   "metadata": {},
   "source": [
    "---\n",
    "### 논리 연산자\n",
    "논리곱(and), 논리합(or), 노리부정(not)"
   ]
  },
  {
   "cell_type": "code",
   "execution_count": 1,
   "id": "d37384a7",
   "metadata": {},
   "outputs": [
    {
     "name": "stdout",
     "output_type": "stream",
     "text": [
      "True\n",
      "False\n",
      "False\n"
     ]
    }
   ],
   "source": [
    "exam = 85\n",
    "report = 85\n",
    "print(exam>=80 and report >=80) # True\n",
    "print(exam>=90 or report >=90)  # False\n",
    "print(not(exam < 90))"
   ]
  },
  {
   "cell_type": "markdown",
   "id": "b87ca665",
   "metadata": {},
   "source": [
    "---\n",
    "### 멤버 연산자\n",
    "-in, 특정 문자열 또는 값이 문자열 또는 리스트에 속해 있는지 판별하는 연산자"
   ]
  },
  {
   "cell_type": "code",
   "execution_count": 4,
   "id": "a7847a5e",
   "metadata": {},
   "outputs": [
    {
     "name": "stdout",
     "output_type": "stream",
     "text": [
      "True\n",
      "False\n"
     ]
    }
   ],
   "source": [
    "print('py' in 'python')\n",
    "print('ty'in'python')"
   ]
  },
  {
   "cell_type": "markdown",
   "id": "c349c503",
   "metadata": {},
   "source": [
    "---\n",
    "### 식별 연산자\n",
    "-is, is not, 양쪽 변수의 주소가 같은지, 다른지 판단 : if id(a)==id(b), if id(a) != id(b)"
   ]
  },
  {
   "cell_type": "code",
   "execution_count": 5,
   "id": "6dcdaef7",
   "metadata": {},
   "outputs": [
    {
     "name": "stdout",
     "output_type": "stream",
     "text": [
      "140730233309656\n",
      "140730233309656\n",
      "True\n",
      "True\n",
      "False\n"
     ]
    }
   ],
   "source": [
    "a=2\n",
    "b=2\n",
    "print(id(a))\n",
    "print(id(b))\n",
    "\n",
    "print(id(a)==id(b))\n",
    "print(a is b)\n",
    "print(a is not b)"
   ]
  },
  {
   "cell_type": "markdown",
   "id": "a38f62ea",
   "metadata": {},
   "source": [
    "흠 놀라운 결과이다, c언어에서는 분명히 다른 주소값을 가질텐데 어째서 파이썬에서는 같은 결과값을 가질까?<br>\n",
    "추론해보았을 때는 ***자바***를 공부하면서 배우 ***상수풀***의 개념과 연관되어있을 것 같다. <br>\n",
    "***상수풀***을 통해서 문자열을 재사용함으로써 서로 다른 변수 a,b가 = hello로 ***(리터럴)*** 할당되면 같은 주소를 가르키는 것이다.<br>\n",
    "검색해본 결과 이 ***상수풀*** 의 개념이 python에도 적용되어있다는 사실을 알수 있었다.<br>\n",
    "하지만 여기서 python은 값의 범위가 작다는 것이다. 아래의 내용에서 확인해보자.<br>\n"
   ]
  },
  {
   "cell_type": "code",
   "execution_count": 11,
   "id": "5d643a30",
   "metadata": {},
   "outputs": [
    {
     "name": "stdout",
     "output_type": "stream",
     "text": [
      "2699608068352\n",
      "2699608068352\n",
      "[1, 2]\n"
     ]
    }
   ],
   "source": [
    "list = [1,2]\n",
    "list2=list\n",
    "print(id(list2))\n",
    "print (id(list))\n",
    "print(list2)"
   ]
  },
  {
   "cell_type": "code",
   "execution_count": null,
   "id": "0c8d3c46",
   "metadata": {},
   "outputs": [
    {
     "name": "stdout",
     "output_type": "stream",
     "text": [
      "140728843757976\n",
      "140728843757976\n",
      "2505804778256\n",
      "2505804777968\n"
     ]
    }
   ],
   "source": [
    "a1=256\n",
    "b1=256\n",
    "print(id(a1))\n",
    "print(id(b1))\n",
    "\n",
    "a=257\n",
    "b=257\n",
    "print(id(a))\n",
    "print(id(b))"
   ]
  },
  {
   "cell_type": "markdown",
   "id": "87331738",
   "metadata": {},
   "source": [
    "놀라운 결과 파이썬에서는 작은 정수 캐싱이라는 개념으로 [-5,256] 범위의 정수는 미리 생성해두고 전역적으로 재사용한다는 사실\n",
    "---"
   ]
  },
  {
   "cell_type": "code",
   "execution_count": 6,
   "id": "91548896",
   "metadata": {},
   "outputs": [
    {
     "name": "stdout",
     "output_type": "stream",
     "text": [
      "2505805419088\n",
      "2505805419088\n"
     ]
    }
   ],
   "source": [
    "a=\"helloooooooooooooooooooooooooooo\"\n",
    "b=\"helloooooooooooooooooooooooooooo\"\n",
    "print(id(a))\n",
    "print(id(b))"
   ]
  },
  {
   "cell_type": "markdown",
   "id": "79ff8c7d",
   "metadata": {},
   "source": [
    "위에 내용에서 수정할 내용은 상수풀의 개념이라고 했는데 파이썬에서는 ***문자열 인터닝*** 이라고 부르는게 정확하다.\n",
    "인터닝이란 불변 객채를 한번만 저장하고 공유하는 기법으로 파이썬, 자바, C# 등에서 모두 존재한다.\n",
    "(근데 불변객체와 가변객체에 대한 개념도 존재하는데 이는 나중에 차근히 알아보자)\n",
    "---"
   ]
  },
  {
   "cell_type": "markdown",
   "id": "60fe53e4",
   "metadata": {},
   "source": [
    "### 타입 에러(type error)\n",
    "연산할 수 없는 자료형을 연사하면 타입 에러 발생"
   ]
  },
  {
   "cell_type": "code",
   "execution_count": 10,
   "id": "0ec8cfe4",
   "metadata": {},
   "outputs": [
    {
     "ename": "TypeError",
     "evalue": "can only concatenate str (not \"int\") to str",
     "output_type": "error",
     "traceback": [
      "\u001b[1;31m---------------------------------------------------------------------------\u001b[0m",
      "\u001b[1;31mTypeError\u001b[0m                                 Traceback (most recent call last)",
      "Cell \u001b[1;32mIn[10], line 2\u001b[0m\n\u001b[0;32m      1\u001b[0m age \u001b[38;5;241m=\u001b[39m\u001b[38;5;241m23\u001b[39m\n\u001b[1;32m----> 2\u001b[0m message \u001b[38;5;241m=\u001b[39m \u001b[38;5;124;43m\"\u001b[39;49m\u001b[38;5;124;43mhappy\u001b[39;49m\u001b[38;5;124;43m\"\u001b[39;49m\u001b[38;5;241;43m+\u001b[39;49m\u001b[43mage\u001b[49m\u001b[38;5;241m+\u001b[39m\u001b[38;5;124m\"\u001b[39m\u001b[38;5;124mrd Birthdat\u001b[39m\u001b[38;5;124m\"\u001b[39m\n\u001b[0;32m      3\u001b[0m \u001b[38;5;28mprint\u001b[39m(message)\n",
      "\u001b[1;31mTypeError\u001b[0m: can only concatenate str (not \"int\") to str"
     ]
    }
   ],
   "source": [
    "age =23\n",
    "message = \"happy\"+age+\"rd Birthdat\"\n",
    "print(message)"
   ]
  }
 ],
 "metadata": {
  "kernelspec": {
   "display_name": "Python 3",
   "language": "python",
   "name": "python3"
  },
  "language_info": {
   "codemirror_mode": {
    "name": "ipython",
    "version": 3
   },
   "file_extension": ".py",
   "mimetype": "text/x-python",
   "name": "python",
   "nbconvert_exporter": "python",
   "pygments_lexer": "ipython3",
   "version": "3.12.0"
  }
 },
 "nbformat": 4,
 "nbformat_minor": 5
}
