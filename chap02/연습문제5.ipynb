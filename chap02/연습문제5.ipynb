{
 "cells": [
  {
   "cell_type": "markdown",
   "id": "ac748c7d",
   "metadata": {},
   "source": [
    "### 1. 초를 입력하면 분과 초로 표시하는 프로그램. 예를 들어, 200초를 입력하면 3분 20초로 표현하라\n"
   ]
  },
  {
   "cell_type": "code",
   "execution_count": 2,
   "id": "cbea8afe",
   "metadata": {},
   "outputs": [
    {
     "name": "stdout",
     "output_type": "stream",
     "text": [
      "200 초는  3 분 20 초이다\n"
     ]
    }
   ],
   "source": [
    "second = int(input(\"초(second)를 입력하세요\"))\n",
    "min = second // 60\n",
    "sec = second % 60\n",
    "print(second,\"초는 \",min,\"분\",sec,\"초이다\")"
   ]
  },
  {
   "cell_type": "markdown",
   "id": "41b1ff0d",
   "metadata": {},
   "source": [
    "### 2. 분(min)을 입력 하면, 일, 시간, 분으로 출력하는 프로그램을 만들어라. (예 : 1550분은 1일 1시간 50분)\n"
   ]
  },
  {
   "cell_type": "code",
   "execution_count": null,
   "id": "711b5b01",
   "metadata": {},
   "outputs": [
    {
     "name": "stdout",
     "output_type": "stream",
     "text": [
      "1 일 1 시간 50 min\n"
     ]
    }
   ],
   "source": [
    "minutes=int(input(\"분(min)을 입력하세요\"))\n",
    "day = minutes // 1440\n",
    "hour = (minutes %1440) //60\n",
    "min = (minutes % 1440) % 60\n",
    "\n",
    "print(day,\"일\",hour,\"시간\",min,\"분\")"
   ]
  },
  {
   "cell_type": "markdown",
   "id": "4400864b",
   "metadata": {},
   "source": [
    "### 3. 500만원을 년이율 5%로 복리 저금했을 때 5년 후의 원리금의 합계를 출력하는 프로그램"
   ]
  },
  {
   "cell_type": "code",
   "execution_count": null,
   "id": "a9b38666",
   "metadata": {},
   "outputs": [
    {
     "name": "stdout",
     "output_type": "stream",
     "text": [
      "638.1407812499999\n"
     ]
    }
   ],
   "source": [
    "money=int(input(\"저금할 금액(만 단위)을 입력하세요\"))\n",
    "for i in range(1,6):\n",
    "    money +=(money*0.05)\n",
    "print(money)"
   ]
  },
  {
   "cell_type": "markdown",
   "id": "e9ffcf6f",
   "metadata": {},
   "source": [
    "### 4. 1부터 n까지의 합은 n(n+1)/2로 주어진다. 1부터 100까지의 합을 구하여 출력하는 프로그램을 작성하고 실행하라.\n"
   ]
  },
  {
   "cell_type": "code",
   "execution_count": 11,
   "id": "10fbfaaa",
   "metadata": {},
   "outputs": [
    {
     "name": "stdout",
     "output_type": "stream",
     "text": [
      "5050.0\n"
     ]
    }
   ],
   "source": [
    "n = int(input(\"n까지의 합을 구하기\"))\n",
    "sub = n*(n+1)/2\n",
    "print(sub)"
   ]
  },
  {
   "cell_type": "markdown",
   "id": "a85328a6",
   "metadata": {},
   "source": [
    "### 5. 판매자가 딸기와 포도를 판매하고 있다. 포도 한 알의 무게는 75g이고 딸기 한 알의 무게는113.5g이다. 사용자로부터 포도 알의 개수와 딸기의 개수를 입력 받아 총 무게를 계산하여 출력하는 프로그램을 작성하고 실행하라.\n"
   ]
  },
  {
   "cell_type": "code",
   "execution_count": 15,
   "id": "55a4f183",
   "metadata": {},
   "outputs": [
    {
     "name": "stdout",
     "output_type": "stream",
     "text": [
      "포도 3750 g 딸기 5675.0 g\n"
     ]
    }
   ],
   "source": [
    "grape, straw = map(int,input(\"포도와 딸기의 개수를 각각 입력\").split())\n",
    "print(\"포도\",75*grape,\"g 딸기\",113.5*straw,\"g\")"
   ]
  }
 ],
 "metadata": {
  "kernelspec": {
   "display_name": "Python 3",
   "language": "python",
   "name": "python3"
  },
  "language_info": {
   "codemirror_mode": {
    "name": "ipython",
    "version": 3
   },
   "file_extension": ".py",
   "mimetype": "text/x-python",
   "name": "python",
   "nbconvert_exporter": "python",
   "pygments_lexer": "ipython3",
   "version": "3.12.0"
  }
 },
 "nbformat": 4,
 "nbformat_minor": 5
}
