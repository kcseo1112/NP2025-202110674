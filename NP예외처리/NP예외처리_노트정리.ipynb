{
 "cells": [
  {
   "cell_type": "markdown",
   "id": "b39d1fb1",
   "metadata": {},
   "source": [
    "#   예외처리 노트정리\n",
    "\n",
    "설명 : 이 파일은 예외처리 학습하면서 실행한 내용을 정리한 것이다.\n",
    "\n",
    "날짜: 2025.09.30\n",
    "\n",
    "학번 : 202110674\n",
    "\n",
    "저자: 서강찬\n",
    "\n",
    "\n"
   ]
  },
  {
   "cell_type": "markdown",
   "id": "2a5b2cf6",
   "metadata": {},
   "source": [
    "### error가 나오는 코드들"
   ]
  },
  {
   "cell_type": "code",
   "execution_count": 3,
   "id": "b3bd6246",
   "metadata": {},
   "outputs": [
    {
     "ename": "IndexError",
     "evalue": "list index out of range",
     "output_type": "error",
     "traceback": [
      "\u001b[1;31m---------------------------------------------------------------------------\u001b[0m",
      "\u001b[1;31mIndexError\u001b[0m                                Traceback (most recent call last)",
      "Cell \u001b[1;32mIn[3], line 4\u001b[0m\n\u001b[0;32m      1\u001b[0m \u001b[38;5;66;03m#5/0\u001b[39;00m\n\u001b[0;32m      3\u001b[0m a\u001b[38;5;241m=\u001b[39m[\u001b[38;5;241m0\u001b[39m,\u001b[38;5;241m1\u001b[39m,\u001b[38;5;241m2\u001b[39m]\n\u001b[1;32m----> 4\u001b[0m \u001b[43ma\u001b[49m\u001b[43m[\u001b[49m\u001b[38;5;241;43m3\u001b[39;49m\u001b[43m]\u001b[49m\n\u001b[0;32m      6\u001b[0m fp\u001b[38;5;241m=\u001b[39m\u001b[38;5;28mopen\u001b[39m(\u001b[38;5;124m\"\u001b[39m\u001b[38;5;124mNofile.txt\u001b[39m\u001b[38;5;124m\"\u001b[39m,\u001b[38;5;124m\"\u001b[39m\u001b[38;5;124mr\u001b[39m\u001b[38;5;124m\"\u001b[39m)\n\u001b[0;32m      8\u001b[0m \u001b[38;5;28mint\u001b[39m(\u001b[38;5;28minput\u001b[39m(\u001b[38;5;124m'\u001b[39m\u001b[38;5;124mType float number or string:\u001b[39m\u001b[38;5;124m'\u001b[39m))\n",
      "\u001b[1;31mIndexError\u001b[0m: list index out of range"
     ]
    }
   ],
   "source": [
    "#5/0\n",
    "\n",
    "a=[0,1,2]\n",
    "a[3]\n",
    "\n",
    "fp=open(\"Nofile.txt\",\"r\")\n",
    "\n",
    "int(input('Type float number or string:'))\n",
    "\n",
    "1+var*2\n",
    "\n",
    "\"str\"+1"
   ]
  },
  {
   "cell_type": "markdown",
   "id": "d8392f97",
   "metadata": {},
   "source": [
    "---\n",
    "### 예외처리\n",
    "try-except \n",
    "\n",
    "복합 try-except \n",
    "\n",
    "\n",
    "try-except-finally 문\n"
   ]
  },
  {
   "cell_type": "code",
   "execution_count": 7,
   "id": "30651c07",
   "metadata": {},
   "outputs": [
    {
     "name": "stdout",
     "output_type": "stream",
     "text": [
      "0으로 나눌 수 없습니다\n"
     ]
    }
   ],
   "source": [
    "b=0\n",
    "try:\n",
    " a = 1 / b\n",
    "except ZeroDivisionError:\n",
    "    print(\"0으로 나눌 수 없습니다\") \n",
    "else:\n",
    "    print(a) "
   ]
  },
  {
   "cell_type": "code",
   "execution_count": null,
   "id": "94b2d49d",
   "metadata": {},
   "outputs": [],
   "source": [
    "try:\n",
    "    a = int(input(\"Type a Number: \"))\n",
    "except Exception as e: \n",
    "    print(\"예외가 발생했습니다\", e) \n",
    "else:\n",
    "    print(a) "
   ]
  },
  {
   "cell_type": "code",
   "execution_count": null,
   "id": "ecefe4c8",
   "metadata": {},
   "outputs": [],
   "source": [
    "import sys\n",
    "\n",
    "try:\n",
    "    fp = open('sample.txt')\n",
    "    sl = fp.readline()\n",
    "    value = int\n",
    "    (sl.strip())\n",
    "except OSError as err:\n",
    "    print(\"OS 오류: \", err)\n",
    "\n",
    "except ValueError:\n",
    "    print(\"정수로 변환할수 없습니다\")\n",
    "except:\n",
    "    print(\"알 수 없는 오류가 발생하였습니다\")\n"
   ]
  },
  {
   "cell_type": "code",
   "execution_count": 8,
   "id": "a7e00d8e",
   "metadata": {},
   "outputs": [
    {
     "name": "stdout",
     "output_type": "stream",
     "text": [
      "0으로 나눌 수 없습니다\n",
      "예외처리가 끝났습니다\n"
     ]
    }
   ],
   "source": [
    "x=1\n",
    "y=0\n",
    "result=0\n",
    "try:\n",
    " result = x / y \n",
    "except ZeroDivisionError:\n",
    "    print(\"0으로 나눌 수 없습니다\") \n",
    "except:\n",
    "    print(result) \n",
    "finally:\n",
    "    print(\"예외처리가 끝났습니다\")"
   ]
  },
  {
   "cell_type": "markdown",
   "id": "b76c0c7a",
   "metadata": {},
   "source": [
    "---\n",
    "### 파이썬의 파일처리"
   ]
  },
  {
   "cell_type": "code",
   "execution_count": 9,
   "id": "4a1e8ef6",
   "metadata": {},
   "outputs": [
    {
     "ename": "AttributeError",
     "evalue": "'_io.TextIOWrapper' object has no attribute 'writeline'",
     "output_type": "error",
     "traceback": [
      "\u001b[1;31m---------------------------------------------------------------------------\u001b[0m",
      "\u001b[1;31mAttributeError\u001b[0m                            Traceback (most recent call last)",
      "Cell \u001b[1;32mIn[9], line 4\u001b[0m\n\u001b[0;32m      2\u001b[0m ofile\u001b[38;5;241m.\u001b[39mwrite(\u001b[38;5;124m\"\u001b[39m\u001b[38;5;124mJohn Doe, 123-456-7890\u001b[39m\u001b[38;5;130;01m\\n\u001b[39;00m\u001b[38;5;124mJane Smith, 987-654-3210\u001b[39m\u001b[38;5;130;01m\\n\u001b[39;00m\u001b[38;5;124m\"\u001b[39m)\n\u001b[0;32m      3\u001b[0m ofile\u001b[38;5;241m.\u001b[39mwrite(\u001b[38;5;124m\"\u001b[39m\u001b[38;5;124mAlice Johnson, 555-123-4567\u001b[39m\u001b[38;5;130;01m\\n\u001b[39;00m\u001b[38;5;124mBob Brown, 444-987-6543\u001b[39m\u001b[38;5;130;01m\\n\u001b[39;00m\u001b[38;5;124m\"\u001b[39m)\n\u001b[1;32m----> 4\u001b[0m \u001b[43mofile\u001b[49m\u001b[38;5;241;43m.\u001b[39;49m\u001b[43mwriteline\u001b[49m(\u001b[38;5;124m\"\u001b[39m\u001b[38;5;124mCharlie Davis, 333-222-1111\u001b[39m\u001b[38;5;130;01m\\n\u001b[39;00m\u001b[38;5;124m\"\u001b[39m)\n\u001b[0;32m      5\u001b[0m ofile\u001b[38;5;241m.\u001b[39mwriteline(\u001b[38;5;124m\"\u001b[39m\u001b[38;5;124mEve White, 777-888-9999\u001b[39m\u001b[38;5;130;01m\\n\u001b[39;00m\u001b[38;5;124m\"\u001b[39m)\n\u001b[0;32m      6\u001b[0m ofile\u001b[38;5;241m.\u001b[39mclose()\n",
      "\u001b[1;31mAttributeError\u001b[0m: '_io.TextIOWrapper' object has no attribute 'writeline'"
     ]
    }
   ],
   "source": [
    "ofile = open(\"./phonebook.txt\", \"w\", encoding=\"utf-8\") # 열기\n",
    "ofile.write(\"John Doe, 123-456-7890\\nJane Smith, 987-654-3210\\n\")\n",
    "ofile.write(\"Alice Johnson, 555-123-4567\\nBob Brown, 444-987-6543\\n\")\n",
    "ofile.writeline(\"Charlie Davis, 333-222-1111\\n\")\n",
    "ofile.writeline(\"Eve White, 777-888-9999\\n\")\n",
    "ofile.close()"
   ]
  },
  {
   "cell_type": "code",
   "execution_count": null,
   "id": "0dd8728d",
   "metadata": {},
   "outputs": [],
   "source": [
    "rfile = open(\"./phonebook.txt\", \"r\", encoding=\"utf-8\")\n",
    "Line : str = rfile.readline()\n",
    "while line:\n",
    "    print(line.strip())\n",
    "    line = rfile.readline()\n",
    "rfile.close()\n",
    "# or (단 파일 사이즈가 크면 메모리가 부족할 수 있어 앞의 것을 선호)\n",
    "rfile = open(\"./phonebook.txt\", \"r\", encoding=\"utf-8\")\n",
    "Lines : list = rfile.readlines()\n",
    "for line in lines:\n",
    "    print(line.strip())\n",
    "rfile.close()"
   ]
  },
  {
   "cell_type": "code",
   "execution_count": null,
   "id": "8cf82f59",
   "metadata": {},
   "outputs": [],
   "source": []
  }
 ],
 "metadata": {
  "kernelspec": {
   "display_name": "Python 3",
   "language": "python",
   "name": "python3"
  },
  "language_info": {
   "codemirror_mode": {
    "name": "ipython",
    "version": 3
   },
   "file_extension": ".py",
   "mimetype": "text/x-python",
   "name": "python",
   "nbconvert_exporter": "python",
   "pygments_lexer": "ipython3",
   "version": "3.12.0"
  }
 },
 "nbformat": 4,
 "nbformat_minor": 5
}
