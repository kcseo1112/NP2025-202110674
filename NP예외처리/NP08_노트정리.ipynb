{
 "cells": [
  {
   "cell_type": "markdown",
   "id": "b39d1fb1",
   "metadata": {},
   "source": [
    "#   예외처리 노트정리\n",
    "\n",
    "설명 : 이 파일은 예외처리 학습하면서 실행한 내용을 정리한 것이다.\n",
    "\n",
    "날짜: 2025.09.30\n",
    "\n",
    "학번 : 202110674\n",
    "\n",
    "저자: 서강찬\n",
    "\n",
    "\n"
   ]
  },
  {
   "cell_type": "markdown",
   "id": "2a5b2cf6",
   "metadata": {},
   "source": [
    "### error가 나오는 코드들"
   ]
  },
  {
   "cell_type": "code",
   "execution_count": null,
   "id": "b3bd6246",
   "metadata": {},
   "outputs": [
    {
     "ename": "IndexError",
     "evalue": "list index out of range",
     "output_type": "error",
     "traceback": [
      "\u001b[1;31m---------------------------------------------------------------------------\u001b[0m",
      "\u001b[1;31mIndexError\u001b[0m                                Traceback (most recent call last)",
      "Cell \u001b[1;32mIn[1], line 4\u001b[0m\n\u001b[0;32m      1\u001b[0m \u001b[38;5;66;03m#5/0\u001b[39;00m\n\u001b[0;32m      3\u001b[0m a\u001b[38;5;241m=\u001b[39m[\u001b[38;5;241m0\u001b[39m,\u001b[38;5;241m1\u001b[39m,\u001b[38;5;241m2\u001b[39m]\n\u001b[1;32m----> 4\u001b[0m \u001b[43ma\u001b[49m\u001b[43m[\u001b[49m\u001b[38;5;241;43m3\u001b[39;49m\u001b[43m]\u001b[49m\n\u001b[0;32m      6\u001b[0m fp\u001b[38;5;241m=\u001b[39m\u001b[38;5;28mopen\u001b[39m(\u001b[38;5;124m\"\u001b[39m\u001b[38;5;124mNofile.txt\u001b[39m\u001b[38;5;124m\"\u001b[39m,\u001b[38;5;124m\"\u001b[39m\u001b[38;5;124mr\u001b[39m\u001b[38;5;124m\"\u001b[39m)\n\u001b[0;32m      8\u001b[0m \u001b[38;5;28mint\u001b[39m(\u001b[38;5;28minput\u001b[39m(\u001b[38;5;124m'\u001b[39m\u001b[38;5;124mType float number or string:\u001b[39m\u001b[38;5;124m'\u001b[39m))\n",
      "\u001b[1;31mIndexError\u001b[0m: list index out of range"
     ]
    }
   ],
   "source": [
    "#5/0\n",
    "\n",
    "a=[0,1,2]\n",
    "a[3] \n",
    "\n",
    "fp=open(\"Nofile.txt\",\"r\")\n",
    "\n",
    "int(input('Type float number or string:'))\n",
    "\n",
    "1+var*2\n",
    "\n",
    "\"str\"+1"
   ]
  },
  {
   "cell_type": "markdown",
   "id": "d8392f97",
   "metadata": {},
   "source": [
    "---\n",
    "### 예외처리\n",
    "try-except \n",
    "\n",
    "복합 try-except \n",
    "\n",
    "\n",
    "try-except-finally 문\n"
   ]
  },
  {
   "cell_type": "code",
   "execution_count": 7,
   "id": "30651c07",
   "metadata": {},
   "outputs": [
    {
     "name": "stdout",
     "output_type": "stream",
     "text": [
      "0으로 나눌 수 없습니다\n"
     ]
    }
   ],
   "source": [
    "b=0\n",
    "try:\n",
    " a = 1 / b\n",
    "except ZeroDivisionError:\n",
    "    print(\"0으로 나눌 수 없습니다\") \n",
    "else:\n",
    "    print(a) "
   ]
  },
  {
   "cell_type": "code",
   "execution_count": null,
   "id": "94b2d49d",
   "metadata": {},
   "outputs": [],
   "source": [
    "try:\n",
    "    a = int(input(\"Type a Number: \"))\n",
    "except Exception as e: \n",
    "    print(\"예외가 발생했습니다\", e) \n",
    "else:\n",
    "    print(a) "
   ]
  },
  {
   "cell_type": "code",
   "execution_count": null,
   "id": "ecefe4c8",
   "metadata": {},
   "outputs": [],
   "source": [
    "import sys\n",
    "\n",
    "try:\n",
    "    fp = open('sample.txt')\n",
    "    sl = fp.readline()\n",
    "    value = int\n",
    "    (sl.strip())\n",
    "except OSError as err:\n",
    "    print(\"OS 오류: \", err)\n",
    "\n",
    "except ValueError:\n",
    "    print(\"정수로 변환할수 없습니다\")\n",
    "except:\n",
    "    print(\"알 수 없는 오류가 발생하였습니다\")\n"
   ]
  },
  {
   "cell_type": "code",
   "execution_count": 8,
   "id": "a7e00d8e",
   "metadata": {},
   "outputs": [
    {
     "name": "stdout",
     "output_type": "stream",
     "text": [
      "0으로 나눌 수 없습니다\n",
      "예외처리가 끝났습니다\n"
     ]
    }
   ],
   "source": [
    "x=1\n",
    "y=0\n",
    "result=0\n",
    "try:\n",
    " result = x / y \n",
    "except ZeroDivisionError:\n",
    "    print(\"0으로 나눌 수 없습니다\") \n",
    "except:\n",
    "    print(result) \n",
    "finally:\n",
    "    print(\"예외처리가 끝났습니다\")"
   ]
  },
  {
   "cell_type": "markdown",
   "id": "b76c0c7a",
   "metadata": {},
   "source": [
    "---\n",
    "### 파이썬의 파일처리"
   ]
  },
  {
   "cell_type": "code",
   "execution_count": 3,
   "id": "4a1e8ef6",
   "metadata": {},
   "outputs": [],
   "source": [
    "ofile = open(\"./phonebook.txt\", \"w\", encoding=\"utf-8\") # 열기\n",
    "ofile.write(\"John Doe, 123-456-7890\\nJane Smith, 987-654-3210\\n\")\n",
    "ofile.write(\"Alice Johnson, 555-123-4567\\nBob Brown, 444-987-6543\\n\")\n",
    "ofile.writelines(\"Charlie Davis, 333-222-1111\\n\")\n",
    "ofile.writelines(\"Eve White, 777-888-9999\\n\")\n",
    "ofile.close()"
   ]
  },
  {
   "cell_type": "code",
   "execution_count": 5,
   "id": "0dd8728d",
   "metadata": {},
   "outputs": [
    {
     "name": "stdout",
     "output_type": "stream",
     "text": [
      "John Doe, 123-456-7890\n",
      "Jane Smith, 987-654-3210\n",
      "Alice Johnson, 555-123-4567\n",
      "Bob Brown, 444-987-6543\n",
      "Charlie Davis, 333-222-1111\n",
      "Eve White, 777-888-9999\n",
      "John Doe, 123-456-7890\n",
      "Jane Smith, 987-654-3210\n",
      "Alice Johnson, 555-123-4567\n",
      "Bob Brown, 444-987-6543\n",
      "Charlie Davis, 333-222-1111\n",
      "Eve White, 777-888-9999\n"
     ]
    }
   ],
   "source": [
    "rfile = open(\"./phonebook.txt\", \"r\", encoding=\"utf-8\")\n",
    "line : str = rfile.readline()\n",
    "while line:\n",
    "    print(line.strip())\n",
    "    line = rfile.readline()\n",
    "rfile.close()\n",
    "\n",
    "# or (단 파일 사이즈가 크면 메모리가 부족할 수 있어 앞의 것을 선호)\n",
    "rfile = open(\"./phonebook.txt\", \"r\", encoding=\"utf-8\")\n",
    "lines : list = rfile.readlines()\n",
    "for line in lines:\n",
    "    print(line.strip())\n",
    "rfile.close()"
   ]
  },
  {
   "cell_type": "code",
   "execution_count": 6,
   "id": "8cf82f59",
   "metadata": {},
   "outputs": [
    {
     "name": "stdout",
     "output_type": "stream",
     "text": [
      "File not found: [Errno 2] No such file or directory: './phonebook1.txt'\n"
     ]
    }
   ],
   "source": [
    "try:\n",
    "    rfile = open(\"./phonebook1.txt\", \"r\", encoding=\"utf-8\")\n",
    "    lines : str = rfile.readline ()\n",
    "    while line:\n",
    "        print(line.strip())\n",
    "        line = rfile.readline()\n",
    "    rfile.close()\n",
    "except FileNotFoundError as e:\n",
    "    print(\"File not found:\", e)"
   ]
  },
  {
   "cell_type": "code",
   "execution_count": 8,
   "id": "ade180ee",
   "metadata": {},
   "outputs": [
    {
     "name": "stdout",
     "output_type": "stream",
     "text": [
      "Name: John Doe, Phone: 123-456-7890\n",
      "Name: Jane Smith, Phone: 987-654-3210\n",
      "Name: Alice Johnson, Phone: 555-123-4567\n",
      "Name: Bob Brown, Phone: 444-987-6543\n",
      "Name: Charlie Davis, Phone: 333-222-1111\n",
      "Name: Eve White, Phone: 777-888-9999\n",
      "Name: John Doe, Phone: 123-456-7890\n",
      "Name: Jane Smith, Phone: 987-654-3210\n",
      "Name: Alice Johnson, Phone: 555-123-4567\n",
      "Name: Bob Brown, Phone: 444-987-6543\n",
      "Name: Charlie Davis, Phone: 333-222-1111\n",
      "Name: Eve White, Phone: 777-888-9999\n"
     ]
    }
   ],
   "source": [
    "contacts: dict = {'123-456-7890': 'John Doe', '987-654-3210': 'Jane Smith', \n",
    "    '555-123-4567': 'Alice Johnson', '444-987-6543': 'Bob Brown', \n",
    "    '333-222-1111': 'Charlie Davis', '777-888-9999': 'Eve White'}\n",
    "\n",
    "with open(\"./phonebook.txt\", \"w\", encoding=\"utf-8\") as wfile:\n",
    "    for key, value in contacts.items():\n",
    "        wfile.write(f\"{value}, {key}\\n\")\n",
    "\n",
    "with open(\"./phonebook.txt\", \"r\", encoding=\"utf-8\") as rfile:\n",
    "    line : str = rfile.readline()\n",
    "    while line:\n",
    "        key, value = line.strip().split(\", \")\n",
    "        print(f\"Name: {key}, Phone: {value}\")\n",
    "        line = rfile.readline() \n",
    "with open(\"./phonebook.txt\", \"r\", encoding=\"utf-8\") as rfile:\n",
    "    for line in rfile:\n",
    "        key, value = line.strip().split(\", \")\n",
    "        print(f\"Name: {key.strip()}, Phone: {value.strip()}\")"
   ]
  },
  {
   "cell_type": "code",
   "execution_count": 9,
   "id": "f962471a",
   "metadata": {},
   "outputs": [],
   "source": [
    "ofile = open(\"./phonebook.txt\", \"a\", encoding=\"utf-8\") # 열기\n",
    "ofile.write(\"홍길동, 123-456-7890\\n김정렬, 987-654-3210\\n\")\n",
    "             \n",
    "ofile.close()"
   ]
  },
  {
   "cell_type": "markdown",
   "id": "0c665ca9",
   "metadata": {},
   "source": [
    "---\n",
    "이진파일 다루기 예제 : 고정길이 전화번호부 (연락처 클래스 선언)"
   ]
  },
  {
   "cell_type": "code",
   "execution_count": 2,
   "id": "709010a1",
   "metadata": {},
   "outputs": [],
   "source": [
    "class ContactRecord:\n",
    "    def __init__(self, phone: str, name: str, age: int = None):\n",
    "        self.phone = phone\n",
    "        self.name = name\n",
    "        self.age = age if age is not None else 0\n",
    "    def __str__(self) -> str:\n",
    "        return f\"전화번호: {self.phone}, 이름: {self.name}, 나이: {self.age}\"\n",
    "    \n",
    "# 테스트용 연락처 데이터\n",
    "contacts = [\n",
    "    ContactRecord(\"010-1234-5678\", \"홍길동\", 25),\n",
    "    ContactRecord(\"010-2345-6789\", \"김철수\", 30),\n",
    "    ContactRecord(\"010-3456-7890\", \"이영희\", 28),\n",
    "    ContactRecord(\"010-4567-8901\", \"박민수\", 35)\n",
    "]"
   ]
  },
  {
   "cell_type": "code",
   "execution_count": 4,
   "id": "a09e2e64",
   "metadata": {},
   "outputs": [],
   "source": [
    "import struct \n",
    "def pack_contact_record(contact: ContactRecord) -> bytes:\n",
    "    phone_bytes = contact.phone.encode('utf-8')[:16].ljust(16, b'\\x00')\n",
    "    name_bytes = contact.name.encode('utf-8')[:16].ljust(16, b'\\x00')#\n",
    "    return struct.pack(\"16s16si\", phone_bytes, name_bytes, contact.age)\n",
    "\n",
    "def unpack_contact_record(record: bytes) -> ContactRecord:\n",
    "    phone_bytes, name_bytes, age = struct.unpack(\"16s16si\", record) # struct.unpack으로 데이터 추출\n",
    "    phone = phone_bytes.rstrip(b'\\x00').decode('utf-8', errors='ignore') # 널 바이트 제거하고 디코딩\n",
    "    name = name_bytes.rstrip(b'\\x00').decode('utf-8', errors='ignore') # 널 바이트 제거하고 디코딩\n",
    "    \n",
    "    return ContactRecord(phone, name, age)\n"
   ]
  },
  {
   "cell_type": "markdown",
   "id": "2a347be1",
   "metadata": {},
   "source": [
    "---\n",
    "이진 파일 다루기 예제 : 전화번호부 읽고 쓰기"
   ]
  },
  {
   "cell_type": "code",
   "execution_count": 6,
   "id": "cdd174eb",
   "metadata": {},
   "outputs": [
    {
     "name": "stdout",
     "output_type": "stream",
     "text": [
      "36바이트 레코드로 저장:\n",
      " 저장: 전화번호: 010-1234-5678, 이름: 홍길동, 나이: 25\n",
      " 저장: 전화번호: 010-2345-6789, 이름: 김철수, 나이: 30\n",
      " 저장: 전화번호: 010-3456-7890, 이름: 이영희, 나이: 28\n",
      " 저장: 전화번호: 010-4567-8901, 이름: 박민수, 나이: 35\n",
      "\n",
      "36바이트 레코드 읽기:\n"
     ]
    },
    {
     "ename": "error",
     "evalue": "unpack requires a buffer of 36 bytes",
     "output_type": "error",
     "traceback": [
      "\u001b[1;31m---------------------------------------------------------------------------\u001b[0m",
      "\u001b[1;31merror\u001b[0m                                     Traceback (most recent call last)",
      "Cell \u001b[1;32mIn[6], line 17\u001b[0m\n\u001b[0;32m     14\u001b[0m     \u001b[38;5;28;01mif\u001b[39;00m \u001b[38;5;129;01mnot\u001b[39;00m record \u001b[38;5;129;01mor\u001b[39;00m \u001b[38;5;28mlen\u001b[39m(record) \u001b[38;5;241m<\u001b[39m \u001b[38;5;241m36\u001b[39m:\n\u001b[0;32m     15\u001b[0m         \u001b[38;5;28;01mbreak\u001b[39;00m\n\u001b[1;32m---> 17\u001b[0m contact \u001b[38;5;241m=\u001b[39m \u001b[43munpack_contact_record\u001b[49m\u001b[43m(\u001b[49m\u001b[43mrecord\u001b[49m\u001b[43m)\u001b[49m\n\u001b[0;32m     18\u001b[0m \u001b[38;5;28mprint\u001b[39m(\u001b[38;5;124mf\u001b[39m\u001b[38;5;124m\"\u001b[39m\u001b[38;5;124m 레코드 \u001b[39m\u001b[38;5;132;01m{\u001b[39;00mrecord_num\u001b[38;5;132;01m}\u001b[39;00m\u001b[38;5;124m: \u001b[39m\u001b[38;5;132;01m{\u001b[39;00mcontact\u001b[38;5;132;01m}\u001b[39;00m\u001b[38;5;124m\"\u001b[39m)\n\u001b[0;32m     19\u001b[0m record_num \u001b[38;5;241m+\u001b[39m\u001b[38;5;241m=\u001b[39m \u001b[38;5;241m1\u001b[39m\n",
      "Cell \u001b[1;32mIn[4], line 8\u001b[0m, in \u001b[0;36munpack_contact_record\u001b[1;34m(record)\u001b[0m\n\u001b[0;32m      7\u001b[0m \u001b[38;5;28;01mdef\u001b[39;00m \u001b[38;5;21munpack_contact_record\u001b[39m(record: \u001b[38;5;28mbytes\u001b[39m) \u001b[38;5;241m-\u001b[39m\u001b[38;5;241m>\u001b[39m ContactRecord:\n\u001b[1;32m----> 8\u001b[0m     phone_bytes, name_bytes, age \u001b[38;5;241m=\u001b[39m \u001b[43mstruct\u001b[49m\u001b[38;5;241;43m.\u001b[39;49m\u001b[43munpack\u001b[49m\u001b[43m(\u001b[49m\u001b[38;5;124;43m\"\u001b[39;49m\u001b[38;5;124;43m16s16si\u001b[39;49m\u001b[38;5;124;43m\"\u001b[39;49m\u001b[43m,\u001b[49m\u001b[43m \u001b[49m\u001b[43mrecord\u001b[49m\u001b[43m)\u001b[49m \u001b[38;5;66;03m# struct.unpack으로 데이터 추출\u001b[39;00m\n\u001b[0;32m      9\u001b[0m     phone \u001b[38;5;241m=\u001b[39m phone_bytes\u001b[38;5;241m.\u001b[39mrstrip(\u001b[38;5;124mb\u001b[39m\u001b[38;5;124m'\u001b[39m\u001b[38;5;130;01m\\x00\u001b[39;00m\u001b[38;5;124m'\u001b[39m)\u001b[38;5;241m.\u001b[39mdecode(\u001b[38;5;124m'\u001b[39m\u001b[38;5;124mutf-8\u001b[39m\u001b[38;5;124m'\u001b[39m, errors\u001b[38;5;241m=\u001b[39m\u001b[38;5;124m'\u001b[39m\u001b[38;5;124mignore\u001b[39m\u001b[38;5;124m'\u001b[39m) \u001b[38;5;66;03m# 널 바이트 제거하고 디코딩\u001b[39;00m\n\u001b[0;32m     10\u001b[0m     name \u001b[38;5;241m=\u001b[39m name_bytes\u001b[38;5;241m.\u001b[39mrstrip(\u001b[38;5;124mb\u001b[39m\u001b[38;5;124m'\u001b[39m\u001b[38;5;130;01m\\x00\u001b[39;00m\u001b[38;5;124m'\u001b[39m)\u001b[38;5;241m.\u001b[39mdecode(\u001b[38;5;124m'\u001b[39m\u001b[38;5;124mutf-8\u001b[39m\u001b[38;5;124m'\u001b[39m, errors\u001b[38;5;241m=\u001b[39m\u001b[38;5;124m'\u001b[39m\u001b[38;5;124mignore\u001b[39m\u001b[38;5;124m'\u001b[39m) \u001b[38;5;66;03m# 널 바이트 제거하고 디코딩\u001b[39;00m\n",
      "\u001b[1;31merror\u001b[0m: unpack requires a buffer of 36 bytes"
     ]
    }
   ],
   "source": [
    "print(\"36바이트 레코드로 저장:\")\n",
    "with open(\"./contacts_struct.bin\", \"wb\") as file:\n",
    "    for contact in contacts:\n",
    "    # pack_contact_record 함수를 사용하여 레코드 생성\n",
    "        record = pack_contact_record(contact)\n",
    "        file.write(record)\n",
    "        print(f\" 저장: {contact}\")\n",
    "\n",
    "print(\"\\n36바이트 레코드 읽기:\")\n",
    "with open(\"./contacts_struct.bin\", \"rb\") as file:\n",
    "    record_num = 1\n",
    "    while True:\n",
    "        record = file.read(36) \n",
    "        if not record or len(record) < 36:\n",
    "            break\n",
    "\n",
    "    contact = unpack_contact_record(record)\n",
    "    print(f\" 레코드 {record_num}: {contact}\")\n",
    "    record_num += 1\n",
    "\n",
    "print(f\"\\n파일 크기 확인:\")\n",
    "import os\n",
    "if os.path.exists(\"./contacts_struct.bin\"):\n",
    "    size = os.path.getsize(\"./contacts_struct.bin\")\n",
    "    records = size // 36\n",
    "    print(f\"contacts_struct.bin: {size}바이트 ({records}개 레코드)\")"
   ]
  }
 ],
 "metadata": {
  "kernelspec": {
   "display_name": "Python 3",
   "language": "python",
   "name": "python3"
  },
  "language_info": {
   "codemirror_mode": {
    "name": "ipython",
    "version": 3
   },
   "file_extension": ".py",
   "mimetype": "text/x-python",
   "name": "python",
   "nbconvert_exporter": "python",
   "pygments_lexer": "ipython3",
   "version": "3.12.0"
  }
 },
 "nbformat": 4,
 "nbformat_minor": 5
}
