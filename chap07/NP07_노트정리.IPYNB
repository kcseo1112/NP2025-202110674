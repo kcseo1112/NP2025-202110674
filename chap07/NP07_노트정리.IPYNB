{
 "cells": [
  {
   "cell_type": "markdown",
   "id": "e19a527d",
   "metadata": {},
   "source": [
    "# 7장 모듈 노트정리\n",
    "\n",
    "설명 : 이 파일은 7장 학습하면서 실행한 내용을 정리한 것이다.\n",
    "\n",
    "날짜: 2025.09.30\n",
    "\n",
    "학번 : 202110674\n",
    "\n",
    "저자: 서강찬\n",
    "\n",
    "\n"
   ]
  },
  {
   "cell_type": "code",
   "execution_count": 2,
   "id": "0adc7bd7",
   "metadata": {},
   "outputs": [
    {
     "data": {
      "text/plain": [
       "['__class__',\n",
       " '__del__',\n",
       " '__delattr__',\n",
       " '__dir__',\n",
       " '__doc__',\n",
       " '__enter__',\n",
       " '__eq__',\n",
       " '__exit__',\n",
       " '__format__',\n",
       " '__ge__',\n",
       " '__getattribute__',\n",
       " '__getstate__',\n",
       " '__gt__',\n",
       " '__hash__',\n",
       " '__init__',\n",
       " '__init_subclass__',\n",
       " '__le__',\n",
       " '__lt__',\n",
       " '__module__',\n",
       " '__ne__',\n",
       " '__new__',\n",
       " '__reduce__',\n",
       " '__reduce_ex__',\n",
       " '__repr__',\n",
       " '__setattr__',\n",
       " '__sizeof__',\n",
       " '__slots__',\n",
       " '__str__',\n",
       " '__subclasshook__',\n",
       " '__weakref__',\n",
       " '_accept',\n",
       " '_check_sendfile_params',\n",
       " '_closed',\n",
       " '_decref_socketios',\n",
       " '_io_refs',\n",
       " '_real_close',\n",
       " '_sendfile_use_send',\n",
       " '_sendfile_use_sendfile',\n",
       " 'accept',\n",
       " 'bind',\n",
       " 'close',\n",
       " 'connect',\n",
       " 'connect_ex',\n",
       " 'detach',\n",
       " 'dup',\n",
       " 'family',\n",
       " 'fileno',\n",
       " 'get_inheritable',\n",
       " 'getblocking',\n",
       " 'getpeername',\n",
       " 'getsockname',\n",
       " 'getsockopt',\n",
       " 'gettimeout',\n",
       " 'ioctl',\n",
       " 'listen',\n",
       " 'makefile',\n",
       " 'proto',\n",
       " 'recv',\n",
       " 'recv_into',\n",
       " 'recvfrom',\n",
       " 'recvfrom_into',\n",
       " 'send',\n",
       " 'sendall',\n",
       " 'sendfile',\n",
       " 'sendto',\n",
       " 'set_inheritable',\n",
       " 'setblocking',\n",
       " 'setsockopt',\n",
       " 'settimeout',\n",
       " 'share',\n",
       " 'shutdown',\n",
       " 'timeout',\n",
       " 'type']"
      ]
     },
     "execution_count": 2,
     "metadata": {},
     "output_type": "execute_result"
    }
   ],
   "source": [
    "import socket\n",
    "dir(socket)\n",
    "dir(socket.socket)"
   ]
  },
  {
   "cell_type": "markdown",
   "id": "07b5a528",
   "metadata": {},
   "source": [
    "---\n",
    "### 모듈 불러오기"
   ]
  },
  {
   "cell_type": "code",
   "execution_count": 3,
   "id": "a3391218",
   "metadata": {},
   "outputs": [
    {
     "data": {
      "text/plain": [
       "'DESKTOP-JFUABTI'"
      ]
     },
     "execution_count": 3,
     "metadata": {},
     "output_type": "execute_result"
    }
   ],
   "source": [
    "import socket\n",
    "socket.gethostname() #모듈이름.속성 \n"
   ]
  },
  {
   "cell_type": "code",
   "execution_count": 4,
   "id": "93d6d7d2",
   "metadata": {},
   "outputs": [
    {
     "data": {
      "text/plain": [
       "'DESKTOP-JFUABTI'"
      ]
     },
     "execution_count": 4,
     "metadata": {},
     "output_type": "execute_result"
    }
   ],
   "source": [
    "from socket import gethostname\n",
    "gethostname() # method 이름을 직접 호출"
   ]
  },
  {
   "cell_type": "code",
   "execution_count": null,
   "id": "8a81d34a",
   "metadata": {},
   "outputs": [],
   "source": [
    "import socket as so # 모듈이름 단축(별칭)\n",
    "so.gethostname()"
   ]
  },
  {
   "cell_type": "markdown",
   "id": "ecbfbcec",
   "metadata": {},
   "source": [
    "---\n",
    "### 모듈 탐색 경로"
   ]
  },
  {
   "cell_type": "code",
   "execution_count": 9,
   "id": "b246be8f",
   "metadata": {},
   "outputs": [
    {
     "data": {
      "text/plain": [
       "['c:\\\\NP2025_202110674\\\\NP2025-202110674\\\\chap07',\n",
       " 'c:\\\\Users\\\\User\\\\AppData\\\\Local\\\\Programs\\\\Python\\\\Python312\\\\python312.zip',\n",
       " 'c:\\\\Users\\\\User\\\\AppData\\\\Local\\\\Programs\\\\Python\\\\Python312\\\\DLLs',\n",
       " 'c:\\\\Users\\\\User\\\\AppData\\\\Local\\\\Programs\\\\Python\\\\Python312\\\\Lib',\n",
       " 'c:\\\\Users\\\\User\\\\AppData\\\\Local\\\\Programs\\\\Python\\\\Python312',\n",
       " '',\n",
       " 'c:\\\\Users\\\\User\\\\AppData\\\\Local\\\\Programs\\\\Python\\\\Python312\\\\Lib\\\\site-packages',\n",
       " 'c:\\\\Users\\\\User\\\\AppData\\\\Local\\\\Programs\\\\Python\\\\Python312\\\\Lib\\\\site-packages\\\\win32',\n",
       " 'c:\\\\Users\\\\User\\\\AppData\\\\Local\\\\Programs\\\\Python\\\\Python312\\\\Lib\\\\site-packages\\\\win32\\\\lib',\n",
       " 'c:\\\\Users\\\\User\\\\AppData\\\\Local\\\\Programs\\\\Python\\\\Python312\\\\Lib\\\\site-packages\\\\Pythonwin']"
      ]
     },
     "execution_count": 9,
     "metadata": {},
     "output_type": "execute_result"
    }
   ],
   "source": [
    "import os,sys\n",
    "sys.path\n",
    "#os.getcwd()"
   ]
  },
  {
   "cell_type": "markdown",
   "id": "b06cac36",
   "metadata": {},
   "source": [
    "---\n",
    "### 사용자 정의 모듈 만들기"
   ]
  },
  {
   "cell_type": "code",
   "execution_count": null,
   "id": "0b627337",
   "metadata": {},
   "outputs": [],
   "source": [
    "def sum(n):\n",
    "     sum = 0\n",
    "    for i in range(1, n+1):\n",
    "    sum = sum + i\n",
    "    return sum\n",
    "def power(x, n):\n",
    "    prod = 1\n",
    "    for i in range(1, n+1):\n",
    "        prod = prod * x\n",
    "    return prod\n",
    "\n",
    "if __name__ == '__main__': # myModule.py를 직접 호출할 때만 실행됨\n",
    " print(sum(5))\n",
    " print(power(2, 3))"
   ]
  },
  {
   "cell_type": "markdown",
   "id": "a3351074",
   "metadata": {},
   "source": [
    "if __name__ == '__main__':의 기능 <br>\n",
    "• 모듈을 독립된 프로그램으로 사용할 때만 실행됨 <br>\n",
    "• 모듈의 기능을 테스트하기 위해 사용됨<br>\n",
    "\n",
    "->모듈로 사용될때는 __main__이 파일명으로 들어간다?\n"
   ]
  },
  {
   "cell_type": "markdown",
   "id": "8f170d90",
   "metadata": {},
   "source": [
    "---\n",
    "### 유용한 모듈"
   ]
  },
  {
   "cell_type": "code",
   "execution_count": null,
   "id": "f4a429bc",
   "metadata": {},
   "outputs": [],
   "source": [
    "import sys\n",
    "\n",
    "sys.version\n",
    "\n",
    "sys.prefix\n",
    "\n",
    "sys.path\n",
    "\n",
    "sys.stdin.readline() #stdin(표준 입력장치를 뜻함 /키보드)\n",
    "\n",
    "sys.stdout.write('hello') #stdout(표준 출력/ 콘솔)"
   ]
  },
  {
   "cell_type": "markdown",
   "id": "0c9cd641",
   "metadata": {},
   "source": [
    "사용자의 값을 저장하는 argv? //argument"
   ]
  },
  {
   "cell_type": "code",
   "execution_count": null,
   "id": "5abfc49c",
   "metadata": {},
   "outputs": [],
   "source": [
    "import sys\n",
    "\n",
    "for i in range(1,len(sys.argv)):\n",
    "    print(sys.argv[i])\n",
    "    "
   ]
  }
 ],
 "metadata": {
  "kernelspec": {
   "display_name": "Python 3",
   "language": "python",
   "name": "python3"
  },
  "language_info": {
   "codemirror_mode": {
    "name": "ipython",
    "version": 3
   },
   "file_extension": ".py",
   "mimetype": "text/x-python",
   "name": "python",
   "nbconvert_exporter": "python",
   "pygments_lexer": "ipython3",
   "version": "3.12.0"
  }
 },
 "nbformat": 4,
 "nbformat_minor": 5
}
