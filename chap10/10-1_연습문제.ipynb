{
 "cells": [
  {
   "cell_type": "code",
   "execution_count": 2,
   "id": "9bfde91d",
   "metadata": {},
   "outputs": [],
   "source": [
    "from PIL import Image\n",
    "\n",
    "img = Image.open(\"cmd_wsl.png\")  # 이미지 경로\n",
    "img.show()\n"
   ]
  },
  {
   "cell_type": "markdown",
   "id": "80bf0dab",
   "metadata": {},
   "source": [
    "---\n",
    "## cmd 창에서 wsl -ifconfig 사용하기 \n",
    "Window에서는 ipconfig \\n\n",
    "Linux에서는 ifconfig 이다. \\n\n",
    "sudo = super user do 의 약어\n",
    "\n",
    "![cmd_wsl](cmd_wsl.png)\n",
    "![cmd_wsl](command_test.png)\n",
    "\n"
   ]
  },
  {
   "cell_type": "markdown",
   "id": "e4d5590c",
   "metadata": {},
   "source": []
  }
 ],
 "metadata": {
  "kernelspec": {
   "display_name": "Python 3",
   "language": "python",
   "name": "python3"
  },
  "language_info": {
   "codemirror_mode": {
    "name": "ipython",
    "version": 3
   },
   "file_extension": ".py",
   "mimetype": "text/x-python",
   "name": "python",
   "nbconvert_exporter": "python",
   "pygments_lexer": "ipython3",
   "version": "3.12.0"
  }
 },
 "nbformat": 4,
 "nbformat_minor": 5
}
