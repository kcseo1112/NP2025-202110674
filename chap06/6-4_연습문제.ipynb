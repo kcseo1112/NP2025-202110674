{
 "cells": [
  {
   "cell_type": "markdown",
   "id": "59a09e8b",
   "metadata": {},
   "source": [
    "###  Password_manager 클래스를 작성하라. 이 클래스는 사용자의 모든 과거 패스워드를 저장하는 old_passwords 리스트 변수를 갖는다. 리스트의 마지막 요소는 현재 패스워드이다. 현재 패스워드를 알려주는 get_password와 새로운 패스워드를 설정하는 set_password 메소드를 정의하라. set_password는 과거에 사용하지 않은 새로운 패스워드를 설정할 때만 유효하다. 문자열을 입력받아 현재 패스워드와 같은지 True 또는 False를 반환하는 is_correct 메소드를 정의하라."
   ]
  },
  {
   "cell_type": "code",
   "execution_count": 13,
   "id": "1236a6a7",
   "metadata": {},
   "outputs": [
    {
     "name": "stdout",
     "output_type": "stream",
     "text": [
      "비밀번호를 변경하였습니다.\n",
      "abc1\n",
      "사용하지 않았던 비밀번호를 입력하세요\n",
      "사용하지 않았던 비밀번호를 입력하세요\n",
      "현재 password와 비교 : True\n"
     ]
    }
   ],
   "source": [
    "class Password_manager():\n",
    "    def __init__(self,password):\n",
    "        self.__old_password=[password]\n",
    "        \n",
    "    def set_password(self,password):\n",
    "        if  password in self.__old_password:\n",
    "            print(\"사용하지 않았던 비밀번호를 입력하세요\")               \n",
    "        else:\n",
    "            print(\"비밀번호를 변경하였습니다.\")\n",
    "            self.__old_password.append(password)\n",
    "                \n",
    "                \n",
    "                \n",
    "    def get_password(self):\n",
    "        print(self.__old_password[-1])\n",
    "            \n",
    "    def is_correct(self,password):\n",
    "        return self.__old_password[-1]==password\n",
    "    \n",
    "pw1=Password_manager(\"abc2\")\n",
    "pw1.set_password(\"abc1\")\n",
    "pw1.get_password()\n",
    "pw1.set_password(\"abc2\")\n",
    "pw1.set_password(\"abc1\")\n",
    "\n",
    "password = input(\"비밀번호를 입력하세요\")\n",
    "print(\"현재 password와 비교 :\",pw1.is_correct(password))\n",
    "\n"
   ]
  },
  {
   "cell_type": "code",
   "execution_count": 1,
   "id": "0010d8db",
   "metadata": {},
   "outputs": [
    {
     "data": {
      "text/plain": [
       "['__add__',\n",
       " '__class__',\n",
       " '__class_getitem__',\n",
       " '__contains__',\n",
       " '__delattr__',\n",
       " '__delitem__',\n",
       " '__dir__',\n",
       " '__doc__',\n",
       " '__eq__',\n",
       " '__format__',\n",
       " '__ge__',\n",
       " '__getattribute__',\n",
       " '__getitem__',\n",
       " '__getstate__',\n",
       " '__gt__',\n",
       " '__hash__',\n",
       " '__iadd__',\n",
       " '__imul__',\n",
       " '__init__',\n",
       " '__init_subclass__',\n",
       " '__iter__',\n",
       " '__le__',\n",
       " '__len__',\n",
       " '__lt__',\n",
       " '__mul__',\n",
       " '__ne__',\n",
       " '__new__',\n",
       " '__reduce__',\n",
       " '__reduce_ex__',\n",
       " '__repr__',\n",
       " '__reversed__',\n",
       " '__rmul__',\n",
       " '__setattr__',\n",
       " '__setitem__',\n",
       " '__sizeof__',\n",
       " '__str__',\n",
       " '__subclasshook__',\n",
       " 'append',\n",
       " 'clear',\n",
       " 'copy',\n",
       " 'count',\n",
       " 'extend',\n",
       " 'index',\n",
       " 'insert',\n",
       " 'pop',\n",
       " 'remove',\n",
       " 'reverse',\n",
       " 'sort']"
      ]
     },
     "execution_count": 1,
     "metadata": {},
     "output_type": "execute_result"
    }
   ],
   "source": [
    "dir(list)"
   ]
  }
 ],
 "metadata": {
  "kernelspec": {
   "display_name": "Python 3",
   "language": "python",
   "name": "python3"
  },
  "language_info": {
   "codemirror_mode": {
    "name": "ipython",
    "version": 3
   },
   "file_extension": ".py",
   "mimetype": "text/x-python",
   "name": "python",
   "nbconvert_exporter": "python",
   "pygments_lexer": "ipython3",
   "version": "3.12.0"
  }
 },
 "nbformat": 4,
 "nbformat_minor": 5
}
