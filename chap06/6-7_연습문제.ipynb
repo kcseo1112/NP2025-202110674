{
 "cells": [
  {
   "cell_type": "markdown",
   "id": "fb9e3dc5",
   "metadata": {},
   "source": [
    "### 다음 Person 클래스를 상속 받는 Employee 클래스를 정의하라. Employee 클래스에employeeID 속성을 추가하고 getID() 메소드를 정의하라. getID() 메소드는 employeeID를반환하는 메소드이다.Employee 클래스를 이용하여 Employee(\"동양\", 65, 2019)로 생성된 객체의 이름, 나이, ID를 출력하라.\n"
   ]
  },
  {
   "cell_type": "code",
   "execution_count": 7,
   "id": "35f811ba",
   "metadata": {},
   "outputs": [
    {
     "name": "stdout",
     "output_type": "stream",
     "text": [
      "2019\n",
      "65\n",
      "동양\n"
     ]
    }
   ],
   "source": [
    "class Person:\n",
    "    def __init__(self,name,age):\n",
    "        self.name=name\n",
    "        self.age=age\n",
    "        \n",
    "    def getName(self):\n",
    "        print(self.name)\n",
    "        \n",
    "    def getAge(self):\n",
    "        print(self.age)\n",
    "        \n",
    "class Employee(Person):\n",
    "    def __init__(self,name,age,id):\n",
    "        super().__init__(name,age)\n",
    "        self.id=id\n",
    "        \n",
    "    def getId(self):\n",
    "        print(self.id)\n",
    "        \n",
    "\n",
    "em1=Employee(\"동양\",65,2019)\n",
    "em1.getId()\n",
    "em1.getAge()\n",
    "em1.getName()       \n",
    "    \n",
    "    \n"
   ]
  }
 ],
 "metadata": {
  "kernelspec": {
   "display_name": "Python 3",
   "language": "python",
   "name": "python3"
  },
  "language_info": {
   "codemirror_mode": {
    "name": "ipython",
    "version": 3
   },
   "file_extension": ".py",
   "mimetype": "text/x-python",
   "name": "python",
   "nbconvert_exporter": "python",
   "pygments_lexer": "ipython3",
   "version": "3.12.0"
  }
 },
 "nbformat": 4,
 "nbformat_minor": 5
}
