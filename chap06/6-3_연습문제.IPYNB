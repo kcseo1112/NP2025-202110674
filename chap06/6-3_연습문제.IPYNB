{
 "cells": [
  {
   "cell_type": "markdown",
   "id": "0ead8f66",
   "metadata": {},
   "source": [
    "### Moneybox 클래스를 작성하라. 이 클래스는 저축한 총액을 저장하는 인스턴스 변수가 있다. deposit(money) 메서드는 인수로 주어진 금액만큼 저축하고 총액을 출력한다, extract(money) 메소드는 money를 인출하고 총액을 출력한다. get_total() 메소드는 총액을 알려준다. \n",
    "\n"
   ]
  },
  {
   "cell_type": "code",
   "execution_count": 12,
   "id": "de4ec646",
   "metadata": {},
   "outputs": [],
   "source": [
    "class Moneybox():\n",
    "    def __init__(self,):\n",
    "        self.__totalMoney=0\n",
    "        \n",
    "    def deposit(self,money):\n",
    "        self.__totalMoney +=money\n",
    "        print(\"저축: \",money,\"총액: \",self.__totalMoney)\n",
    "        \n",
    "    def extract(self,money):\n",
    "        self.__totalMoney -= money\n",
    "        print(\"인출: \",money,\"총액: \",self.__totalMoney)\n",
    "        \n",
    "    def get_total(self):\n",
    "        #print(\"현재 저축 총액: \",self.__totalMoney)\n",
    "        return self.__totalMoney\n",
    "  \n"
   ]
  },
  {
   "cell_type": "markdown",
   "id": "2742dc00",
   "metadata": {},
   "source": [
    "### my_money = Moneybox() 객체를 생성하고 1000원을 저축하고, 200원을 인출한 다음, 총액을 출력하라.\n"
   ]
  },
  {
   "cell_type": "code",
   "execution_count": 14,
   "id": "2bc3b663",
   "metadata": {},
   "outputs": [
    {
     "name": "stdout",
     "output_type": "stream",
     "text": [
      "저축:  1000 총액:  1000\n",
      "인출:  200 총액:  800\n",
      "800\n"
     ]
    }
   ],
   "source": [
    "m1=Moneybox()\n",
    "m1.deposit(1000)\n",
    "m1.extract(200)\n",
    "print(m1.get_total())      "
   ]
  }
 ],
 "metadata": {
  "kernelspec": {
   "display_name": "Python 3",
   "language": "python",
   "name": "python3"
  },
  "language_info": {
   "codemirror_mode": {
    "name": "ipython",
    "version": 3
   },
   "file_extension": ".py",
   "mimetype": "text/x-python",
   "name": "python",
   "nbconvert_exporter": "python",
   "pygments_lexer": "ipython3",
   "version": "3.12.0"
  }
 },
 "nbformat": 4,
 "nbformat_minor": 5
}
