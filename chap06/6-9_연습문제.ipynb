{
 "cells": [
  {
   "cell_type": "markdown",
   "id": "a31fa447",
   "metadata": {},
   "source": []
  },
  {
   "cell_type": "code",
   "execution_count": 1,
   "id": "9499de06",
   "metadata": {},
   "outputs": [
    {
     "name": "stdout",
     "output_type": "stream",
     "text": [
      "__new__ is called\n",
      "\n",
      "__init__ is called\n",
      "\n",
      "3\n",
      "3\n"
     ]
    }
   ],
   "source": [
    "class Singleton(object):\n",
    "    def __new__(cls, *args, **kwargs):\n",
    "        if not hasattr(cls, \"_instance\"):         # Foo 클래스 객체에 _instance 속성이 없다면\n",
    "            print(\"__new__ is called\\n\")\n",
    "            cls._instance = super().__new__(cls)  # Foo 클래스의 객체를 생성하고 Foo._instance로 바인딩\n",
    "        return cls._instance                      # Foo._instance를 리턴\n",
    "\n",
    "    def __init__(self, data):\n",
    "        cls = type(self)\n",
    "        if not hasattr(cls, \"_init\"):             # Foo 클래스 객체에 _init 속성이 없다면\n",
    "            print(\"__init__ is called\\n\")\n",
    "            self.data = data\n",
    "            cls._init = True\n",
    "\n",
    "\n",
    "s1 = Singleton(3)\n",
    "s2 = Singleton(4)\n",
    "print(s1.data)\n",
    "print(s2.data)"
   ]
  }
 ],
 "metadata": {
  "kernelspec": {
   "display_name": "Python 3",
   "language": "python",
   "name": "python3"
  },
  "language_info": {
   "codemirror_mode": {
    "name": "ipython",
    "version": 3
   },
   "file_extension": ".py",
   "mimetype": "text/x-python",
   "name": "python",
   "nbconvert_exporter": "python",
   "pygments_lexer": "ipython3",
   "version": "3.12.0"
  }
 },
 "nbformat": 4,
 "nbformat_minor": 5
}
