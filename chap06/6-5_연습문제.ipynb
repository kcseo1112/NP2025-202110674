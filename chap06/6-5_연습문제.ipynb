{
 "cells": [
  {
   "cell_type": "markdown",
   "id": "dfcb0d0d",
   "metadata": {},
   "source": [
    "### Articles 클래스를 작성하라. 이 클래스는 각각 제품의 이름, 재고 수량, 단가를 나타내는 name, stock, price 인스턴스 변수를 가지고 있다. offer_price() 메소드는 구매 수량을 인수로 전달받아 총 가격을 반환한다. 구매 수량이 1~10개 이하이면 정상 가격을 반환하고, 11~50개이면 5% 할인된 가격을 반환한다. 또 51개 이상이면 10% 할인해 준다. purchase() 메소드는 구매 수량을 인수로 전달받아 재고 수량을 구매 수량만큼 감소한다.\n"
   ]
  },
  {
   "cell_type": "code",
   "execution_count": null,
   "id": "48c95762",
   "metadata": {},
   "outputs": [
    {
     "name": "stdout",
     "output_type": "stream",
     "text": [
      "가격: 38000\n",
      "재고: 9960\n"
     ]
    }
   ],
   "source": [
    "class Articles():\n",
    "    \n",
    "    def __init__(self,name,stock,price):\n",
    "        self.__name=name\n",
    "        self.__stock=stock\n",
    "        self.__price=price\n",
    "        \n",
    "    def offer_price(self,stock):\n",
    "        if stock <= 10:\n",
    "            return int(stock*(self.__price))\n",
    "        elif stock <= 50:\n",
    "            return int(stock*(self.__price)*0.95)\n",
    "        else:\n",
    "            return int(stock*(self.__price)*0.9)\n",
    "        \n",
    "    def purchase(self,stock):\n",
    "        return int(self.__stock-stock)\n",
    "    \n",
    "\n",
    "    \n",
    "\n"
   ]
  },
  {
   "cell_type": "markdown",
   "id": "f31241d3",
   "metadata": {},
   "source": [
    "### 이 클래스를 이용하여 단가 1000원인 ”mask“를 10,000장으로 설정하고, 40장 구매 가격과 구매 후 재고를 출력하라."
   ]
  },
  {
   "cell_type": "code",
   "execution_count": 7,
   "id": "33ebf3f8",
   "metadata": {},
   "outputs": [
    {
     "name": "stdout",
     "output_type": "stream",
     "text": [
      "가격: 38000\n",
      "재고: 9960\n"
     ]
    }
   ],
   "source": [
    "a1 = Articles(\"mask\",10000,1000)\n",
    "print(\"가격:\",a1.offer_price(40))\n",
    "print(\"재고:\",a1.purchase(40))"
   ]
  }
 ],
 "metadata": {
  "kernelspec": {
   "display_name": "Python 3",
   "language": "python",
   "name": "python3"
  },
  "language_info": {
   "codemirror_mode": {
    "name": "ipython",
    "version": 3
   },
   "file_extension": ".py",
   "mimetype": "text/x-python",
   "name": "python",
   "nbconvert_exporter": "python",
   "pygments_lexer": "ipython3",
   "version": "3.12.0"
  }
 },
 "nbformat": 4,
 "nbformat_minor": 5
}
