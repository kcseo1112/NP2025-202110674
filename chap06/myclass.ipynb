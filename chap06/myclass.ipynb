{
 "cells": [
  {
   "cell_type": "markdown",
   "id": "b7565800",
   "metadata": {},
   "source": [
    "### 파이썬 클래스 \n",
    "자바와 파이썬 모두 최상위 슈퍼클래스는 ***object클래스***이다."
   ]
  },
  {
   "cell_type": "code",
   "execution_count": 1,
   "id": "f2490dfe",
   "metadata": {},
   "outputs": [
    {
     "data": {
      "text/plain": [
       "['__class__',\n",
       " '__delattr__',\n",
       " '__dir__',\n",
       " '__doc__',\n",
       " '__eq__',\n",
       " '__format__',\n",
       " '__ge__',\n",
       " '__getattribute__',\n",
       " '__getstate__',\n",
       " '__gt__',\n",
       " '__hash__',\n",
       " '__init__',\n",
       " '__init_subclass__',\n",
       " '__le__',\n",
       " '__lt__',\n",
       " '__ne__',\n",
       " '__new__',\n",
       " '__reduce__',\n",
       " '__reduce_ex__',\n",
       " '__repr__',\n",
       " '__setattr__',\n",
       " '__sizeof__',\n",
       " '__str__',\n",
       " '__subclasshook__']"
      ]
     },
     "execution_count": 1,
     "metadata": {},
     "output_type": "execute_result"
    }
   ],
   "source": [
    "dir(object)"
   ]
  },
  {
   "cell_type": "markdown",
   "id": "4f401fd0",
   "metadata": {},
   "source": [
    "---\n",
    "### 추상함수 "
   ]
  },
  {
   "cell_type": "code",
   "execution_count": null,
   "id": "7b9b07a6",
   "metadata": {},
   "outputs": [
    {
     "name": "stdout",
     "output_type": "stream",
     "text": [
      "멍멍\n"
     ]
    },
    {
     "ename": "TypeError",
     "evalue": "Animal() takes no arguments",
     "output_type": "error",
     "traceback": [
      "\u001b[1;31m---------------------------------------------------------------------------\u001b[0m",
      "\u001b[1;31mTypeError\u001b[0m                                 Traceback (most recent call last)",
      "Cell \u001b[1;32mIn[2], line 14\u001b[0m\n\u001b[0;32m     11\u001b[0m \u001b[38;5;28mprint\u001b[39m(d\u001b[38;5;241m.\u001b[39msound()) \u001b[38;5;66;03m# \"멍멍\"\u001b[39;00m\n\u001b[0;32m     13\u001b[0m \u001b[38;5;66;03m######\u001b[39;00m\n\u001b[1;32m---> 14\u001b[0m a \u001b[38;5;241m=\u001b[39m \u001b[43mAnimal\u001b[49m\u001b[43m(\u001b[49m\u001b[43mDog\u001b[49m\u001b[43m)\u001b[49m\n\u001b[0;32m     15\u001b[0m a\u001b[38;5;241m.\u001b[39msound\n",
      "\u001b[1;31mTypeError\u001b[0m: Animal() takes no arguments"
     ]
    }
   ],
   "source": [
    "from abc import ABC, abstractmethod\n",
    "class Animal(ABC):\n",
    "    @abstractmethod\n",
    "    def sound(self):\n",
    "        pass\n",
    "class Dog(Animal):\n",
    "    def sound(self):\n",
    "        return \"멍멍\"\n",
    "# a = Animal() # 에러: 추상 클래스는 인스턴스화 불가\n",
    "d = Dog()\n",
    "print(d.sound()) # \"멍멍\"\n",
    "\n",
    "######\n",
    "# a = Animal(Dog) error\n",
    "#a.sound"
   ]
  },
  {
   "cell_type": "markdown",
   "id": "90198305",
   "metadata": {},
   "source": [
    "---\n",
    "### 정적 변수"
   ]
  },
  {
   "cell_type": "code",
   "execution_count": null,
   "id": "e2e1b8e1",
   "metadata": {},
   "outputs": [],
   "source": [
    "class Counter:\n",
    "    count = 0 # 클래스 변수(정적 멤버)\n",
    "    def __init__(self):\n",
    "        self.__object_counter = 1 # public\n",
    "    @staticmethod\n",
    "    def increment_class():\n",
    "        Counter.count += 1\n",
    "    def increment_object(self):\n",
    "        self.__object_counter += 1 # private\n",
    "\n",
    "if __name__ == \"__main__\": \n",
    "    Counter.increment_class()\n",
    "    print(Counter.count) # 1\n",
    "    \n",
    "    c = Counter() # 인스턴스 생성\n",
    "    print(c.object_counter) # 1\n",
    "    c.increment_object()\n",
    "    print(c.__object_counter) # private 접근 불가"
   ]
  },
  {
   "cell_type": "markdown",
   "id": "3bded47e",
   "metadata": {},
   "source": [
    "### if __name__ == \"__main__\": 정의 정리하세요! \n"
   ]
  },
  {
   "cell_type": "markdown",
   "id": "28bb65a2",
   "metadata": {},
   "source": [
    "### 파이썬 데코레이터\n",
    "• 함수(또는 메서드) 정의 위에 @데코레이터이름 형태로 사용\n",
    "• 해당 함수가 호출될 때 데코레이터 함수 내에서 해당 함수가 실행\n",
    "***• 데코레이터 함수의 정의는 다음 형식을 따라 wrapper 이름의 멤버 메소드를 정의*** \n",
    "\n",
    "데코레이터를 직접 정의하기!\n",
    "\n",
    "#wrapper 래퍼클래스의 사용 \n",
    "- def deco_func (func) :\n",
    " def wrapper(*args, **kwargs) :\n",
    " ...\n",
    " result = func(*args, **kwargs)\n",
    " …\n",
    " return result\n",
    " return wrapper\n"
   ]
  },
  {
   "cell_type": "code",
   "execution_count": null,
   "id": "78a99a7f",
   "metadata": {},
   "outputs": [
    {
     "name": "stdout",
     "output_type": "stream",
     "text": [
      "=== 예제 1: 기본 데코레이터 ===\n",
      "함수 실행전\n",
      "Hello, World!\n",
      "함수 실행후\n"
     ]
    }
   ],
   "source": [
    "def simple_decorator(func):\n",
    "    def wrapper(): #*args, **kwargs 생략\n",
    "        print(\"함수 실행전\")\n",
    "        result= func()\n",
    "        print(\"함수 실행후\")\n",
    "        return result\n",
    "    return wrapper\n",
    "\n",
    "@simple_decorator\n",
    "def say_hello():\n",
    "    print(\"Hello, World!\")\n",
    "\n",
    "if __name__ == \"__main__\":\n",
    "    print(\"=== 예제 1: 기본 데코레이터 ===\")\n",
    "    say_hello()\n",
    "    \n",
    "#### 코드 실행 순서를 알아보자\n",
    "# 함수 실행전\n",
    "# Hello, World!\n",
    "# 함수 실행후"
   ]
  },
  {
   "cell_type": "markdown",
   "id": "1b14b18a",
   "metadata": {},
   "source": [
    "### 파이썬 데코레이터2\n"
   ]
  },
  {
   "cell_type": "code",
   "execution_count": null,
   "id": "199500ab",
   "metadata": {},
   "outputs": [],
   "source": [
    "def say_hello():\n",
    "    print(\"Hello, World!\")\n",
    "\n",
    "def simple_decorator(func):\n",
    "    def wrapper():\n",
    "        print(\"함수 실행 전\")\n",
    "        result = func()\n",
    "        print(\"함수 실행 후\")\n",
    "        return result\n",
    "    return wrapper\n",
    "\n",
    "original_hello = say_hello # 원본 백업 #원래 함수를 다른 이름을 가진 함수로 (포인터라서 가능)\n",
    "say_hello = simple_decorator(original_say_hello) # 1. 함수재할당\n",
    "decorated_say_hello = simple_decorator(original_say_hello) # 2. 다른 함수명이름\n",
    "\n",
    "if __name__ == \"__main__\":\n",
    " say_hello()\n",
    " decorated_say_hello()\n",
    "# 함수 실행 전\n",
    "# Hello, World!"
   ]
  }
 ],
 "metadata": {
  "kernelspec": {
   "display_name": "Python 3",
   "language": "python",
   "name": "python3"
  },
  "language_info": {
   "codemirror_mode": {
    "name": "ipython",
    "version": 3
   },
   "file_extension": ".py",
   "mimetype": "text/x-python",
   "name": "python",
   "nbconvert_exporter": "python",
   "pygments_lexer": "ipython3",
   "version": "3.12.0"
  }
 },
 "nbformat": 4,
 "nbformat_minor": 5
}
