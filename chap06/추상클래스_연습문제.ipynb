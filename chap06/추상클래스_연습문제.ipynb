{
 "cells": [
  {
   "cell_type": "code",
   "execution_count": null,
   "id": "911fac38",
   "metadata": {},
   "outputs": [
    {
     "name": "stdout",
     "output_type": "stream",
     "text": [
      "춘식이이 멍멍하고 울어요\n",
      "야옹이이 멍멍하고 울어요\n",
      "현재 동물의수: 2\n"
     ]
    }
   ],
   "source": [
    "from abc import ABC, abstractmethod\n",
    "\n",
    "class Animal(ABC):\n",
    "    animalCount = 0 #클래스 변수(static)로 동물 객체 수를 저장\n",
    "    \n",
    "    def __init__(self):\n",
    "        Animal.animalCount +=1\n",
    "     \n",
    "    @abstractmethod   \n",
    "    def sound(self):\n",
    "        pass\n",
    "    \n",
    "    @staticmethod\n",
    "    def get_count():\n",
    "        return Animal.animalCount\n",
    "    \n",
    "class Dog(Animal):\n",
    "    def __init__(self,name):\n",
    "        super().__init__() #부모꺼 상속 자바에서는 그냥 super()\n",
    "        self.__name=name\n",
    "        \n",
    "    def sound(self): #상속했으면 재정의 필수\n",
    "        return f\"{self.__name}이 멍멍하고 울어요\"\n",
    "    \n",
    "class Cat(Animal):\n",
    "    def __init__(self,name):\n",
    "        super().__init__() #부모꺼 상속 자바에서는 그냥 super()\n",
    "        self.__name=name\n",
    "        \n",
    "    def sound(self): #상속했으면 재정의 필수\n",
    "        return f\"{self.__name}이 야옹하고 울어요\"    \n",
    "    \n",
    "animal:Animal=Dog(\"바둑이\")\n",
    "print(animal.sound())\n",
    "\n",
    "animallist=[Dog(\"토리\"),Cat(\"삼식\")]\n",
    "for animal in animallist:\n",
    "    print(animal.sound())\n",
    "    \n",
    "def make_sound(animals:list[Animal]):\n",
    "    for animal in animallist:\n",
    "        print(animal.sound())\n",
    "        \n",
    "if __name__== \"__main__\":\n",
    "    mydog =Dog(\"춘식이\")\n",
    "    mycat =Dog(\"야옹이\")\n",
    "    print(mydog.sound())\n",
    "    print(mycat.sound())\n",
    "    print(\"현재 동물의수:\",Animal.get_count())    "
   ]
  }
 ],
 "metadata": {
  "kernelspec": {
   "display_name": "Python 3",
   "language": "python",
   "name": "python3"
  },
  "language_info": {
   "codemirror_mode": {
    "name": "ipython",
    "version": 3
   },
   "file_extension": ".py",
   "mimetype": "text/x-python",
   "name": "python",
   "nbconvert_exporter": "python",
   "pygments_lexer": "ipython3",
   "version": "3.12.0"
  }
 },
 "nbformat": 4,
 "nbformat_minor": 5
}
