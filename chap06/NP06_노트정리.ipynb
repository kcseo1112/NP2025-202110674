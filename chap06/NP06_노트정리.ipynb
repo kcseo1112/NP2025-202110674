{
 "cells": [
  {
   "cell_type": "markdown",
   "id": "b7565800",
   "metadata": {},
   "source": [
    "### 파이썬 클래스 \n",
    "자바와 파이썬 모두 최상위 슈퍼클래스는 ***object클래스***이다."
   ]
  },
  {
   "cell_type": "code",
   "execution_count": 1,
   "id": "f2490dfe",
   "metadata": {},
   "outputs": [
    {
     "data": {
      "text/plain": [
       "['__class__',\n",
       " '__delattr__',\n",
       " '__dir__',\n",
       " '__doc__',\n",
       " '__eq__',\n",
       " '__format__',\n",
       " '__ge__',\n",
       " '__getattribute__',\n",
       " '__getstate__',\n",
       " '__gt__',\n",
       " '__hash__',\n",
       " '__init__',\n",
       " '__init_subclass__',\n",
       " '__le__',\n",
       " '__lt__',\n",
       " '__ne__',\n",
       " '__new__',\n",
       " '__reduce__',\n",
       " '__reduce_ex__',\n",
       " '__repr__',\n",
       " '__setattr__',\n",
       " '__sizeof__',\n",
       " '__str__',\n",
       " '__subclasshook__']"
      ]
     },
     "execution_count": 1,
     "metadata": {},
     "output_type": "execute_result"
    }
   ],
   "source": [
    "dir(object)"
   ]
  },
  {
   "cell_type": "markdown",
   "id": "fc1a07bf",
   "metadata": {},
   "source": [
    "---\n",
    "### 객체지향 프로그래밍\n",
    "객체의 속성(변수)과 동작(메소드)을 나타내는 클래스를 정의\n",
    "클래스를 통한 객체 생성(인스턴스화)하여 작성한 프로그램\n"
   ]
  },
  {
   "cell_type": "markdown",
   "id": "16c0e032",
   "metadata": {},
   "source": [
    "---\n",
    "### 클래스\n",
    "class 키워드로 정의 : class 클래스이름(부모클래스): //부모클래스는 없으면 생략가능\n",
    "객체 : 클래스를 인스턴스화 하여 만들어진 것, 클래스의 변수와 메서드에 접근 가능\n",
    "\n",
    "**초기화 함수 __init__()** <br>\n",
    "객체를 생성할 때 자동실행 메소드\n"
   ]
  },
  {
   "cell_type": "code",
   "execution_count": null,
   "id": "4558494c",
   "metadata": {},
   "outputs": [],
   "source": [
    "class Test: #클래스정의\n",
    "    name=\"홍길동\" # 클래스 속성\n",
    "t=Test() #객체 생성\n",
    "print(t.name) #객체에서 클래스 속성 접근"
   ]
  },
  {
   "cell_type": "code",
   "execution_count": null,
   "id": "680bc26c",
   "metadata": {},
   "outputs": [
    {
     "name": "stdout",
     "output_type": "stream",
     "text": [
      "색상: black 속도 60\n",
      "색상 Red\n",
      "속도 70\n",
      "속도 50\n"
     ]
    }
   ],
   "source": [
    "class Car:\n",
    "    def __init__(self,color,speed):\n",
    "        self.color = color\n",
    "        self.speed=speed\n",
    "        \n",
    "    def speedUp(self,v):\n",
    "        self.speed=self.speed+v\n",
    "        return self.speed\n",
    "    \n",
    "    def speedDown(self,v):\n",
    "        self.speed=self.speed-v\n",
    "        return self.speed\n",
    "    \n",
    "myCar = Car('black',60)\n",
    "print('색상:',myCar.color,'속도',myCar.speed)\n",
    "myCar.color='Red'\n",
    "print('색상',myCar.color)\n",
    "myCar.speedUp(10)\n",
    "print('속도',myCar.speed)\n",
    "myCar.speedDown(20)\n",
    "print('속도',myCar.speed)"
   ]
  },
  {
   "cell_type": "markdown",
   "id": "58700a82",
   "metadata": {},
   "source": [
    "### self. 가 없는 변수와 self.으로 선언된 변수의 차이를 구분해보자"
   ]
  },
  {
   "cell_type": "code",
   "execution_count": 15,
   "id": "fe0ddd42",
   "metadata": {},
   "outputs": [
    {
     "name": "stdout",
     "output_type": "stream",
     "text": [
      "색상: black 속도 60\n",
      "색상 Red\n",
      "속도 70\n",
      "속도 50\n",
      "클래스변수 count출력: 0\n",
      "클래스변수 count출력: 1\n",
      "인스턴스 변수 count 출력: 1\n",
      "test()실행후 인스턴스 변수 count 출력: 2\n",
      "클래스변수 count출력: 1\n"
     ]
    }
   ],
   "source": [
    "class Car:\n",
    "    count=0\n",
    "    def __init__(self,color,speed):\n",
    "        self.color = color\n",
    "        self.speed=speed\n",
    "        \n",
    "    def speedUp(self,v):\n",
    "        self.speed=self.speed+v\n",
    "        return self.speed\n",
    "    \n",
    "    def speedDown(self,v):\n",
    "        self.speed=self.speed-v\n",
    "        return self.speed\n",
    "    \n",
    "    def test(self):\n",
    "        self.count =2\n",
    "    \n",
    "myCar = Car('black',60)\n",
    "print('색상:',myCar.color,'속도',myCar.speed)\n",
    "myCar.color='Red'\n",
    "print('색상',myCar.color)\n",
    "myCar.speedUp(10)\n",
    "print('속도',myCar.speed)\n",
    "myCar.speedDown(20)\n",
    "print('속도',myCar.speed)\n",
    "\n",
    "print('클래스변수 count출력:',Car.count)\n",
    "Car.count=1 #클래스.변수 명으로 클래스 변수를 접근한다.\n",
    "print('클래스변수 count출력:',Car.count)\n",
    "\n",
    "\n",
    "print('인스턴스 변수 count 출력:', myCar.count)\n",
    "myCar.test()\n",
    "print('test()실행후 인스턴스 변수 count 출력:', myCar.count)\n",
    "print('클래스변수 count출력:',Car.count)\n",
    "\n"
   ]
  },
  {
   "cell_type": "markdown",
   "id": "96c3ad60",
   "metadata": {},
   "source": [
    "---\n",
    "### 클래스 상속\n",
    "상위클래스 = 부모클래스 or super class\n",
    "하위클래스 = 자식클래스 or sub class\n",
    "\n",
    "*추가 참고사항*\n",
    "self.__ 이때 사용되는 언더바에 따른 차이\n",
    "__ : prirvate\n",
    "_:protected\n",
    ": public\n",
    "의미를 가짐"
   ]
  },
  {
   "cell_type": "code",
   "execution_count": 24,
   "id": "68cb36c5",
   "metadata": {},
   "outputs": [
    {
     "name": "stdout",
     "output_type": "stream",
     "text": [
      "Name: seokangchan age: 24\n",
      "Name: kim age: 48\n",
      "My School is highSchool\n"
     ]
    }
   ],
   "source": [
    "class People:\n",
    "    def __init__(self, age=0, name=None):\n",
    "        self.__age=age \n",
    "        self.__name=name\n",
    "        \n",
    "    def introme(self):\n",
    "        print(\"Name:\",self.__name,\"age:\",str(self.__age))\n",
    "        \n",
    "class Teacher(People):\n",
    "    def __init__(self,age=0,name=None,school=None):\n",
    "        super().__init__(age,name) #부모클래스의 속성 할당\n",
    "        self.school=school #자신의 인스턴스 변수차가\n",
    "        \n",
    "    def showSchool(self):\n",
    "        print(\"My School is\",self.school)\n",
    "        \n",
    "p1 =People(24,\"seokangchan\")\n",
    "p1.introme()\n",
    "\n",
    "t1 = Teacher(48,\"kim\",\"highSchool\")\n",
    "t1.introme()\n",
    "t1.showSchool()"
   ]
  },
  {
   "cell_type": "markdown",
   "id": "a2eb59b4",
   "metadata": {},
   "source": [
    "### 메소드 오버라이딩\n",
    "자식클래스에서 부모클래스의 메소드를 수정해 다시 정의하는 것"
   ]
  },
  {
   "cell_type": "code",
   "execution_count": null,
   "id": "c3753a38",
   "metadata": {},
   "outputs": [
    {
     "name": "stdout",
     "output_type": "stream",
     "text": [
      "Name: 서강찬 Age: 23\n",
      "Name: 서강찬 Age: 24\n",
      "Grade: 3 "
     ]
    }
   ],
   "source": [
    "class People:\n",
    "    def __init__(self,age=0,name=None):\n",
    "        self.__age=age #private\n",
    "        self.__name=name\n",
    "        \n",
    "    def introme(self):\n",
    "        print(\"Name:\",self.__name,\"Age:\",str(self.__age))\n",
    "        \n",
    "class student(People):\n",
    "    def __init__(self,age=0,name=None,grade=None):\n",
    "        super().__init__(age,name)\n",
    "        self.__grade=grade\n",
    "    def introme(self):\n",
    "        super().introme()\n",
    "        print(\"Grade:\",self.__grade,end=\" \")\n",
    "        \n",
    "\n",
    "p1 =People(23,\"서강찬\")\n",
    "p1.introme()\n",
    "p2 = student(24,\"서강찬\",3)\n",
    "p2.introme()"
   ]
  },
  {
   "cell_type": "markdown",
   "id": "89ce8bca",
   "metadata": {},
   "source": [
    "### 다형성\n"
   ]
  },
  {
   "cell_type": "code",
   "execution_count": 9,
   "id": "a437910e",
   "metadata": {},
   "outputs": [
    {
     "name": "stdout",
     "output_type": "stream",
     "text": [
      "안녕하세요\n",
      "hello\n"
     ]
    }
   ],
   "source": [
    "class Korean(object):\n",
    "    def greeting(self):\n",
    "        print(\"안녕하세요\")\n",
    "class American(object):\n",
    "    def greeting(self):\n",
    "        print(\"hello\")\n",
    "        \n",
    "def saysomething(people):\n",
    "    people.greeting()\n",
    "\n",
    "k1=Korean()\n",
    "a1=American()\n",
    "\n",
    "saysomething(k1)\n",
    "saysomething(a1)"
   ]
  },
  {
   "cell_type": "markdown",
   "id": "4f401fd0",
   "metadata": {},
   "source": [
    "---\n",
    "### 추상클래스 "
   ]
  },
  {
   "cell_type": "code",
   "execution_count": 6,
   "id": "7b9b07a6",
   "metadata": {},
   "outputs": [
    {
     "name": "stdout",
     "output_type": "stream",
     "text": [
      "멍멍\n"
     ]
    }
   ],
   "source": [
    "from abc import ABC, abstractmethod\n",
    "class Animal(ABC):\n",
    "    @abstractmethod\n",
    "    def sound(self):\n",
    "        pass\n",
    "class Dog(Animal):\n",
    "    def sound(self):\n",
    "        return \"멍멍\"\n",
    "# a = Animal() # 에러: 추상 클래스는 인스턴스화 불가\n",
    "d = Dog()\n",
    "print(d.sound()) # \"멍멍\"\n",
    "\n",
    "######\n",
    "# a = Animal(Dog) error\n",
    "#a.sound"
   ]
  },
  {
   "cell_type": "markdown",
   "id": "90198305",
   "metadata": {},
   "source": [
    "---\n",
    "### 정적 변수"
   ]
  },
  {
   "cell_type": "code",
   "execution_count": null,
   "id": "e2e1b8e1",
   "metadata": {},
   "outputs": [],
   "source": [
    "class Counter:\n",
    "    count = 0 # 클래스 변수(정적 멤버)\n",
    "    def __init__(self):\n",
    "        self.__object_counter = 1 # public\n",
    "    @staticmethod\n",
    "    def increment_class():\n",
    "        Counter.count += 1\n",
    "    def increment_object(self):\n",
    "        self.__object_counter += 1 # private\n",
    "\n",
    "if __name__ == \"__main__\": \n",
    "    Counter.increment_class()\n",
    "    print(Counter.count) # 1\n",
    "    \n",
    "    c = Counter() # 인스턴스 생성\n",
    "    print(c.object_counter) # 1\n",
    "    c.increment_object()\n",
    "    print(c.__object_counter) # private 접근 불가"
   ]
  },
  {
   "cell_type": "markdown",
   "id": "3bded47e",
   "metadata": {},
   "source": [
    "### if __name__ == \"__main__\": \n",
    "“이 파일이 직접 실행된 경우에만 아래 코드를 실행하라”는 의미.\n",
    "즉 import해서 하는 경우 실행 x\n"
   ]
  },
  {
   "cell_type": "markdown",
   "id": "28bb65a2",
   "metadata": {},
   "source": [
    "### 파이썬 데코레이터\n",
    "• 함수(또는 메서드) 정의 위에 @데코레이터이름 형태로 사용\n",
    "• 해당 함수가 호출될 때 데코레이터 함수 내에서 해당 함수가 실행\n",
    "***• 데코레이터 함수의 정의는 다음 형식을 따라 wrapper 이름의 멤버 메소드를 정의*** \n",
    "\n",
    "데코레이터를 직접 정의하기!\n",
    "\n",
    "#wrapper 래퍼클래스의 사용 \n",
    "- def deco_func (func) :\n",
    " def wrapper(*args, **kwargs) :\n",
    " ...\n",
    " result = func(*args, **kwargs)\n",
    " …\n",
    " return result\n",
    " return wrapper\n"
   ]
  },
  {
   "cell_type": "code",
   "execution_count": null,
   "id": "78a99a7f",
   "metadata": {},
   "outputs": [
    {
     "name": "stdout",
     "output_type": "stream",
     "text": [
      "=== 예제 1: 기본 데코레이터 ===\n",
      "함수 실행전\n",
      "Hello, World!\n",
      "함수 실행후\n"
     ]
    }
   ],
   "source": [
    "def simple_decorator(func):\n",
    "    def wrapper(): #*args, **kwargs 생략\n",
    "        print(\"함수 실행전\")\n",
    "        result= func()\n",
    "        print(\"함수 실행후\")\n",
    "        return result\n",
    "    return wrapper\n",
    "\n",
    "@simple_decorator\n",
    "def say_hello():\n",
    "    print(\"Hello, World!\")\n",
    "\n",
    "if __name__ == \"__main__\":\n",
    "    print(\"=== 예제 1: 기본 데코레이터 ===\")\n",
    "    say_hello()\n",
    "    \n",
    "#### 코드 실행 순서를 알아보자\n",
    "# 함수 실행전\n",
    "# Hello, World!\n",
    "# 함수 실행후"
   ]
  },
  {
   "cell_type": "markdown",
   "id": "1b14b18a",
   "metadata": {},
   "source": [
    "### 파이썬 데코레이터2\n"
   ]
  },
  {
   "cell_type": "code",
   "execution_count": null,
   "id": "199500ab",
   "metadata": {},
   "outputs": [],
   "source": [
    "def say_hello():\n",
    "    print(\"Hello, World!\")\n",
    "\n",
    "def simple_decorator(func):\n",
    "    def wrapper():\n",
    "        print(\"함수 실행 전\")\n",
    "        result = func()\n",
    "        print(\"함수 실행 후\")\n",
    "        return result\n",
    "    return wrapper\n",
    "\n",
    "original_hello = say_hello # 원본 백업 #원래 함수를 다른 이름을 가진 함수로 (포인터라서 가능)\n",
    "say_hello = simple_decorator(original_say_hello) # 1. 함수재할당\n",
    "decorated_say_hello = simple_decorator(original_say_hello) # 2. 다른 함수명이름\n",
    "\n",
    "if __name__ == \"__main__\":\n",
    " say_hello()\n",
    " decorated_say_hello()\n",
    "# 함수 실행 전\n",
    "# Hello, World!"
   ]
  },
  {
   "cell_type": "markdown",
   "id": "b3655502",
   "metadata": {},
   "source": []
  }
 ],
 "metadata": {
  "kernelspec": {
   "display_name": "Python 3",
   "language": "python",
   "name": "python3"
  },
  "language_info": {
   "codemirror_mode": {
    "name": "ipython",
    "version": 3
   },
   "file_extension": ".py",
   "mimetype": "text/x-python",
   "name": "python",
   "nbconvert_exporter": "python",
   "pygments_lexer": "ipython3",
   "version": "3.12.0"
  }
 },
 "nbformat": 4,
 "nbformat_minor": 5
}
