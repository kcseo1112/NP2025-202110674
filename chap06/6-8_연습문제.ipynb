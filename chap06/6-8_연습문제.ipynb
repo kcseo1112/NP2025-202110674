{
 "cells": [
  {
   "cell_type": "markdown",
   "id": "874d3bf3",
   "metadata": {},
   "source": [
    "### 앞의 Person 클래스에서 새로운 Person 객체가 생성될 때 ID를 1001번지부터 순차적으로 자동으로 부여할 수 있도록 Employee 클래스를 포함해서 변경하시오. 새로운 Employee객체를 만들어 getId() 를 호출할 때 Id가 중복되면 안된다.\n"
   ]
  },
  {
   "cell_type": "code",
   "execution_count": 11,
   "id": "237af202",
   "metadata": {},
   "outputs": [
    {
     "name": "stdout",
     "output_type": "stream",
     "text": [
      "1001\n",
      "65\n",
      "동양\n",
      "1002\n",
      "65\n",
      "동양\n",
      "1005\n"
     ]
    }
   ],
   "source": [
    "class Person:\n",
    "    \n",
    "    count = 1000\n",
    "    def __init__(self,name,age):\n",
    "        self.name=name\n",
    "        self.age=age\n",
    "        Person.count += 1\n",
    "        self.id=Person.count\n",
    "        \n",
    "    def getName(self):\n",
    "        print(self.name)\n",
    "        \n",
    "    def getAge(self):\n",
    "        print(self.age)\n",
    "        \n",
    "    def getCount(self):\n",
    "        print(Person.count)\n",
    "        \n",
    "class Employee(Person):\n",
    "    def __init__(self,name,age):\n",
    "        super().__init__(name,age)\n",
    "        \n",
    "    def getId(self):\n",
    "        print(self.id)\n",
    "        \n",
    "\n",
    "em1=Employee(\"동양\",65)\n",
    "em1.getId()\n",
    "em1.getAge()\n",
    "em1.getName()\n",
    "\n",
    "em2=Employee(\"동양\",65)\n",
    "em2.getId()\n",
    "em2.getAge()\n",
    "em2.getName()\n",
    "\n",
    "em3=Employee(\"동양\",65)\n",
    "\n",
    "em4=Employee(\"동양\",65)\n",
    "\n",
    "\n",
    "em5=Employee(\"동양\",65)\n",
    "em5.getId()\n",
    "\n",
    "  \n",
    "\n",
    "    \n"
   ]
  }
 ],
 "metadata": {
  "kernelspec": {
   "display_name": "Python 3",
   "language": "python",
   "name": "python3"
  },
  "language_info": {
   "codemirror_mode": {
    "name": "ipython",
    "version": 3
   },
   "file_extension": ".py",
   "mimetype": "text/x-python",
   "name": "python",
   "nbconvert_exporter": "python",
   "pygments_lexer": "ipython3",
   "version": "3.12.0"
  }
 },
 "nbformat": 4,
 "nbformat_minor": 5
}
